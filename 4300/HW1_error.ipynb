{
 "cells": [
  {
   "cell_type": "code",
   "execution_count": 1,
   "metadata": {
    "collapsed": false,
    "nbgrader": {
     "grade": false,
     "grade_id": "header1",
     "locked": true,
     "solution": false
    }
   },
   "outputs": [
    {
     "name": "stderr",
     "output_type": "stream",
     "text": [
      "/Users/liang/anaconda/lib/python2.7/site-packages/matplotlib/font_manager.py:273: UserWarning: Matplotlib is building the font cache using fc-list. This may take a moment.\n",
      "  warnings.warn('Matplotlib is building the font cache using fc-list. This may take a moment.')\n"
     ]
    }
   ],
   "source": [
    "%matplotlib inline\n",
    "%precision 16\n",
    "import numpy\n",
    "import matplotlib.pyplot as plt"
   ]
  },
  {
   "cell_type": "markdown",
   "metadata": {
    "nbgrader": {
     "grade": false,
     "grade_id": "header2",
     "locked": true,
     "solution": false
    }
   },
   "source": [
    "Before you turn this problem in, make sure everything runs as expected. First, restart the kernel (in the menubar, select Kernel $\\rightarrow$ Restart) and then run all cells (in the menubar, select Cell $\\rightarrow$ Run All).\n",
    "\n",
    "Make sure you fill in any place that says YOUR CODE HERE or \"YOUR ANSWER HERE\", as well as your name and collaborators below:"
   ]
  },
  {
   "cell_type": "markdown",
   "metadata": {
    "nbgrader": {
     "grade": false,
     "grade_id": "header3",
     "locked": true,
     "solution": false
    }
   },
   "source": [
    "# HW 1 - Forms of Error"
   ]
  },
  {
   "cell_type": "markdown",
   "metadata": {
    "nbgrader": {
     "grade": false,
     "grade_id": "Q1",
     "locked": true,
     "points": 1,
     "solution": false
    }
   },
   "source": [
    "## Question 1\n",
    "\n",
    "Find the absolute error, relative error, and decimal precision (number of significant decimal digits) for the following $f$ and approximations $\\hat{f}$.  Note that here we may also mean precision as compared to $f$.  In these cases use the absolute error to help define $\\hat{f}$'s precision (each worth 5 points).\n",
    "\n",
    "**(a)** $f = \\pi$ and $\\hat{f} = 3.14$\n",
    "\n",
    "**(b)** $f = \\pi$ and $\\hat{f} = 22 / 7$\n",
    "\n",
    "**(c)** $f = \\log (n!)$ and $\\hat{f} = n~log(n) - n$ for $n = 5, ~~ 10, ~~ 100$ (Stirling's approximation)\n",
    "\n",
    "**(d)** $f = e^x$ and $\\hat{f} = T_n(x)$ where $T_n(x)$ is the Taylor polynomial approximation to $e^x$ expanded about $x = 0$.  Consider $N = 1, 2, 3$.  What vaule of $N$ is required for this approximation to be good to 6 digits of decimal precision?"
   ]
  },
  {
   "cell_type": "markdown",
   "metadata": {
    "nbgrader": {
     "grade": true,
     "grade_id": "A1",
     "locked": false,
     "points": 20,
     "solution": true
    }
   },
   "source": [
    "Liang Wei, UNI:lw2716\n",
    "\n",
    "**a)**\n",
    "```python\n",
    "a = np.pi\n",
    "b = 3.14\n",
    "print a, b, a-b, (a-b)/a\n",
    "```\n",
    "\n",
    "absolute error = $|f-\\hat f| = |\\pi - 3.14|$ = 0.00159265358979\n",
    "\n",
    "relative error = $\\frac{error_{absolute}}{\\pi}$ = 0.000506957382897\n",
    "   \n",
    "absolute decimal precision = 3\n",
    "   \n",
    "**b)**  \n",
    "```python\n",
    "a = np.pi\n",
    "b = 22.0/7.0\n",
    "print a, b, a - b, (a-b)/a\n",
    "```\n",
    "absolute error = $|f - \\hat f| = |\\pi - \\frac{22}{7}|$ = 0.00126448926735\n",
    "\n",
    "relative error = $\\frac{absolute error}{\\pi}$ = 0.000402499434771\n",
    "   \n",
    "decimal precision = 3\n",
    "   \n",
    "**c)** \n",
    "```python\n",
    "import scipy.misc as misc\n",
    "a = np.log(misc.factorial(100.0))\n",
    "b = 100.0 * np.log(100.0) - 100.0\n",
    "print a, b, a-b, (a - b)/a\n",
    "```\n",
    "\n",
    "**for n = 5:**\n",
    "\n",
    "absolute error = $|f - \\hat f| = |log(5!) - (5 \\times log(5) - 5)|$ = 1.74030218061\n",
    "\n",
    "relative error = $\\frac{absolute error}{log(5!)}$ = 0.363510220824\n",
    "              \n",
    "absolute decimal precision = 0, relative decimal precision = 0\n",
    "              \n",
    "**for n = 10:** \n",
    "   \n",
    "absolute error = $|f - \\hat f| = |log(10!) - (10 \\times log(10) - 10)|$ = 2.07856164314\n",
    "   \n",
    "relative error = $\\frac{absolute error}{log(10!)}$= 0.137612875249\n",
    "               \n",
    "absolute decimal precision = 1, relative decimal precision = 0\n",
    "               \n",
    "**for n = 100:** \n",
    "   \n",
    "absolute error = $|f - \\hat f| = |log(100!) - (100 \\times log(100) - 100)|$ = 3.22235695675\n",
    "   \n",
    "relative error = $\\frac{absolute error}{log(100!)}$ = 0.00885897203687\n",
    "                \n",
    "absolute decimal precision = 2, relative decimal precision = 2\n",
    "   \n",
    "   \n",
    "   \n",
    "**d)**\n",
    "```python\n",
    "import sympy\n",
    "import scipy.misc as misc\n",
    "def lamda(x):\n",
    "    n = 1\n",
    "    Tn = 1\n",
    "    while n <= 100:\n",
    "        Tn = Tn + x**n/misc.factorial(n)\n",
    "        if np.exp(x) - Tn < 0.000009:\n",
    "            return n, Tn\n",
    "        else:\n",
    "            n = n + 1\n",
    "    else:\n",
    "        print x\n",
    "        \n",
    "    lamda(1)\n",
    "```\n",
    "```python\n",
    "a = np.exp(1)\n",
    "b = lamda(1)\n",
    "absolute error = np.absolute(a - b)/a\n",
    "```\n",
    "**$T_{1}(1)$** \n",
    "\n",
    "absolute error = $|f - \\hat f| = |e^{1} - T_{1}(1)|$ = 0.718281828459\n",
    "   \n",
    "relative error = $\\frac{absolute error}{f}$ = 0.264241117657\n",
    "   \n",
    "decimal precision = 1\n",
    "   \n",
    "**$T_{1}(2)$**\n",
    "   \n",
    "absolute error = $|f - \\hat f| = |e^{1} - T_{1}(2)|$  = 0.218281828459\n",
    "   \n",
    "relative error = $\\frac{absolute error}{f}$ = 0.0803013970714\n",
    "   \n",
    "decimal precision = 1\n",
    "   \n",
    "**$T_{1}(3)$**\n",
    "   \n",
    "absolute error = $|f - \\hat f| = |e^{1} - T_{1}(3)|$ = 0.0516151617924\n",
    "   \n",
    "relative error = $\\frac{absolute error}{f}$ = 0.0189881568762\n",
    "   \n",
    "decimal precision = 2\n",
    "   \n",
    "If we want to get decimal precision as good as 6 digits, when we take x = 1, the N would be 8."
   ]
  },
  {
   "cell_type": "markdown",
   "metadata": {
    "nbgrader": {
     "grade": false,
     "grade_id": "Q2",
     "locked": true,
     "solution": false
    }
   },
   "source": [
    "## Question 2"
   ]
  },
  {
   "cell_type": "markdown",
   "metadata": {
    "collapsed": true,
    "nbgrader": {
     "grade": false,
     "grade_id": "Q2-a",
     "locked": true,
     "solution": false
    }
   },
   "source": [
    "**(a)** (10) Write a Python program to compute\n",
    "\n",
    "$$S_N = \\sum^N_{n=1} \\left [ \\frac{1}{n} - \\frac{1}{n+1} \\right ] = \\sum^N_{n=1} \\frac{1}{n (n + 1)}$$\n",
    "\n",
    "once using the first summation and once using the second for $N = 10, 10^2, \\ldots , 10^7$."
   ]
  },
  {
   "cell_type": "code",
   "execution_count": 2,
   "metadata": {
    "collapsed": false,
    "nbgrader": {
     "grade": false,
     "grade_id": "A2-a",
     "locked": false,
     "solution": true
    }
   },
   "outputs": [],
   "source": [
    "def sum_1(N):\n",
    "    \"\"\"Compute the summation S_N defined as\n",
    "    \n",
    "    \\sum^N_{n=1} \\left [ \\frac{1}{n} - \\frac{1}{n+1} \\right ]\n",
    "    \n",
    "    :Input:\n",
    "     *N* (int) The upper bound on the summation.\n",
    "    \n",
    "    Returns Sn (float)\n",
    "    \"\"\"\n",
    "    \n",
    "    # INSERT CODE HERE\n",
    "    Sn = 0.0\n",
    "    Sn += sum(1.0/n - 1.0/(n + 1) for n in xrange(1, N + 1))\n",
    "    return Sn\n",
    "\n",
    "\n",
    "def sum_2(N):\n",
    "    \"\"\"Compute the summation S_N defined as\n",
    "    \n",
    "    \\sum^N_{n=1} \\frac{1}{n (n + 1)}\n",
    "    \n",
    "    :Input:\n",
    "     *N* (int) The upper bound on the summation.\n",
    "    \n",
    "    Returns Sn (float)\n",
    "    \"\"\"\n",
    "\n",
    "    # INSERT CODE HERE\n",
    "    Sn = 0.0\n",
    "    Sn += sum(1.0/(n * (n + 1)) for n in xrange(1, N + 1))\n",
    "    return Sn\n",
    "#print sum_1(10)\n",
    "#print sum_2(1000)"
   ]
  },
  {
   "cell_type": "code",
   "execution_count": 3,
   "metadata": {
    "collapsed": false,
    "nbgrader": {
     "grade": true,
     "grade_id": "T2-a",
     "locked": true,
     "points": 10,
     "solution": false
    }
   },
   "outputs": [
    {
     "name": "stdout",
     "output_type": "stream",
     "text": [
      "Success!\n"
     ]
    }
   ],
   "source": [
    "N = numpy.array([10**n for n in xrange(1,8)])\n",
    "answer = numpy.zeros((2, N.shape[0]))\n",
    "for (n, upper_bound) in enumerate(N):\n",
    "    answer[0, n] = sum_1(upper_bound)\n",
    "    answer[1, n] = sum_2(upper_bound)\n",
    "numpy.testing.assert_allclose(answer[0, :], numpy.array([0.9090909090909089, 0.9900990099009896, \n",
    "                                                         0.9990009990009996, 0.9999000099990004, \n",
    "                                                         0.9999900001000117, 0.9999990000010469,\n",
    "                                                         0.9999998999998143]))\n",
    "numpy.testing.assert_allclose(answer[1, :], numpy.array([0.9090909090909091, 0.9900990099009898, \n",
    "                                                         0.9990009990009997, 0.9999000099990007, \n",
    "                                                         0.9999900001000122, 0.9999990000010476, \n",
    "                                                         0.9999998999998153]))\n",
    "print \"Success!\""
   ]
  },
  {
   "cell_type": "markdown",
   "metadata": {
    "nbgrader": {
     "grade": false,
     "grade_id": "Q2-b",
     "locked": true,
     "solution": false
    }
   },
   "source": [
    "**(b)**  (5) Compute the absolute error between the two summation approaches. "
   ]
  },
  {
   "cell_type": "code",
   "execution_count": 4,
   "metadata": {
    "collapsed": false,
    "nbgrader": {
     "grade": false,
     "grade_id": "A2-b",
     "locked": false,
     "solution": true
    }
   },
   "outputs": [],
   "source": [
    "def abs_error(N):\n",
    "    \"\"\"Compute the absolute error of the two sums defined as\n",
    "    \n",
    "    \\sum^N_{n=1} \\left [ \\frac{1}{n} - \\frac{1}{n+1} \\right ]\n",
    "    \n",
    "    and \n",
    "    \n",
    "    \\sum^N_{n=1} \\frac{1}{n (n + 1)}\n",
    "    \n",
    "    respectively for the given N.\n",
    "    \n",
    "    :Input:\n",
    "     *N* (int) The upper bound on the summation.\n",
    "    \n",
    "    Returns *error* (float)\n",
    "    \"\"\"\n",
    "    \n",
    "    # INSERT CODE HERE\n",
    "    abs_error = numpy.absolute(sum_1(N) - sum_2(N))\n",
    "    return abs_error\n",
    "#print abs_error(10)"
   ]
  },
  {
   "cell_type": "code",
   "execution_count": 5,
   "metadata": {
    "collapsed": false,
    "nbgrader": {
     "grade": true,
     "grade_id": "T2-b",
     "locked": true,
     "points": 5,
     "solution": false
    }
   },
   "outputs": [
    {
     "name": "stdout",
     "output_type": "stream",
     "text": [
      "Success!\n"
     ]
    }
   ],
   "source": [
    "N = numpy.array([10**n for n in xrange(1,8)])\n",
    "answer = numpy.zeros(N.shape)\n",
    "for (n, upper_bound) in enumerate(N):\n",
    "    answer[n] = abs_error(upper_bound)\n",
    "numpy.testing.assert_allclose(answer, numpy.array([1.1102230246251565e-16, 1.1102230246251565e-16, \n",
    "                                                   1.1102230246251565e-16, 3.3306690738754696e-16, \n",
    "                                                   4.4408920985006262e-16, 6.6613381477509392e-16, \n",
    "                                                   9.9920072216264089e-16]))\n",
    "print \"Success!\""
   ]
  },
  {
   "cell_type": "markdown",
   "metadata": {
    "nbgrader": {
     "grade": false,
     "grade_id": "Q2-c",
     "locked": true,
     "points": 1,
     "solution": false
    }
   },
   "source": [
    "**(c)** (10) Plot the relative and absolute error versus $N$.  Also plot a line where $\\epsilon_{\\text{machine}}$ should be.  Comment on what you see."
   ]
  },
  {
   "cell_type": "code",
   "execution_count": 6,
   "metadata": {
    "collapsed": false,
    "nbgrader": {
     "grade": true,
     "grade_id": "A2-c",
     "locked": false,
     "points": 10,
     "solution": true
    }
   },
   "outputs": [
    {
     "data": {
      "image/png": "[encoded data removed]",
      "text/plain": [
       "<matplotlib.figure.Figure at 0x10ca34a50>"
      ]
     },
     "metadata": {},
     "output_type": "display_data"
    }
   ],
   "source": [
    "fig = plt.figure()\n",
    "fig.set_figwidth(fig.get_figwidth() * 2)\n",
    "\n",
    "# HINT!  Use the plotting function semilogx to plot the errors\n",
    "#        Also, do not forget to label your plot\n",
    "\n",
    "# INSERT CODE HERE\n",
    "\n",
    "x = [10, 100, 1000, 10000, 100000, 1000000, 10000000]\n",
    "\n",
    "\n",
    "def sum_1(N):\n",
    "    \n",
    "    N = numpy.array([10**n for n in xrange(1, 8)])\n",
    "    Sn = []\n",
    "    for (n, upper_bound) in enumerate(N):\n",
    "        Sn.append(numpy.sum((1.0/i) - (1.0/(i + 1)) for i in xrange(1, upper_bound + 1)))\n",
    "    return Sn\n",
    "\n",
    "result_1 = sum_1(10)\n",
    "\n",
    "def sum_2(N):\n",
    "    N = numpy.array([10**n for n in xrange(1, 8)])\n",
    "    Sn = []\n",
    "    for (n, upper_bound) in enumerate(N):\n",
    "        Sn.append(numpy.sum((1.0/(i*(i+1)) for i in xrange(1, upper_bound + 1))))\n",
    "    return Sn\n",
    "\n",
    "result_2 = sum_2(10)\n",
    "\n",
    "absolute_error = numpy.absolute(numpy.subtract(result_1, result_2))\n",
    "relative_error = absolute_error/result_1\n",
    "\n",
    "\n",
    "axes = fig.add_subplot(1, 1, 1)\n",
    "axes.loglog(x, absolute_error, label = \"absolute error\")\n",
    "axes.loglog(x, relative_error, label = \"relative error\")\n",
    "\n",
    "epsilon = numpy.finfo(float).eps\n",
    "machine_epsilon = [epsilon, epsilon, epsilon, epsilon, epsilon, epsilon, epsilon]\n",
    "axes.loglog(x, machine_epsilon, label = \"machine epsilon\")\n",
    "axes.legend(loc=2)            \n",
    "axes.set_xlabel(\"N\")\n",
    "axes.set_ylabel(\"Error\")\n",
    "\n",
    "plt.show()"
   ]
  },
  {
   "cell_type": "markdown",
   "metadata": {},
   "source": [
    "Comment: when N is small, the error is also small. When N goes bigger, the error goes bigger. And it increases fast\n",
    "    during $10^3$ and $10^4$. Later, the rate of increase decreased, but it still goes bigger."
   ]
  },
  {
   "cell_type": "markdown",
   "metadata": {
    "nbgrader": {
     "grade": false,
     "grade_id": "Q2-d",
     "locked": true,
     "points": 1,
     "solution": false
    }
   },
   "source": [
    "**(d)** (5) Theorize what may have lead to the differences in answers."
   ]
  },
  {
   "cell_type": "markdown",
   "metadata": {
    "nbgrader": {
     "grade": true,
     "grade_id": "A2-d",
     "locked": false,
     "points": 5,
     "solution": true
    }
   },
   "source": [
    "When N becomes bigger, the absolute error goes bigger. Since everytime we calculate $\\frac{1}{n}$, $\\frac{1}{n + 1}$ and $\\frac{1}{n \\times (n +1)}$ they would lose accruary, the error finally will accumulated."
   ]
  },
  {
   "cell_type": "markdown",
   "metadata": {
    "nbgrader": {
     "grade": false,
     "grade_id": "Q3",
     "locked": true,
     "solution": false
    }
   },
   "source": [
    "## Question 3\n",
    "\n",
    "Following our discussion in lecture regarding approximating $e^x$ again consider the Taylor polynomial approximation:\n",
    "\n",
    "$$e^x \\approx T_n(x) = 1 + x + \\frac{x^2}{2!} + \\frac{x^3}{3!} + \\cdots + \\frac{x^n}{n!}$$"
   ]
  },
  {
   "cell_type": "markdown",
   "metadata": {
    "nbgrader": {
     "grade": false,
     "grade_id": "Q3-a",
     "locked": true,
     "points": 1,
     "solution": false
    }
   },
   "source": [
    "**(a)** Derive the upper bound on the *relative error* assuming that $x > 0$ and\n",
    "\n",
    "$$R_n = \\frac{|e^x - T_n(x)|}{|e^x|}$$\n",
    "\n",
    "is given by\n",
    "\n",
    "$$R_n \\leq \\left | \\frac{x^{n+1}}{(n + 1)!} \\right |$$"
   ]
  },
  {
   "cell_type": "markdown",
   "metadata": {
    "nbgrader": {
     "grade": true,
     "grade_id": "A3-a",
     "locked": false,
     "points": 15,
     "solution": true
    }
   },
   "source": [
    "Let's define $E(x)$ is the difference (absolute error) between $e^{x}$ and Taylor polynomial approximation $T_{n}(x)$. So, $$E(x) = |e^{x} - T_{n}(x)|$$\n",
    "\n",
    "the relative error $$R_{n} = |\\frac{E(x)}{f(x)}|$$, $$f(x) = e^{x}$$\n",
    "\n",
    "First, when $x = 0$, $e^{0} = 1$, $T_{n}(0) = 1$, $E_{x} = 0$. At $x = 0$, if we take $n$ derivative of both sides, we have $E^{(n)}(x) = f^{(n)}(x) - T^{(n)}_{n}(x) = 0$. \n",
    "\n",
    "Furthermore, if we take $n+1$ derivative of both sides, let's bound to $$E^{(n+1)}(x)\\leq M$$\n",
    "\n",
    "we have $$E^{(n+1)}(x) = f^{(n+1)}(x) - T^{(n+1)}_{n}(x) \\leq M$$\n",
    "\n",
    "In this equation, since $T_{n}$ only has $n$ degree, thus, $$T^{(n+1)}_{n} = 0$$ \n",
    "\n",
    "We have  $$f^{(n+1)}(x) \\leq M$$\n",
    "\n",
    "Then, we intergal both side, we will get $$E^{(n)}(x) = f^{(n)}(x) \\leq Mx + C$$\n",
    "\n",
    "We want to choose C as minimum as possible. So, if we put $x = 0$ here, $0\\leq C$, we choose $C = 0$. Keep doing this for n times. We will have $$E(x) \\leq \\frac{Mx^{n+1}}{(n + 1)!} $$\n",
    "\n",
    "Now, the relative error $$R_{n} = |\\frac{E(x)}{e^{x}}| \\leq E(x)$$ since $|e^{x}|>0$ all the time. \n",
    "\n",
    "Thus, $$R_{n} \\leq M|\\frac{x^{n+1}}{(n+1)!}|$$\n",
    "\n",
    "Since $e^{x}$ could be any number bigger than 0, if we choose $M = e^{x}$, we will have $$R_{n} \\leq |\\frac{x^{n+1}}{(n+1)!}|$$"
   ]
  },
  {
   "cell_type": "markdown",
   "metadata": {
    "nbgrader": {
     "grade": false,
     "grade_id": "Q3-b",
     "locked": true,
     "points": 1,
     "solution": false
    }
   },
   "source": [
    "**(b)** Show that for large $x$ and $n$, $r_n \\leq \\epsilon_{\\text{machine}}$ implies that we need at least $n > e \\cdot x$ terms in the series (where $e = \\text{exp}(1)$).\n",
    "\n",
    "*Hint* Use Stirling's approximation $log (n!) \\approx n~log~n - n$."
   ]
  },
  {
   "cell_type": "markdown",
   "metadata": {
    "nbgrader": {
     "grade": true,
     "grade_id": "A3-b",
     "locked": false,
     "points": 15,
     "solution": true
    }
   },
   "source": [
    "From (a), we have $$R_{n} \\leq |\\frac{x^{n+1}}{(n+1)!}|$$ If we can prove $$|\\frac{x^{n+1}}{(n+1)!}| \\leq \\epsilon$$ We can prove $$R_{n} \\leq \\epsilon$$ \n",
    "\n",
    "We times $(n + 1)!$ on both sides, then we get $$x^{n+1} \\leq \\epsilon_{machine}(n + 1)!$$ \n",
    "\n",
    "We put $\\log$ on each side, since $\\log$ function is monotonic, we have $$(n+1)\\log(x) \\leq \\log(\\epsilon) + \\log(n+1)!$$\n",
    "\n",
    "Next, from Stirling's approximation, we have $$\\log(n+1)! \\approx (n+1)\\log(n+1) - (n+1)$$\n",
    "\n",
    "Thus, we have $$(n+1)\\log(x) \\leq \\log(\\epsilon) + (n+1)\\log(n+1) - (n+1)$$\n",
    "\n",
    "Divide $n+1$ on each side, we have $$\\log(x) \\leq \\frac{\\log(\\epsilon)}{n+1} + \\log(n+1) - 1$$\n",
    "\n",
    "Since $\\log(\\epsilon)$ is very small, especially divided by $n+1$ when n is a large number. This item gone. \n",
    "\n",
    "Also, when n is large, $\\log(n) \\approx \\log(n+1)$ \n",
    "\n",
    "Then, we have $$1 \\leq \\log(n) - \\log(x)$$\n",
    "\n",
    "which implies $$1 \\leq \\log(\\frac{n}{x})$$\n",
    "\n",
    "Here, we take exponential of them and get $$e^1 \\leq e^{\\log(\\frac{n}{x})}$$ \n",
    "\n",
    "We have $$e \\leq \\frac{n}{x}$$ \n",
    "\n",
    "Then we get $$n \\geq e \\cdot x$$\n",
    "\n",
    "So, because $R_{n} \\leq |\\frac{x^{n+1}}{(n+1)!}|$ we proved if $R_{n} \\leq \\epsilon$ we need at least $n \\geq e \\cdot x$"
   ]
  },
  {
   "cell_type": "markdown",
   "metadata": {
    "nbgrader": {
     "grade": false,
     "grade_id": "Q3-c",
     "locked": true,
     "solution": false
    }
   },
   "source": [
    "**(c)** Write a Python function that accurately computes $T_n$ to the specified relative error tolerance and returns both the estimate on the range and the number of terms in the series needed over the interval $[-2, 2]$.  Note that the testing tolerance will be $8 \\cdot \\epsilon_{\\text{machine}}$.\n",
    "\n",
    "Make sure to document your code including expected inputs, outputs, and assumptions being made."
   ]
  },
  {
   "cell_type": "code",
   "execution_count": 7,
   "metadata": {
    "collapsed": false,
    "nbgrader": {
     "grade": false,
     "grade_id": "A3-c",
     "locked": false,
     "solution": true
    }
   },
   "outputs": [],
   "source": [
    "# HINT: Think about how we evaluated polynomials efficiently in class\n",
    "\n",
    "import scipy.misc as misc\n",
    "import sympy\n",
    "\n",
    "def Tn_exp(x, tolerance=1e-3):\n",
    "    \"\"\"This function takes x as input, compute how many terms we need to get T(n) close to e^x\n",
    "    \n",
    "    with an acceptable relative error. It returns both the estimate on the range and the number\n",
    "    \n",
    "    of terms in the series needed over the interval [-2, 2].\n",
    "    \n",
    "    \"\"\"\n",
    "    MAX_N = 100\n",
    "    \n",
    "    # INSERT CODE HERE\n",
    "    n = 1\n",
    "    Tn = 1.0\n",
    "    while n <= MAX_N:\n",
    "        Tn = Tn + x**n/misc.factorial(n)\n",
    "        abs_error = numpy.absolute(numpy.exp(x) - Tn)\n",
    "        rel_error = abs_error / numpy.exp(x)\n",
    "        if numpy.all(rel_error < tolerance):\n",
    "            break\n",
    "        else:\n",
    "            n = n + 1\n",
    "    else: \n",
    "        print \"n reach max\"\n",
    "    \n",
    "    return Tn, n\n",
    "#Tn_exp(2, tolerance = 1e-3)"
   ]
  },
  {
   "cell_type": "code",
   "execution_count": 8,
   "metadata": {
    "collapsed": false,
    "nbgrader": {
     "grade": true,
     "grade_id": "T3-c",
     "locked": true,
     "points": 10,
     "solution": false
    }
   },
   "outputs": [
    {
     "name": "stdout",
     "output_type": "stream",
     "text": [
      "Success!\n"
     ]
    }
   ],
   "source": [
    "x = numpy.linspace(-2, 2, 100)\n",
    "tolerance = 8.0 * numpy.finfo(float).eps\n",
    "answer, N = Tn_exp(x, tolerance=tolerance)\n",
    "assert(numpy.all(numpy.abs(answer - numpy.exp(x)) / numpy.abs(numpy.exp(x)) < tolerance))\n",
    "print \"Success!\""
   ]
  },
  {
   "cell_type": "markdown",
   "metadata": {
    "nbgrader": {
     "grade": false,
     "grade_id": "Q4",
     "locked": true,
     "points": 1,
     "solution": false
    }
   },
   "source": [
    "## Question 4\n",
    "\n",
    "Given the Taylor polynomial expansions\n",
    "\n",
    "$$\\frac{1}{1-\\Delta x} = 1 + \\Delta x + \\Delta x^2 + \\Delta x^3 + \\mathcal{O}(\\Delta x^4)$$\n",
    "\n",
    "and\n",
    "\n",
    "$$\\cosh \\Delta x = 1 - \\frac{\\Delta x^2}{2!} + \\frac{\\Delta x^4}{4!} + \\mathcal{O}(\\Delta x^6)$$\n",
    "\n",
    "determine the order of approximation for their sum and product (determine the exponent that belongs in the $\\mathcal{O}$).\n"
   ]
  },
  {
   "cell_type": "markdown",
   "metadata": {
    "nbgrader": {
     "grade": true,
     "grade_id": "A4",
     "locked": false,
     "points": 10,
     "solution": true
    }
   },
   "source": [
    "From the theorem on class, we have\n",
    "\n",
    "$$f(\\Delta x) = p(\\Delta x) + O(\\Delta x^n)$$\n",
    "$$g(\\Delta x) = q(\\Delta x) + O(\\Delta x^m)$$\n",
    "$$r = \\min(n, m)$$ then\n",
    "\n",
    "$$f+g = p + q + O(\\Delta x^r)$$\n",
    "\n",
    "$$f \\cdot g = p \\cdot q + p \\cdot O(\\Delta x^m) + q \\cdot O(\\Delta x^n) + O(\\Delta x^{n+m}) = p \\cdot q + O(\\Delta x^r)$$\n",
    "\n",
    "so when we add them up, define $$f(\\Delta x) = \\frac{1}{1-\\Delta x}$$ and $$g(\\Delta x) = cosh\\Delta x$$\n",
    "\n",
    "we have $$f+g = 2 + \\Delta x - \\frac{\\Delta x^2}{2} + \\Delta x^3 + \\mathcal{O}(\\Delta x^4) + \\mathcal{O}(\\Delta x^6)$$ Since $\\Delta x$ is a small number, $$\\Delta x^4 \\geq \\Delta x^6$$ \n",
    "\n",
    "In this case, the order of approximation for their sum is 4.\n",
    "\n",
    "When we multiply them up, we have $$f \\cdot g = 1 + \\Delta x + \\frac{3 \\Delta x^2}{2} + \\frac{\\Delta x^3}{2} + \\mathcal{O}(\\Delta x^4) - \\frac{\\Delta x^5}{4} + \\mathcal{O}(\\Delta x^6) + \\mathcal{O}(\\Delta x^7) + \\Delta x^9 + \\Delta x^{10} $$ In this case, since $\\Delta x$ is a small number, $\\mathcal{O}(x^4)$ is the biggest big-O item, thus, the order of approximation for their product is also 4."
   ]
  },
  {
   "cell_type": "code",
   "execution_count": null,
   "metadata": {
    "collapsed": true
   },
   "outputs": [],
   "source": []
  }
 ],
 "metadata": {
  "anaconda-cloud": {},
  "celltoolbar": "Create Assignment",
  "kernelspec": {
   "display_name": "Python [Root]",
   "language": "python",
   "name": "Python [Root]"
  },
  "language_info": {
   "codemirror_mode": {
    "name": "ipython",
    "version": 2
   },
   "file_extension": ".py",
   "mimetype": "text/x-python",
   "name": "python",
   "nbconvert_exporter": "python",
   "pygments_lexer": "ipython2",
   "version": "2.7.12"
  },
  "latex_envs": {
   "bibliofile": "biblio.bib",
   "cite_by": "apalike",
   "current_citInitial": 1,
   "eqLabelWithNumbers": true,
   "eqNumInitial": 0
  }
 },
 "nbformat": 4,
 "nbformat_minor": 0
}
