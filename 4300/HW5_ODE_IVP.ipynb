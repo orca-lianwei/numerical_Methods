{
 "cells": [
  {
   "cell_type": "code",
   "execution_count": 1,
   "metadata": {
    "collapsed": false,
    "nbgrader": {
     "grade": false,
     "grade_id": "header1",
     "locked": false,
     "solution": false
    }
   },
   "outputs": [
    {
     "name": "stderr",
     "output_type": "stream",
     "text": [
      "/Users/liang/anaconda/lib/python2.7/site-packages/matplotlib/font_manager.py:273: UserWarning: Matplotlib is building the font cache using fc-list. This may take a moment.\n",
      "  warnings.warn('Matplotlib is building the font cache using fc-list. This may take a moment.')\n"
     ]
    }
   ],
   "source": [
    "%matplotlib inline\n",
    "%precision 16\n",
    "import numpy\n",
    "import matplotlib.pyplot as plt"
   ]
  },
  {
   "cell_type": "markdown",
   "metadata": {
    "nbgrader": {
     "grade": false,
     "grade_id": "header2",
     "locked": true,
     "solution": false
    }
   },
   "source": [
    "Before you turn this problem in, make sure everything runs as expected. First, restart the kernel (in the menubar, select Kernel $\\rightarrow$ Restart) and then run all cells (in the menubar, select Cell $\\rightarrow$ Run All).\n",
    "\n",
    "Make sure you fill in any place that says YOUR CODE HERE or \"YOUR ANSWER HERE\", as well as your name and collaborators below:"
   ]
  },
  {
   "cell_type": "markdown",
   "metadata": {
    "nbgrader": {
     "grade": false,
     "grade_id": "header3",
     "locked": true,
     "solution": false
    }
   },
   "source": [
    "# HW 5:  ODE Methods - Initial Value Problems\n",
    "\n",
    "For all of these questions write your own functions for the ODE solvers and Newton's method (you can copy from your previous homework of course)."
   ]
  },
  {
   "cell_type": "markdown",
   "metadata": {
    "nbgrader": {
     "grade": false,
     "grade_id": "Q1",
     "locked": true,
     "solution": false
    }
   },
   "source": [
    "## Question 1 - Techniques for Systems of ODEs\n",
    "\n",
    "Consider the system\n",
    "\n",
    "$\n",
    "\\begin{aligned}\n",
    "v'''(x) &= x^2 v v'' - v w' \\\\\n",
    "w''(x) &= x w w' + 4 v'\n",
    "\\end{aligned}\n",
    "$"
   ]
  },
  {
   "cell_type": "markdown",
   "metadata": {
    "nbgrader": {
     "grade": false,
     "grade_id": "Q1-a",
     "locked": true,
     "solution": false
    }
   },
   "source": [
    "**(a)** (10) Write the system of differential equations as a first-order system of differential equations, $u' = f(x, u)$."
   ]
  },
  {
   "cell_type": "markdown",
   "metadata": {
    "collapsed": true,
    "nbgrader": {
     "grade": true,
     "grade_id": "A1-a",
     "locked": false,
     "points": 10,
     "solution": true
    }
   },
   "source": [
    "$$\\vec{u} = \\begin{bmatrix} v \\\\ v' \\\\v'' \\\\ w \\\\ w' \\end{bmatrix} = \\begin{bmatrix} u_1 \\\\ u_2 \\\\ u_3 \\\\ u_4 \\\\ u_5 \\end{bmatrix}$$\n",
    " \n",
    "$$\\frac{\\text{d}}{\\text{d}t} \\begin{bmatrix} u_1 \\\\ u_2 \\\\ u_3 \\\\ u_4 \\\\ u_5 \\end{bmatrix} = \\begin{bmatrix} u_2 \\\\ u_3 \\\\ x^2u_1u_3 - u_1u_5 \\\\ u_5 \\\\ xu_4u_5 + 4u_2 \\end{bmatrix} = \\vec{f}(x, \\vec{u})$$"
   ]
  },
  {
   "cell_type": "markdown",
   "metadata": {
    "nbgrader": {
     "grade": false,
     "grade_id": "Q1-b",
     "locked": true,
     "solution": false
    }
   },
   "source": [
    "**(b)** (10) For systems of non-linear ODEs it is often very useful to consider the linearization of the right-hand-side function $f$ and its properties as approximately linear in some region.  The Jacobian matrix $J(f)$ is often used in this context as the matrix so that\n",
    "\n",
    "$$u' \\approx J(f) u = A(x,u) u.$$\n",
    "\n",
    "Compute the Jacobian matrix of $f(x, u)$ for the system from part (a).  The Jacobian matrix is defined as \n",
    "\n",
    "$$[J(f(x,u))]_{ij} = \\frac{\\partial}{\\partial u_j}  f_i(x, u).$$\n",
    "\n",
    "For a simple example, say\n",
    "\n",
    "$$f(x, u) = \\begin{bmatrix} f_1(x, u) \\\\ f_2(x, u) \\end{bmatrix} = \\begin{bmatrix} u_1 u_2 \\\\ u_1 \\end{bmatrix}$$\n",
    "\n",
    "then\n",
    "\n",
    "$$J(f(x,u)) = \\begin{bmatrix} \\frac{\\partial f_1}{\\partial u_1} & \\frac{\\partial f_1}{\\partial u_2} \\\\ \\frac{\\partial f_2}{\\partial u_1} & \\frac{\\partial f_2}{\\partial u_2} \\end{bmatrix}= \\begin{bmatrix} u_2 & u_1 \\\\ 1 & 0 \\end{bmatrix}.$$"
   ]
  },
  {
   "cell_type": "markdown",
   "metadata": {
    "collapsed": true,
    "nbgrader": {
     "grade": true,
     "grade_id": "A1-b",
     "locked": false,
     "points": 10,
     "solution": true
    }
   },
   "source": [
    "$$f(x, u) = \\begin{bmatrix} f_1(x, u) \\\\ f_2(x, u) \\\\f_3(x, u) \\\\ f_4(x, u) \\\\ f_5(x, u)\\end{bmatrix} = \\begin{bmatrix} u_1 \\\\ u_2 \\\\ u_3 \\\\ u_4 \\\\ u_5 \\end{bmatrix}$$\n",
    "\n",
    "then\n",
    "\n",
    "$$J(f(x,u)) = \\begin{bmatrix} \\frac{\\partial f_1}{\\partial u_1} & \\frac{\\partial f_1}{\\partial u_2} & \\frac{\\partial f_1}{\\partial u_3} & \\frac{\\partial f_1}{\\partial u_4} & \\frac{\\partial f_1}{\\partial u_5}\\\\ \\frac{\\partial f_2}{\\partial u_1} & \\frac{\\partial f_2}{\\partial u_2} & \\frac{\\partial f_2}{\\partial u_3} & \\frac{\\partial f_2}{\\partial u_4} & \\frac{\\partial f_2}{\\partial u_5} \\\\ \\frac{\\partial f_3}{\\partial u_1} & \\frac{\\partial f_3}{\\partial u_2} & \\frac{\\partial f_3}{\\partial u_3} & \\frac{\\partial f_3}{\\partial u_4} & \\frac{\\partial f_3}{\\partial u_5} \\\\ \\frac{\\partial f_4}{\\partial u_1} & \\frac{\\partial f_4}{\\partial u_2} & \\frac{\\partial f_4}{\\partial u_3} & \\frac{\\partial f_4}{\\partial u_4} & \\frac{\\partial f_4}{\\partial u_5} \\\\ \\frac{\\partial f_5}{\\partial u_1} & \\frac{\\partial f_5}{\\partial u_2} & \\frac{\\partial f_5}{\\partial u_3} & \\frac{\\partial f_5}{\\partial u_4} & \\frac{\\partial f_5}{\\partial u_5}\\end{bmatrix}= \\begin{bmatrix} 0 & 1 & 0 & 0 & 0 \\\\ 0 & 0 & 1 & 0 & 0 \\\\ x^2u_3-u_5 & 0 & x^2u_1 & 0 & -u_1 \\\\ 0 & 0 & 0 & 0 & 1 \\\\ 0 & 4 & 0 & xu_5 & xu_4 \\end{bmatrix}.$$"
   ]
  },
  {
   "cell_type": "markdown",
   "metadata": {
    "nbgrader": {
     "grade": false,
     "grade_id": "Q2",
     "locked": true,
     "solution": false
    }
   },
   "source": [
    "## Question 2 - Lipschitz Constants\n",
    "\n",
    "(15) The Lipschitz constant is defined as the constant $L\\in\\mathbb{R}$ such that\n",
    "\n",
    "$$||f(x, u) - f(x, u^*)|| \\leq L ||u - u^*||.$$\n",
    "\n",
    "The Lipschitz constant is useful for describing how much $f(x, u)$ changes if we change $u$.  This in turn then describes how much the slope of the solution $u'$ changes if $u$ is changed since $u' = f$.    \n",
    "\n",
    "Now consider the system of ODEs\n",
    "\n",
    "\\begin{equation*}\n",
    "\\begin{split}\n",
    "u_1' &= 3u_1 + 4u_2,\\\\\n",
    "u_2' &= 5u_1 - 6u_2.\\\\\n",
    "\\end{split}\n",
    "\\end{equation*}\n",
    "\n",
    "For the system of equations above find the Lipschitz constant if we use the $\\ell_2$ norm which is defined as\n",
    "\n",
    "$$|| v ||_{2} = \\left (\\sum^n_{i=1} v_i^2 \\right )^{1/2}.$$\n",
    "\n",
    "Note that the Lipschitz constant $L$ also provides an estimate to how long (or how much) we can trust the linearization given by the Jacobian $J$ in the last question."
   ]
  },
  {
   "cell_type": "markdown",
   "metadata": {
    "nbgrader": {
     "grade": true,
     "grade_id": "A2",
     "locked": false,
     "points": 15,
     "solution": true
    }
   },
   "source": [
    "Because we have ODEs \n",
    "\\begin{equation*}\n",
    "\\begin{split}\n",
    "u_1' &= 3u_1 + 4u_2,\\\\\n",
    "u_2' &= 5u_1 - 6u_2.\\\\\n",
    "\\end{split}\n",
    "\\end{equation*}\n",
    "\n",
    "Then, we have $$f(x, u) = Au = \\begin{bmatrix}3 & 4 \\\\5 & -6 \\end{bmatrix}\\begin{bmatrix} u_1' \\\\ u_2' \\end{bmatrix}$$\n",
    "\n",
    "$$f(x, u^*) = Au^* = \\begin{bmatrix}3 & 4\\\\ 5 & -6 \\end{bmatrix}\\begin{bmatrix} u_1'^* \\\\ u_2'^* \\end{bmatrix}$$\n",
    "\n",
    "$$||f(x, u) - f(x, u^*)|| = ||Au - Au^*|| \\leq L ||u - u^*||$$\n",
    "\n",
    "$$\\frac{||Au - Au^*||}{||u - u^*||} \\leq L$$\n",
    "\n",
    "$$\\frac{||A(u - u^*)||}{||u - u^*||} \\leq L$$\n",
    "\n",
    "$$||A|| \\leq L$$\n",
    "\n",
    "Because $||A|| = 7.94509986076$, the smallest L is 7.94509986076.\n",
    "\n",
    "Therefore, the Lipschitz constant L is 7.94509986076"
   ]
  },
  {
   "cell_type": "markdown",
   "metadata": {
    "nbgrader": {
     "grade": false,
     "grade_id": "Q3",
     "locked": true,
     "solution": false
    }
   },
   "source": [
    "## Question 3 - Orbits\n",
    "\n",
    "Newton's equations for the motion of a particle (he sure gets around doesn't he) in planar orbit with eccentricity $e$ where $0 < e < 1$ are\n",
    "\n",
    "$$\\begin{aligned}\n",
    "    x''(t) &= -\\frac{x}{r^3}, ~~~~ &x(0) &= 1 - e, ~~~~ &x'(0) &= 0, \\\\\n",
    "    y''(t) &= -\\frac{y}{r^3}, ~~~~ &y(0) &= 0, ~~~~ &y'(0) &= \\sqrt{\\frac{1 + e}{1 - e}}\n",
    "\\end{aligned}$$\n",
    "\n",
    "with $r^2 = x^2 + y^2.$"
   ]
  },
  {
   "cell_type": "markdown",
   "metadata": {
    "nbgrader": {
     "grade": false,
     "grade_id": "Q3-a",
     "locked": true,
     "solution": false
    }
   },
   "source": [
    "**(a)** (5) Reformulate the problem as an initial value problem for a system of first-order differential equations."
   ]
  },
  {
   "cell_type": "markdown",
   "metadata": {
    "collapsed": true,
    "nbgrader": {
     "grade": true,
     "grade_id": "A3-a",
     "locked": false,
     "points": 5,
     "solution": true
    }
   },
   "source": [
    "$$\\vec{u} = \\begin{bmatrix} x \\\\ x' \\\\ y \\\\ y' \\end{bmatrix} = \\begin{bmatrix} u_1 \\\\ u_2 \\\\ u_3 \\\\ u_4\\end{bmatrix}$$\n",
    " \n",
    "$$\\frac{\\text{d}}{\\text{d}t} \\begin{bmatrix} u_1 \\\\ u_2 \\\\ u_3 \\\\ u_4 \\end{bmatrix} = \\begin{bmatrix} u_2 \\\\ -\\frac{u_1}{\\sqrt{u_1^2 + u_3^2}^3} \\\\ u_4 \\\\ -\\frac{u_3}{\\sqrt{u_1^2 + u_3^2}^3} \\end{bmatrix} = \\vec{f}(r, \\vec{u})$$"
   ]
  },
  {
   "cell_type": "markdown",
   "metadata": {
    "nbgrader": {
     "grade": false,
     "grade_id": "Q3-b",
     "locked": true,
     "solution": false
    }
   },
   "source": [
    "**(b)** (15) Write a function that computes the solution to the IVP from (b) given a provided set of time steps and eccentricity $e$ using a 2nd order Runge-Kutta method.  The function should only return the values of $x$ and $y$."
   ]
  },
  {
   "cell_type": "code",
   "execution_count": 2,
   "metadata": {
    "collapsed": true,
    "nbgrader": {
     "grade": false,
     "grade_id": "A3-b",
     "locked": false,
     "solution": true
    }
   },
   "outputs": [],
   "source": [
    "def f(t, u):\n",
    "    return numpy.array([u[1], -u[0]/numpy.sqrt(u[0]**2 + u[2]**2)**3, u[3], -u[2]/numpy.sqrt(u[0]**2 + u[2]**2)**3])\n",
    "\n",
    "def solve_orbit_RK2(t, e):\n",
    "    \"\"\"This function computes the solution to the IVP from (a)\n",
    "    given a provided set of time steps and eccentricity e using\n",
    "    a 2nd order R-K method\n",
    "\n",
    "    Args:\n",
    "        t (int): Time steps.\n",
    "        e (float): eccentricity e.\n",
    "\n",
    "    Returns:\n",
    "        x : the values of x.\n",
    "        y : the values of y.\n",
    "    \"\"\"\n",
    "\n",
    "    ### INSERT CODE HERE\n",
    "    delta_t = t[1] - t[0]\n",
    "    u_2 = numpy.empty((4, len(t)))\n",
    "    u_2[:, 0] = [1.0-e, 0.0, 0.0, numpy.sqrt((1.0+e)/(1.0-e))]\n",
    "    # 2nd order Runge_Kutta method\n",
    "    for (n, t_n) in enumerate(t[1:]):\n",
    "        u_2[:, n+1] = u_2[:, n] + 0.5 * delta_t * f(t_n, u_2[:, n])\n",
    "        u_2[:, n+1] = u_2[:, n] + delta_t * f(t_n, u_2[:, n+1])\n",
    "    x = u_2[0]\n",
    "    y = u_2[2]\n",
    "    return x, y"
   ]
  },
  {
   "cell_type": "code",
   "execution_count": 3,
   "metadata": {
    "collapsed": false,
    "nbgrader": {
     "grade": true,
     "grade_id": "T3-b",
     "locked": true,
     "points": 15,
     "solution": false
    }
   },
   "outputs": [
    {
     "name": "stdout",
     "output_type": "stream",
     "text": [
      "Solution remains bounded for the testing interval.\n"
     ]
    }
   ],
   "source": [
    "# Testing to make sure that the solution remains bounded in the testing interval\n",
    "x, y = solve_orbit_RK2(numpy.linspace(0.0, 10.0, 1000), 0.9)\n",
    "assert(numpy.all(numpy.abs(x) < 10.0))\n",
    "assert(numpy.all(numpy.abs(y) < 10.0))\n",
    "print \"Solution remains bounded for the testing interval.\""
   ]
  },
  {
   "cell_type": "markdown",
   "metadata": {
    "nbgrader": {
     "grade": false,
     "grade_id": "Q3-c",
     "locked": true,
     "solution": false
    }
   },
   "source": [
    "**(c)** (5) Plot the trajectory of the orbiting particle parametrically given $e = 0.9$ and times between $t = [0, 100]$."
   ]
  },
  {
   "cell_type": "code",
   "execution_count": 4,
   "metadata": {
    "collapsed": false,
    "nbgrader": {
     "grade": true,
     "grade_id": "A3-c",
     "locked": false,
     "points": 5,
     "solution": true
    },
    "scrolled": true
   },
   "outputs": [
    {
     "data": {
      "image/png": "[encoded data removed]",
      "text/plain": [
       "<matplotlib.figure.Figure at 0x104fc0a90>"
      ]
     },
     "metadata": {},
     "output_type": "display_data"
    },
    {
     "data": {
      "image/png": "[encoded data removed]",
      "text/plain": [
       "<matplotlib.figure.Figure at 0x10c733490>"
      ]
     },
     "metadata": {},
     "output_type": "display_data"
    }
   ],
   "source": [
    "t = numpy.linspace(0.0, 10.0, 1000)\n",
    "e = 0.9\n",
    "### INSERT CODE HERE\n",
    "def f(t, u):\n",
    "    return numpy.array([u[1], -u[0]/numpy.sqrt(u[0]**2 + u[2]**2)**3, u[3], -u[2]/numpy.sqrt(u[0]**2 + u[2]**2)**3])\n",
    "\n",
    "#initial the value\n",
    "delta_t = t[1] - t[0]\n",
    "u_2 = numpy.empty((4, len(t)))\n",
    "u_2[:, 0] = [1.0-e, 0.0, 0.0, numpy.sqrt((1.0+e)/(1.0-e))]\n",
    "\n",
    "# 2nd order R-K\n",
    "for (n, t_n) in enumerate(t[1:]):\n",
    "    u_2[:, n+1] = u_2[:, n] + 0.5 * delta_t * f(t_n, u_2[:, n])\n",
    "    u_2[:, n+1] = u_2[:, n] + delta_t * f(t_n, u_2[:, n+1])\n",
    "\n",
    "#plot the graph\n",
    "fig = plt.figure()\n",
    "axes = fig.add_subplot(1, 1, 1)\n",
    "\n",
    "axes.plot(t, u_2[0,:])\n",
    "axes.set_title(\"Solution to Van der Pol Oscillator\")\n",
    "axes.set_xlabel(\"t\")\n",
    "axes.set_ylabel(\"y(t)\")\n",
    "\n",
    "fig = plt.figure()\n",
    "axes = fig.add_subplot(1, 1, 1)\n",
    "\n",
    "axes.plot(u_2[0,:], u_2[2, :])\n",
    "axes.set_title(\"Phase Diagram for Van der Pol Oscillator\")\n",
    "axes.set_xlabel(\"x\")\n",
    "axes.set_ylabel(\"y\")\n",
    "\n",
    "plt.show()"
   ]
  },
  {
   "cell_type": "markdown",
   "metadata": {
    "nbgrader": {
     "grade": false,
     "grade_id": "Q4",
     "locked": true,
     "solution": false
    }
   },
   "source": [
    "## Question 4 - SciPy Integrate\n",
    "\n",
    "Consider the decay process\n",
    "$$\n",
    "    A \\overset{K_1}{\\rightarrow} B \\overset{K_2}{\\rightarrow} C \\overset{K_3}{\\rightarrow} D\n",
    "$$\n",
    "represented by the system of ODEs\n",
    "\\begin{align*}\n",
    "    \\frac{\\text{d}A}{\\text{d}t} &= -K_1 A \\\\\n",
    "    \\frac{\\text{d}B}{\\text{d}t} &= K_1 A - K_2 B \\\\\n",
    "    \\frac{\\text{d}C}{\\text{d}t} &= K_2 B - K_3 C \\\\\n",
    "    \\frac{\\text{d}D}{\\text{d}t} &= K_3 C \\\\\n",
    "\\end{align*}"
   ]
  },
  {
   "cell_type": "markdown",
   "metadata": {
    "nbgrader": {
     "grade": false,
     "grade_id": "Q4-a",
     "locked": true,
     "solution": false
    }
   },
   "source": [
    "**(a)** (10) Write a function that uses `scipy.integrate` to compute the solution to the system of ODEs given an initial condition and time points to output at.  This function should take in the time points for the output, an initial condition, the ODE integrator to use (default to \"dopri5\"), and the reaction rates $K_1$, $K_2$, and $K_3$."
   ]
  },
  {
   "cell_type": "code",
   "execution_count": 5,
   "metadata": {
    "collapsed": false,
    "nbgrader": {
     "grade": false,
     "grade_id": "A4-a",
     "locked": false,
     "solution": true
    }
   },
   "outputs": [],
   "source": [
    "import scipy.integrate as integrate\n",
    "\n",
    "def solve_decay_system(t, u_0, solver_type=\"dopri5\", K_1=0.0, K_2=0.0, K_3=0.0):\n",
    "    \"\"\"This function computes the solution to the system of ODEs given \n",
    "    an initial condition and time points to output at.\n",
    "\n",
    "    Args:\n",
    "        t (int): Time steps.\n",
    "        u_0 (array): the values of u.\n",
    "\n",
    "    Returns:\n",
    "        U: the result array\n",
    "    \"\"\"\n",
    "    ### INSERT CODE HERE\n",
    "    f = lambda t, u: numpy.array([-u[0], u[0] - 2.0*u[1], 2.0*u[1] - 3.0*u[2], 3.0*u[2]])\n",
    "    U = numpy.empty((len(t), 4))\n",
    "    U[0, :] = u_0\n",
    "    #initial value\n",
    "    integrator = integrate.ode(f)\n",
    "    integrator.set_integrator(\"dopri5\")\n",
    "    integrator.set_initial_value(U[0, :])\n",
    "    #fill the array\n",
    "    for (n, t_n) in enumerate(t[1:]):\n",
    "        integrator.integrate(t_n)\n",
    "        if not integrator.successful():\n",
    "            break\n",
    "        U[n + 1, :] = integrator.y\n",
    "\n",
    "    return U"
   ]
  },
  {
   "cell_type": "code",
   "execution_count": 6,
   "metadata": {
    "collapsed": false,
    "nbgrader": {
     "grade": true,
     "grade_id": "T4-a",
     "locked": true,
     "points": 10,
     "solution": false
    }
   },
   "outputs": [
    {
     "name": "stdout",
     "output_type": "stream",
     "text": [
      "Success!\n"
     ]
    }
   ],
   "source": [
    "t = numpy.linspace(0.0, 10.0, 10)\n",
    "u_0 = numpy.array([1.0, 0.0, 0.0, 0.0])\n",
    "U = solve_decay_system(t, u_0, solver_type='dopri5', K_1=1.0, K_2=2.0, K_3=3.0)\n",
    "U_sol = numpy.array([[1.0000000000000000e+00, 0.0000000000000000e+00,\n",
    "                      0.0000000000000000e+00, 0.0000000000000000e+00],\n",
    "                     [3.2919298826277271e-01, 2.2082495381343401e-01,\n",
    "                      1.4813096181267352e-01, 3.0185109611111993e-01],\n",
    "                     [1.0836802654276900e-01, 9.6624368667878130e-02,\n",
    "                      8.6153390524786266e-02, 7.0885421426456674e-01],\n",
    "                     [3.5673996630001523e-02, 3.4401353001617396e-02,\n",
    "                      3.3174114479337484e-02, 8.9675053588904374e-01],\n",
    "                     [1.1743631968628626e-02, 1.1605715517361529e-02,\n",
    "                      1.1469419325266718e-02, 9.6518123318874338e-01],\n",
    "                     [3.8659219913406520e-03, 3.8509760174843801e-03,\n",
    "                      3.8360878593115726e-03, 9.8844701413186375e-01],\n",
    "                     [1.2726346009991362e-03, 1.2710149139283067e-03,\n",
    "                      1.2693972897971615e-03, 9.9618695319527573e-01],\n",
    "                     [4.1894244902209761e-04, 4.1876692442412833e-04,\n",
    "                      4.1859147343448249e-04, 9.9874369915311978e-01],\n",
    "                     [1.3791293652887476e-04, 1.3789391503107924e-04,\n",
    "                      1.3787489615970831e-04, 9.9958631825228084e-01],\n",
    "                     [4.5399978275093905e-05, 4.5397916926305302e-05,\n",
    "                      4.5395855671230534e-05, 9.9986380624912774e-01]])\n",
    "numpy.testing.assert_allclose(U, U_sol)\n",
    "print \"Success!\""
   ]
  },
  {
   "cell_type": "markdown",
   "metadata": {
    "nbgrader": {
     "grade": false,
     "grade_id": "Q4-b",
     "locked": true,
     "solution": false
    }
   },
   "source": [
    "**(b)** (5) Plot your solution given the input data provided above and again using the `dopri5` integrator but increase the number of output times so you can plot a smooth solution.  Do not forget to provide the appropriate labels."
   ]
  },
  {
   "cell_type": "code",
   "execution_count": 7,
   "metadata": {
    "collapsed": false,
    "nbgrader": {
     "grade": true,
     "grade_id": "A4-b",
     "locked": false,
     "points": 5,
     "solution": true
    },
    "scrolled": true
   },
   "outputs": [
    {
     "data": {
      "image/png": "[encoded data removed]",
      "text/plain": [
       "<matplotlib.figure.Figure at 0x10f302e90>"
      ]
     },
     "metadata": {},
     "output_type": "display_data"
    }
   ],
   "source": [
    "### INSERT CODE HERE\n",
    "t = numpy.linspace(0.0, 10.0, 100)\n",
    "u_0 = numpy.array([1.0, 0.0, 0.0, 0.0])\n",
    "U = solve_decay_system(t, u_0, solver_type='dopri5', K_1=1.0, K_2=2.0, K_3=3.0)\n",
    "\n",
    "#plot the graph\n",
    "fig = plt.figure()\n",
    "axes = fig.add_subplot(1, 1, 1)\n",
    "\n",
    "axes.plot(t, U[:, 0], label = 'A')\n",
    "axes.plot(t, U[:, 1], label = 'B')\n",
    "axes.plot(t, U[:, 2], label = 'C')\n",
    "axes.plot(t, U[:, 3], label = 'D')\n",
    "legend = axes.legend(loc='upper right')\n",
    "axes.set_title(\"Integration ODE\")\n",
    "axes.set_xlabel(\"t\")\n",
    "axes.set_ylabel(\"U\")\n",
    "plt.show()"
   ]
  },
  {
   "cell_type": "markdown",
   "metadata": {
    "nbgrader": {
     "grade": false,
     "grade_id": "Q5",
     "locked": true,
     "solution": false
    }
   },
   "source": [
    "## Question 5\n",
    "\n",
    "The Poincaré-Bendixson theorem describes the behavior of two-dimensional ODE systems that under certain conditions a system will exhibit either a stable equilibrium point or contains a limit cycle (such as we see in an oscillator).\n",
    "\n",
    "**Poincaré-Bendixson Theorem:**  The attractor for any smooth two-dimensional bounded continuous-time autonomous system is either a stable equilibrium or a limit cycle.\n",
    "\n",
    "Now consider the system\n",
    "$$\\begin{aligned}\n",
    "    \\frac{dx}{dt} &= \\frac{xy}{x^2 + y^2} - \\alpha x, \\\\\n",
    "    \\frac{dy}{dt} &= \\frac{y^2}{x^2 + y^2} - \\beta y + \\beta -1 \n",
    "\\end{aligned}$$\n",
    "with $\\alpha, \\beta \\in \\mathbb{R}$.  "
   ]
  },
  {
   "cell_type": "markdown",
   "metadata": {
    "nbgrader": {
     "grade": false,
     "grade_id": "Q5-a",
     "locked": true,
     "solution": false
    }
   },
   "source": [
    "**(a)** (5) What point may be problematic for us and violate the Poincaré-Bendixson theorem?"
   ]
  },
  {
   "cell_type": "markdown",
   "metadata": {
    "nbgrader": {
     "grade": true,
     "grade_id": "A5-a",
     "locked": false,
     "points": 5,
     "solution": true
    }
   },
   "source": [
    "When $x^2 + y^2 = 0$, it will violate the Poincaré-Bendixson theorem."
   ]
  },
  {
   "cell_type": "markdown",
   "metadata": {
    "nbgrader": {
     "grade": false,
     "grade_id": "Q5-b",
     "locked": true,
     "solution": false
    }
   },
   "source": [
    "**(b)**  (5) Formulate the system \n",
    "$\\frac{d}{dt}\\mathbf{u} = f(t, \\mathbf{u})$ where $\\mathbf{u} = \\begin{bmatrix} u_1 \\\\ u_2 \\end{bmatrix} $"
   ]
  },
  {
   "cell_type": "markdown",
   "metadata": {
    "nbgrader": {
     "grade": true,
     "grade_id": "A5-b",
     "locked": false,
     "points": 5,
     "solution": true
    }
   },
   "source": [
    "$$\\frac{\\text{d}}{\\text{d}t} \\begin{bmatrix} u_1 \\\\ u_2 \\end{bmatrix} = \\begin{bmatrix} \\frac{u_1u_2}{u_1^2 + u_2^2} - \\alpha u_1 \\\\ \\frac{u_2^2}{u_1^2 + u_2^2} - \\beta u_2 + \\beta -1 \\end{bmatrix} = \\vec{f}(t, \\vec{u})$$"
   ]
  },
  {
   "cell_type": "markdown",
   "metadata": {
    "nbgrader": {
     "grade": false,
     "grade_id": "Q5-c",
     "locked": true,
     "solution": false
    }
   },
   "source": [
    "**(c)** (15) Solve the above system numerically using a predictor-corrector method with the 3-step Adams-Bashforth as the predictor and the 3-step Adams-Moulton method as the corrector.  Use RK2 to boot-strap (start) the method.  Use the initial condition\n",
    "$$\n",
    "    (x_0, y_0) = (1, 0)\n",
    "$$\n",
    "and\n",
    "$$\n",
    "    \\alpha = 0 ~~~ \\text{and} ~~~ \\beta = 0.7.\n",
    "$$\n",
    "Plot the phase-plane solution ($x$ vs. $y$) for $t_f$ at least out to $t = 100$.  Comment on what you see making sure to connect it to the Poincaré-Bendixson theorem.  You also may want to play with the initial condition and shorter time spans to examine the behavior around a particular point."
   ]
  },
  {
   "cell_type": "code",
   "execution_count": 8,
   "metadata": {
    "collapsed": false,
    "nbgrader": {
     "grade": true,
     "grade_id": "A5-c1",
     "locked": false,
     "points": 10,
     "solution": true
    }
   },
   "outputs": [
    {
     "data": {
      "image/png": "[encoded data removed]",
      "text/plain": [
       "<matplotlib.figure.Figure at 0x10fc84710>"
      ]
     },
     "metadata": {},
     "output_type": "display_data"
    }
   ],
   "source": [
    "### INSERT CODE HERE\n",
    "# Use 3-step Adams-Bashforth to compute solution\n",
    "f = lambda t, u: numpy.array([u[0]*u[1]/(u[0]**2 + u[1]**2), u[1]**2/(u[0]**2 + u[1]**2) - 0.7*u[1] - 0.3])\n",
    "\n",
    "\n",
    "N = 1000\n",
    "t = numpy.linspace(0, 80.0, N)\n",
    "delta_t = t[1] - t[0]\n",
    "u_ab3 = numpy.empty((2, N))\n",
    "\n",
    "# Use RK-2 to start the method\n",
    "u_ab3[:, 0] = [1.0, 0.0]\n",
    "u_ab3[:, 1] = u_ab3[:, 0] + 0.5 * delta_t * f(t[0], u_ab3[:, 0])\n",
    "u_ab3[:, 1] = u_ab3[:, 0] + delta_t * f(t[0], u_ab3[:, 1])\n",
    "u_ab3[:, 2] = u_ab3[:, 1] + 0.5 * delta_t * f(t[0], u_ab3[:, 1])\n",
    "u_ab3[:, 2] = u_ab3[:, 1] + delta_t * f(t[0], u_ab3[:, 2])\n",
    "\n",
    "for n in xrange(0,N-3):\n",
    "    #3-step AB as the predictor\n",
    "    u_ab3[:, n+3] = u_ab3[:, n + 2] + delta_t / 12.0 * (5.0*f(t[n], u_ab3[:, n]) - 16.0 * f(t[n+1], u_ab3[:, n+1]) + 23.0 * f(t[n+2], u_ab3[:, n+2]))\n",
    "    #3-step AM as the corrector\n",
    "    u_ab3[:, n+3] = u_ab3[:, n + 2] + delta_t / 24.0 * (f(t[n], u_ab3[:, n]) - 5.0 * f(t[n+1], u_ab3[:, n+1]) + 19.0 * f(t[n+3], u_ab3[:, n+3]))\n",
    "\n",
    "fig = plt.figure()\n",
    "axes = fig.add_subplot(1, 1, 1)\n",
    "\n",
    "axes.plot(u_ab3[0,:], u_ab3[1, :])\n",
    "axes.set_title(\"Phase Diagram for Van der Pol Oscillator\")\n",
    "axes.set_xlabel(\"x\")\n",
    "axes.set_ylabel(\"y(t)\")\n",
    "\n",
    "plt.show()"
   ]
  },
  {
   "cell_type": "markdown",
   "metadata": {
    "nbgrader": {
     "grade": true,
     "grade_id": "A5-c2",
     "locked": false,
     "points": 5,
     "solution": true
    }
   },
   "source": [
    "It contains a limit cycle. As we can see, once it reaches central point from the initial point, it will leave the point and go into the other cycle, which corresponds to equation."
   ]
  },
  {
   "cell_type": "code",
   "execution_count": null,
   "metadata": {
    "collapsed": true
   },
   "outputs": [],
   "source": []
  }
 ],
 "metadata": {
  "anaconda-cloud": {},
  "celltoolbar": "Create Assignment",
  "kernelspec": {
   "display_name": "Python [Root]",
   "language": "python",
   "name": "Python [Root]"
  },
  "language_info": {
   "codemirror_mode": {
    "name": "ipython",
    "version": 2
   },
   "file_extension": ".py",
   "mimetype": "text/x-python",
   "name": "python",
   "nbconvert_exporter": "python",
   "pygments_lexer": "ipython2",
   "version": "2.7.12"
  },
  "latex_envs": {
   "bibliofile": "biblio.bib",
   "cite_by": "apalike",
   "current_citInitial": 1,
   "eqLabelWithNumbers": true,
   "eqNumInitial": 0
  }
 },
 "nbformat": 4,
 "nbformat_minor": 0
}
