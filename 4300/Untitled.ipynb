{
 "cells": [
  {
   "cell_type": "code",
   "execution_count": 26,
   "metadata": {
    "collapsed": false
   },
   "outputs": [],
   "source": [
    "%matplotlib inline\n",
    "import numpy\n",
    "import math\n",
    "import sympy as sp\n",
    "import matplotlib.pyplot as plt\n"
   ]
  },
  {
   "cell_type": "code",
   "execution_count": 28,
   "metadata": {
    "collapsed": true
   },
   "outputs": [],
   "source": [
    "def f(t, u):\n",
    "    return numpy.array([u[1], u[2], 4.0 * t**2 + 8.0 * t -10.0 - 4.0 * u[0] - 4.0 * u[1] - u[2]])\n",
    "def solve_AB4(N, eta):\n",
    "    ### INSERT CODE HERE\n",
    "    \"\"\"This function takes as arguments the number of time points N and initial condition,\n",
    "    return the vector of time points t and the solution u_ab4.\n",
    "    \n",
    "    Input:\n",
    "    -N: the number of time points N (which includes the initial time and final time)\n",
    "    -eta: the initial condition\n",
    "    \n",
    "    Output:\n",
    "    -t: the vector of time points\n",
    "    -u_ab4: the solution\n",
    "    \"\"\"\n",
    "\n",
    "    t = numpy.linspace(0.0, 10, N)\n",
    "    delta_t = t[1] - t[0]\n",
    "    u_ab4 = numpy.empty((3, N))\n",
    "    u_ab4[:, 0] = eta\n",
    "\n",
    "    #RK4 start the method\n",
    "    for (n, t_n) in enumerate(t[0:3]):\n",
    "        y_1 = u_ab4[:, n]\n",
    "        y_2 = u_ab4[:, n] + 0.5 * delta_t * f(t_n + 0.5 * delta_t, y_1)\n",
    "        y_3 = u_ab4[:, n] + 0.5 * delta_t * f(t_n + 0.5 * delta_t, y_2)\n",
    "        y_4 = u_ab4[:, n] + delta_t * f(t_n + 0.5 * delta_t, y_3)\n",
    "        u_ab4[:, n+1] = u_ab4[:, n] + delta_t / 6.0 * (f(t_n, y_1) + 2.0 * f(t_n + 0.5 * delta_t, y_2) + 2.0 * f(t_n + 0.5 * delta_t, y_3) + f(t_n + delta_t, y_4))\n",
    "\n",
    "    #4 step Adams-Bashforth\n",
    "    for n in xrange(0,len(t)-4):\n",
    "        u_ab4[:, n+4] = u_ab4[:, n + 3] + delta_t * (-9.0*f(t[n], u_ab4[:, n]) + 37.0 * f(t[n+1], u_ab4[:, n+1]) - 59.0*f(t[n+2], u_ab4[:, n+2]) + 55.0*f(t[n+3], u_ab4[:, n+3])) / 24.0 \n",
    "    \n",
    "    return t, u_ab4"
   ]
  },
  {
   "cell_type": "code",
   "execution_count": 29,
   "metadata": {
    "collapsed": true
   },
   "outputs": [],
   "source": [
    "def f(t, u):\n",
    "    return numpy.array([u[1], u[2], 4.0 * t**2 + 8.0 * t -10.0 - 4.0 * u[0] - 4.0 * u[1] - u[2]])\n",
    "def solve_ABM3(N, eta):\n",
    "    \"\"\"This function takes as arguments the number of time points N and initial condition,\n",
    "    return the vector of time points t and the solution u_abm3.\n",
    "    \n",
    "    Input:\n",
    "    -N: the number of time points N (which includes the initial time and final time)\n",
    "    -eta: the initial condition\n",
    "    \n",
    "    Output:\n",
    "    -t: the vector of time points\n",
    "    -u_abm3: the solution\n",
    "    \"\"\"\n",
    "    \n",
    "    t = numpy.linspace(0, 10, N)\n",
    "    delta_t = t[1] - t[0]\n",
    "    u_abm3 = numpy.empty((3, N))\n",
    "\n",
    "    # Use RK-4 to start the method\n",
    "    u_abm3[:, 0] = eta\n",
    "    \n",
    "    for (n, t_n) in enumerate(t[0:2]):\n",
    "        y_1 = u_abm3[:, n]\n",
    "        y_2 = u_abm3[:, n] + 0.5 * delta_t * f(t_n + 0.5 * delta_t, y_1)\n",
    "        y_3 = u_abm3[:, n] + 0.5 * delta_t * f(t_n + 0.5 * delta_t, y_2)\n",
    "        y_4 = u_abm3[:, n] + delta_t * f(t_n + 0.5 * delta_t, y_3)\n",
    "        u_abm3[:, n+1] = u_abm3[:, n] + delta_t / 6.0 * (f(t_n, y_1) + 2.0 * f(t_n + 0.5 * delta_t, y_2) + 2.0 * f(t_n + 0.5 * delta_t, y_3) + f(t_n + delta_t, y_4))\n",
    "\n",
    "\n",
    "    for n in xrange(0,N-3):\n",
    "        #3-step AB as the predictor\n",
    "        u_abm3[:, n+3] = u_abm3[:, n + 2] + delta_t / 12.0 * (5.0*f(t[n], u_abm3[:, n]) - 16.0 * f(t[n+1], u_abm3[:, n+1]) + 23.0 * f(t[n+2], u_abm3[:, n+2]))\n",
    "        #3-step AM as the corrector\n",
    "        u_abm3[:, n+3] = u_abm3[:, n + 2] + delta_t / 24.0 * (f(t[n], u_abm3[:, n]) - 5.0 * f(t[n+1], u_abm3[:, n+1]) + 19.0 * f(t[n+2], u_abm3[:, n+2]) + 9.0 * f(t[n+3], u_abm3[:, n+3]))\n",
    "\n",
    "    return t, u_abm3"
   ]
  },
  {
   "cell_type": "code",
   "execution_count": 30,
   "metadata": {
    "collapsed": false
   },
   "outputs": [
    {
     "data": {
      "image/png": "[encoded data removed]",
      "text/plain": [
       "<matplotlib.figure.Figure at 0x10df02d90>"
      ]
     },
     "metadata": {},
     "output_type": "display_data"
    }
   ],
   "source": [
    "### INSERT CODE HERE\n",
    "\n",
    "num_steps = [2**n for n in xrange (5,15)]\n",
    "\n",
    "delta_t=numpy.empty(len(num_steps))\n",
    "error_1=numpy.empty(len(num_steps))\n",
    "error_2=numpy.empty(len(num_steps))\n",
    "\n",
    "fig = plt.figure() \n",
    "axes = fig.add_subplot(1, 1, 1)\n",
    "\n",
    "for (i, N) in enumerate(num_steps):\n",
    "    t = numpy.linspace(0, 10.0, N)\n",
    "    delta_t[i] = t[1] - t[0]\n",
    "    u_exact = lambda t:-numpy.sin(2.0*t)+ t**2.0 - 3.0\n",
    "    \n",
    "    t, U = solve_AB4(N, [-3.0, -2.0, 2.0])\n",
    "    AB4=U[0, :]\n",
    "    error_1[i] = numpy.linalg.norm((delta_t[i]*(AB4-u_exact(t))),ord=1)\n",
    "    \n",
    "    t, U = solve_ABM3(N, [-3.0, -2.0, 2.0])\n",
    "    ABM3=U[0, :]\n",
    "    error_2[i] = numpy.linalg.norm((delta_t[i]*(ABM3-u_exact(t))),ord=1)\n",
    "    \n",
    "\n",
    "axes.loglog(delta_t, error_1, 'ko', label='AB4')\n",
    "axes.loglog(delta_t, error_2, 'mo', label='ABM3')\n",
    "axes.set_title(\"Convergence\")\n",
    "axes.set_xlabel(\"$\\Delta_t$\")\n",
    "axes.set_ylabel(\"$Error$\")\n",
    "axes.legend(loc=9)\n",
    "\n",
    "plt.show()"
   ]
  },
  {
   "cell_type": "code",
   "execution_count": 25,
   "metadata": {
    "collapsed": false
   },
   "outputs": [
    {
     "name": "stdout",
     "output_type": "stream",
     "text": [
      "[[ 2  6 -8]\n",
      " [ 0  1  5]\n",
      " [ 0  0  3]]\n"
     ]
    }
   ],
   "source": [
    "A = numpy.matrix([[4, 12, -16], [12, 37, -43], [-16, -43, 98]])\n",
    "R = cholesky_factorization(A)\n",
    "# R_n = numpy.linalg.cholesky(A).transpose()\n",
    "# R = cholesky_factorization(A)\n",
    "# numpy.testing.assert_allclose(R_n, R)\n",
    "# print \"Success!\""
   ]
  },
  {
   "cell_type": "markdown",
   "metadata": {
    "collapsed": false
   },
   "source": [
    "Using the general expansion and evalution of the Taylor series about $t_n$ we have\n",
    "$$\\begin{aligned}\n",
    "    u(t_{n+j}) &= u(t_n) + j \\Delta t u'(t_n) + \\frac{1}{2} (j \\Delta t)^2 u''(t_n) + \\frac{1}{6} (j \\Delta t)^3 u'''(t_n)+ \\mathcal{O}(\\Delta t^4) \\\\\n",
    "    u'(t_{n+j}) &= u'(t_n) + j \\Delta t u''(t_n) + \\frac{1}{2} (j \\Delta t)^2 u'''(t_n) + \\mathcal{O}(\\Delta t^3)\n",
    "\\end{aligned}$$\n",
    "leading to\n",
    "$$\\begin{aligned}\n",
    "    T(t, u; \\Delta t) = \\frac{1}{\\Delta t}\\left( \\sum^r_{j=0} \\alpha_j\\right) u_{n+j} + \\left(\\sum^r_{j=0} (j\\alpha_j - \\beta_j)\\right) u'(t_n) + \\Delta t \\left(\\sum^r_{j=0} \\left (\\frac{1}{2}j^2 \\alpha_j - j \\beta_j \\right) \\right) u''(t_n) + \\Delta t^2 \\left(\\sum^r_{j=0} \\left (\\frac{1}{6}j^3 \\alpha_j - \\frac{1}{2} j^2 \\beta_j \\right) \\right) u'''(t_n) + \\cdots\n",
    "\\end{aligned}$$\n",
    "The method is *consistent* if the first two terms of the expansion vanish\n",
    "\n",
    "i.e. $\\sum^r_{j=0} \\alpha_j = 0$ and $\\sum^r_{j=0} j \\alpha_j = \\sum^r_{j=0} \\beta_j$ and $\\sum^r_{j=0} \\frac{1}{2} j^2 \\alpha_j = \\sum^r_{j=0} j \\beta_j$ and $\\sum^r_{j=0} \\frac{1}{6} j^3 \\alpha_j = \\sum^r_{j=0}\\frac{1}{2} j^2 \\beta_j$\n",
    "$$Given~\\alpha_0 = 0, \\alpha_1 = -1, and~\\alpha_2 = 1$$\n",
    "$$\\alpha_0 + \\alpha_1 + \\alpha_2 = 0$$\n",
    "$$0 * \\alpha_0 + 1 * \\alpha_1 + 2 * \\alpha_2 = \\beta_0 + \\beta_1 + \\beta_2$$\n",
    "$$\\frac{1}{2} * 0 * \\alpha_0 + \\frac{1}{2} * 1 * \\alpha_1 + \\frac{1}{2} * 2 * \\alpha_2 = 0 * \\beta_0 + 1 * \\beta_1 + 2* \\beta_2$$\n",
    "$$\\frac{1}{6} * 0 * \\alpha_0 + \\frac{1}{6} * 1 * \\alpha_1 + \\frac{1}{6} * 8 * \\alpha_2 = 0 * \\beta_0 + \\frac{1}{2} * \\beta_1 + 2* \\beta_2$$\n",
    "$$Solve~above~equation~set$$\n",
    "$$\\beta_0=-\\frac{1}{12},\\beta_1=\\frac{2}{3}=\\frac{8}{12},\\beta_2=\\frac{5}{12}$$"
   ]
  },
  {
   "cell_type": "code",
   "execution_count": null,
   "metadata": {
    "collapsed": false
   },
   "outputs": [],
   "source": [
    "1.0/1 - 1.0/2 + 1.0/2 - 1.0/3 + 1.0/3 -1.0/4 +1.0/4 - 1.0/5 + 1.0/5 - 1.0/6 + 1.0/6 - 1.0/7+ 1.0/7 - 1.0/8 + 1.0/8 - 1.0/9 + 1.0/9 - 1.0/10 + 1.0/10 - 1.0/11"
   ]
  },
  {
   "cell_type": "code",
   "execution_count": null,
   "metadata": {
    "collapsed": false
   },
   "outputs": [],
   "source": [
    "import scipy.misc as misc\n",
    "import sympy\n",
    "x = 2.0\n",
    "#f = sympy.symbols('f', cls=sympy.Function)\n",
    "f = sympy.exp(x)\n",
    "b = f.series(x0=0, n=1000)\n",
    "\n",
    "print b\n",
    "print f\n",
    "print 10000000000000000000000000000*(b-f)"
   ]
  },
  {
   "cell_type": "code",
   "execution_count": null,
   "metadata": {
    "collapsed": false
   },
   "outputs": [],
   "source": [
    "l = []\n",
    "for n in xrange(1, 5):\n",
    "    coefficient = 1.0 / misc.factorial(n)\n",
    "    l.append(coefficient)\n",
    "reversed_l = l[::-1]\n",
    "print l\n",
    "print reversed_l"
   ]
  },
  {
   "cell_type": "code",
   "execution_count": null,
   "metadata": {
    "collapsed": false
   },
   "outputs": [],
   "source": [
    "import sympy\n",
    "import scipy.misc as misc\n",
    "def lamda(x):\n",
    "    n = 1\n",
    "    Tn = 1\n",
    "    while n <= 100:\n",
    "        Tn = Tn + x**n/misc.factorial(n)\n",
    "        if np.exp(x) - Tn < 0.000009:\n",
    "            return n, Tn\n",
    "        else:\n",
    "            n = n + 1\n",
    "    else:\n",
    "        print x\n",
    "        \n",
    "    \n",
    "lamda(3)\n",
    "        "
   ]
  },
  {
   "cell_type": "code",
   "execution_count": null,
   "metadata": {
    "collapsed": false
   },
   "outputs": [],
   "source": [
    "# import numpy\n",
    "# import matplotlib.pyplot as plt\n",
    "# x = numpy.linspace(-1, 1, 100)\n",
    "# T_N = 1.0 + x + x**2 / 2.0\n",
    "# R_N = numpy.exp(1.0) * x**3 / 6.0\n",
    "\n",
    "# plt.plot(x, T_N, 'r', x, numpy.exp(x), 'k', x, R_N, 'b')\n",
    "# plt.title(\"Taylor Polynomial and Residual for $N=2$\")\n",
    "# plt.xlabel(\"x\")\n",
    "# plt.ylabel(\"$f(x)$, $T_N(x)$, $R_N(x)$\")\n",
    "# plt.legend([\"$T_N(x)$\", \"$f(x)$\", \"$R_N(x)$\"], loc=2)\n",
    "# plt.show()"
   ]
  },
  {
   "cell_type": "code",
   "execution_count": null,
   "metadata": {
    "collapsed": false
   },
   "outputs": [],
   "source": [
    "# N = numpy.array([10**n for n in xrange(1, 8)])\n",
    "# S_1 = []\n",
    "# for (n, upper_bound) in enumerate(N):\n",
    "#     S_1.append(numpy.sum((1.0/i) - (1.0/(i + 1)) for i in xrange(1, upper_bound + 1)))\n",
    "# return S_1\n",
    "\n",
    "# #Get the list of right side results\n",
    "# N = numpy.array([10**n for n in xrange(1, 8)])\n",
    "# S_2 = []\n",
    "# for (n, upper_bound) in enumerate(N):\n",
    "#     S_2.append(numpy.sum((1.0/i) - (1.0/(i + 1)) for i in xrange(1, upper_bound + 1)))\n",
    "# return S_2\n",
    "\n",
    "# absolute_error = numpy.substract(S_1, S_2)\n"
   ]
  },
  {
   "cell_type": "code",
   "execution_count": null,
   "metadata": {
    "collapsed": false
   },
   "outputs": [],
   "source": [
    "import scipy.misc as misc\n",
    "a = np.log(misc.factorial(10.0))\n",
    "b = 10.0 * np.log(10.0) - 10.0\n",
    "print a, b, a-b, (a - b)/a"
   ]
  },
  {
   "cell_type": "code",
   "execution_count": null,
   "metadata": {
    "collapsed": false
   },
   "outputs": [],
   "source": [
    "a = np.exp(1)\n",
    "b = 2.71827876984127\n",
    "print a, b, a - b, (a - b)/a"
   ]
  },
  {
   "cell_type": "code",
   "execution_count": null,
   "metadata": {
    "collapsed": false
   },
   "outputs": [],
   "source": [
    "fig = plt.figure()\n",
    "fig.set_figwidth(fig.get_figwidth() * 2)\n",
    "\n",
    "\n",
    "# def rel_error(N):\n",
    "#     \"\"\"rel_error returns relative error corresponding to N\n",
    "#     \"\"\"\n",
    "#     rel_error = numpy.absolute(abs_error(N)/sum_1(N))\n",
    "#     return rel_error\n",
    "#rel_error = numpy.absolute(abs_error(N)/sum_1(N))\n",
    "\n",
    "x = np.linspace(10, 10**7, 1000)\n",
    "\n",
    "#f_hat = (numpy.exp(x + delta_x) - numpy.exp(x)) / (delta_x)\n",
    "\n",
    "y = abs_error(x)\n",
    "\n",
    "axes = fig.add_subplot(1, 1, 1)\n",
    "#axes.loglog(x, y)\n",
    "plt.plot(x, y)\n",
    "axes.set_xlabel(\"$\\Delta x$\")\n",
    "axes.set_ylabel(\"Relative Error\")\n",
    "\n",
    "\n",
    "\n",
    "\n",
    "plt.show()"
   ]
  },
  {
   "cell_type": "code",
   "execution_count": null,
   "metadata": {
    "collapsed": false
   },
   "outputs": [],
   "source": [
    "epsilon = np.finfo(float).eps\n",
    "print epsilon"
   ]
  },
  {
   "cell_type": "code",
   "execution_count": null,
   "metadata": {
    "collapsed": false
   },
   "outputs": [],
   "source": [
    "a = np.pi\n",
    "b = 22.0/7.0\n",
    "c = 11/7\n",
    "print a, b, a - b, (a-b)/a"
   ]
  },
  {
   "cell_type": "code",
   "execution_count": null,
   "metadata": {
    "collapsed": true
   },
   "outputs": [],
   "source": []
  }
 ],
 "metadata": {
  "anaconda-cloud": {},
  "kernelspec": {
   "display_name": "Python [Root]",
   "language": "python",
   "name": "Python [Root]"
  },
  "language_info": {
   "codemirror_mode": {
    "name": "ipython",
    "version": 2
   },
   "file_extension": ".py",
   "mimetype": "text/x-python",
   "name": "python",
   "nbconvert_exporter": "python",
   "pygments_lexer": "ipython2",
   "version": "2.7.12"
  }
 },
 "nbformat": 4,
 "nbformat_minor": 0
}
