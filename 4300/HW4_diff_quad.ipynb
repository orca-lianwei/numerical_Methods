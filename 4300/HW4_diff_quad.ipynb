{
 "cells": [
  {
   "cell_type": "code",
   "execution_count": 1,
   "metadata": {
    "collapsed": false,
    "nbgrader": {
     "grade": false,
     "grade_id": "header1",
     "locked": false,
     "solution": false
    }
   },
   "outputs": [
    {
     "name": "stderr",
     "output_type": "stream",
     "text": [
      "/Users/liang/anaconda/lib/python2.7/site-packages/matplotlib/font_manager.py:273: UserWarning: Matplotlib is building the font cache using fc-list. This may take a moment.\n",
      "  warnings.warn('Matplotlib is building the font cache using fc-list. This may take a moment.')\n"
     ]
    }
   ],
   "source": [
    "%matplotlib inline\n",
    "%precision 16\n",
    "import numpy\n",
    "import matplotlib.pyplot as plt"
   ]
  },
  {
   "cell_type": "markdown",
   "metadata": {
    "nbgrader": {
     "grade": false,
     "grade_id": "header2",
     "locked": true,
     "solution": false
    }
   },
   "source": [
    "Before you turn this problem in, make sure everything runs as expected. First, restart the kernel (in the menubar, select Kernel $\\rightarrow$ Restart) and then run all cells (in the menubar, select Cell $\\rightarrow$ Run All).\n",
    "\n",
    "Make sure you fill in any place that says YOUR CODE HERE or \"YOUR ANSWER HERE\", as well as your name and collaborators below:"
   ]
  },
  {
   "cell_type": "markdown",
   "metadata": {
    "nbgrader": {
     "grade": false,
     "grade_id": "header3",
     "locked": true,
     "solution": false
    }
   },
   "source": [
    "# HW 4:  Numerical Differentiation and Quadrature"
   ]
  },
  {
   "cell_type": "markdown",
   "metadata": {
    "nbgrader": {
     "grade": false,
     "grade_id": "Q-1",
     "locked": true,
     "solution": false
    }
   },
   "source": [
    "## Question 1 - Fundamental Theorem of Calculus"
   ]
  },
  {
   "cell_type": "markdown",
   "metadata": {
    "nbgrader": {
     "grade": false,
     "grade_id": "Q-1a",
     "locked": true,
     "solution": false
    }
   },
   "source": [
    "**(a)** (15) Write a function that computes the integral of the derivative \n",
    "\n",
    "$$I[f] = \\int^x_0 f'(\\hat{x}) d\\hat{x}$$\n",
    "\n",
    "and returns the error from the expected calculation.  Use a second order accurate centered difference scheme and then a left-hand rule to compute the absolute error.  In this case the left-hand quadrature is\n",
    "\n",
    "$$Q[f] = f(x_i) \\Delta x$$\n",
    "\n",
    "The function should take in $x$ values and the function $f(x)$ and return a vector of the **errors** for each value $x$ given."
   ]
  },
  {
   "cell_type": "code",
   "execution_count": 2,
   "metadata": {
    "collapsed": false,
    "nbgrader": {
     "grade": false,
     "grade_id": "A-1a",
     "locked": false,
     "solution": true
    }
   },
   "outputs": [],
   "source": [
    "def int_diff_error(x, f):\n",
    "    ### INSERT CODE HERE\n",
    "    \"\"\"This function take in x values and the function f(x) and return a vector of the errors for each value x given\n",
    "    Parameters: x, f(x)\n",
    "    Return: a vector of errors for each value x\n",
    "    \"\"\"\n",
    "\n",
    "    # Use uniform discretization\n",
    "    N = len(x)\n",
    "    x_hat = numpy.linspace(0.0, 1.0, N)\n",
    "    delta_x_hat = x_hat[1] - x_hat[0]\n",
    "    f_prime = numpy.empty(x_hat.shape)\n",
    "    Qf = numpy.empty(x_hat.shape)\n",
    "    errors = numpy.empty(x_hat.shape)\n",
    "    \n",
    "    #left point\n",
    "    f_prime[0] = (-3.0 * f(x_hat[0]) + 4.0 * f(x_hat[1]) - f(x_hat[2])) / (2.0 * delta_x_hat)\n",
    "    Qf[0] = f_prime[0]*delta_x_hat\n",
    "    errors[0] = f(0.0) - f(0.0) - Qf[0]\n",
    "    #right point\n",
    "    f_prime[-1] = (3.0 * f(x_hat[-1]) - 4.0 * f(x_hat[-2]) + f(x_hat[-3])) / (2.0 * delta_x_hat)\n",
    "    Qf[-1] = f_prime[-1]*delta_x_hat\n",
    "    errors[-1] = f(1.0) - f(0.0) - Qf[-1]\n",
    "    #interval points\n",
    "    f_prime = numpy.empty(x_hat.shape)\n",
    "    f_prime[1:-1] = (f(x_hat[2:]) - f(x_hat[:-2])) / (2 * delta_x_hat)\n",
    "    for i in xrange(1, len(f_prime)):\n",
    "        Qf[i] = Qf[i-1] + f_prime[i]*delta_x_hat\n",
    "    errors = numpy.abs(f(x) - f(0) - Qf)\n",
    "    return errors"
   ]
  },
  {
   "cell_type": "code",
   "execution_count": 3,
   "metadata": {
    "collapsed": false,
    "nbgrader": {
     "grade": true,
     "grade_id": "T-1a",
     "locked": true,
     "points": 15,
     "solution": false
    }
   },
   "outputs": [
    {
     "name": "stdout",
     "output_type": "stream",
     "text": [
      "0.00630738192428\n",
      "Successful FTC evaluation.\n"
     ]
    }
   ],
   "source": [
    "f = lambda x: 1.0 / (1.0 + 100.0 * x**2)\n",
    "x = numpy.linspace(0.0, 1.0, 500)\n",
    "print numpy.max(int_diff_error(x, f))\n",
    "numpy.testing.assert_allclose(int_diff_error(x, f), numpy.zeros(500), atol=1e-2)\n",
    "print \"Successful FTC evaluation.\""
   ]
  },
  {
   "cell_type": "markdown",
   "metadata": {
    "nbgrader": {
     "grade": false,
     "grade_id": "Q-1b",
     "locked": true,
     "solution": false
    }
   },
   "source": [
    "**(b)** (15) Compute the same as above except reverse the order of the operations, i.e.\n",
    "\n",
    "$$D[f] = \\frac{\\text{d}}{\\text{d}x} \\int^x_0 f(\\hat{x}) d\\hat{x}$$\n"
   ]
  },
  {
   "cell_type": "code",
   "execution_count": 4,
   "metadata": {
    "collapsed": false,
    "nbgrader": {
     "grade": false,
     "grade_id": "A-1b",
     "locked": false,
     "solution": true
    }
   },
   "outputs": [],
   "source": [
    "def diff_int_error(x, f):\n",
    "    ### INSERT CODE HERE\n",
    "    \"\"\"This function take in x values and the function f(x) and return a vector of the errors for each value x given\n",
    "    Parameters: x, f(x)\n",
    "    Return: a vector of errors for each value x\n",
    "    \"\"\"\n",
    "    \n",
    "    N = len(x)\n",
    "    x_hat = numpy.linspace(0.0, 1.0, N)\n",
    "    delta_x_hat = x_hat[1] - x_hat[0]\n",
    "    f_prime = numpy.empty(x_hat.shape)\n",
    "    Qf = numpy.empty(x_hat.shape)\n",
    "    errors = numpy.empty(x_hat.shape)\n",
    "    \n",
    "    #calculate left point\n",
    "    Qf[0] = (f(delta_x_hat)+f(0))*delta_x_hat/2.0\n",
    "    f_prime[0] = f(0)\n",
    "    #f_prime[0] = (-3.0 * f(x_hat[0]) + 4.0 * f(x_hat[1]) - f(x_hat[2])) / (2.0 * delta_x_hat)\n",
    "    #calcualte right point\n",
    "    Qf[-1] = (f(1.0-delta_x_hat) + f(1.0))*delta_x_hat/2.0\n",
    "    f_prime[-1] = f(1)\n",
    "    \n",
    "    #calculate the middle interval\n",
    "    for i in xrange(1, len(x_hat)):\n",
    "        Qf[i] = Qf[i-1] + f(x_hat[i])*delta_x_hat\n",
    "        \n",
    "    f_prime[1:-1] = (Qf[2:] - Qf[:-2]) / (2 * delta_x_hat)\n",
    "    errors = numpy.abs(f(x) - f_prime)\n",
    "\n",
    "    return errors"
   ]
  },
  {
   "cell_type": "code",
   "execution_count": 5,
   "metadata": {
    "collapsed": false,
    "nbgrader": {
     "grade": true,
     "grade_id": "T-1b",
     "locked": true,
     "points": 15,
     "solution": false
    }
   },
   "outputs": [
    {
     "name": "stdout",
     "output_type": "stream",
     "text": [
      "0.00650713794123\n",
      "Successful FTC evaluation.\n"
     ]
    }
   ],
   "source": [
    "f = lambda x: 1.0 / (1.0 + 100.0 * x**2)\n",
    "x = numpy.linspace(0.0, 1.0, 500)\n",
    "print numpy.max(diff_int_error(x, f))\n",
    "numpy.testing.assert_allclose(diff_int_error(x, f), numpy.zeros(500), atol=1e-2)\n",
    "print \"Successful FTC evaluation.\""
   ]
  },
  {
   "cell_type": "markdown",
   "metadata": {
    "nbgrader": {
     "grade": false,
     "grade_id": "Q-1c",
     "locked": true,
     "solution": false
    }
   },
   "source": [
    "**(c)** (10) Plot the convergence rate for the number of partitions `N = [10,100,200,300,400,500]` on a `loglog` plot by computing the norm over the error given for each $N$ by using the `numpy.linalg.norm` command with `ord=2` vs. the $\\Delta x$ used.  Theorize about what you observe regarding the order of convergence."
   ]
  },
  {
   "cell_type": "markdown",
   "metadata": {
    "nbgrader": {
     "grade": true,
     "grade_id": "A-1c1",
     "locked": false,
     "points": 5,
     "solution": true
    }
   },
   "source": [
    "From the graph, we can see our method follows 1st order of convergence."
   ]
  },
  {
   "cell_type": "code",
   "execution_count": 6,
   "metadata": {
    "collapsed": false,
    "nbgrader": {
     "grade": true,
     "grade_id": "A-1c2",
     "locked": false,
     "points": 5,
     "solution": true
    }
   },
   "outputs": [
    {
     "data": {
      "image/png": "[encoded data removed]",
      "text/plain": [
       "<matplotlib.figure.Figure at 0x10c6bafd0>"
      ]
     },
     "metadata": {},
     "output_type": "display_data"
    }
   ],
   "source": [
    "# ### INSERT CODE HERE\n",
    "# Compute the error as a function of delta_x\n",
    "delta_x = []\n",
    "error = []\n",
    "N = [10, 100, 200, 300, 400, 500]\n",
    "for n in N:\n",
    "    x_hat = numpy.linspace(0.0, 1.0, n)\n",
    "    delta_x.append(x_hat[1] - x_hat[0])\n",
    "    \n",
    "\n",
    "    f_prime = numpy.empty(x_hat.shape)\n",
    "    Qf = numpy.empty(x_hat.shape)\n",
    "    errors = numpy.empty(x_hat.shape)\n",
    "    \n",
    "    #left point\n",
    "    f_prime[0] = (-3.0 * f(x_hat[0]) + 4.0 * f(x_hat[1]) - f(x_hat[2])) / (2.0 * delta_x[-1])\n",
    "    Qf[0] = f_prime[0]*delta_x[-1]\n",
    "    errors[0] = f(0.0) - f(0.0) - Qf[0]\n",
    "    #right point\n",
    "    f_prime[-1] = (3.0 * f(x_hat[-1]) - 4.0 * f(x_hat[-2]) + f(x_hat[-3])) / (2.0 * delta_x[-1])\n",
    "    Qf[-1] = f_prime[-1]*delta_x[-1]\n",
    "    errors[-1] = f(1.0) - f(0.0) - Qf[-1]\n",
    "    #interval points\n",
    "    f_prime = numpy.empty(x_hat.shape)\n",
    "    f_prime[1:-1] = (f(x_hat[2:]) - f(x_hat[:-2])) / (2 * delta_x[-1])\n",
    "    for i in xrange(1, len(x_hat)):\n",
    "        Qf[i] = Qf[i-1] + f_prime[i]*delta_x[-1]\n",
    "    errors = numpy.abs(f(x_hat) - f(0) - Qf)\n",
    "    error.append(numpy.linalg.norm(numpy.abs(errors), ord=2))\n",
    "    \n",
    "error = numpy.array(error)\n",
    "delta_x = numpy.array(delta_x)\n",
    "    \n",
    "fig = plt.figure()\n",
    "axes = fig.add_subplot(1, 1, 1)\n",
    "\n",
    "axes.loglog(delta_x, error, 'ko', label=\"Approx. Derivative\")\n",
    "\n",
    "order_C = lambda delta_x, error, order: numpy.exp(numpy.log(error) - order * numpy.log(delta_x))\n",
    "axes.loglog(delta_x, order_C(delta_x[0], error[0], 1.0) * delta_x**1.0, 'r--', label=\"1st Order\")\n",
    "axes.loglog(delta_x, order_C(delta_x[0], error[0], 2.0) * delta_x**2.0, 'b--', label=\"2nd Order\")\n",
    "axes.legend(loc=4)\n",
    "axes.set_title(\"Convergence of 1st Order Differences\")\n",
    "axes.set_xlabel(\"$\\Delta x$\")\n",
    "axes.set_ylabel(\"$|f(x) - \\hat{f}(x)|$\")\n",
    "\n",
    "plt.show()"
   ]
  },
  {
   "cell_type": "markdown",
   "metadata": {
    "nbgrader": {
     "grade": false,
     "grade_id": "Q-2",
     "locked": true,
     "solution": false
    }
   },
   "source": [
    "## Question 2 - Quadrature\n",
    "\n",
    "Consider the scaled Fresnel integrals\n",
    "\n",
    "$$I_c = \\int^1_0 \\frac{\\cos x}{\\sqrt{x}} dx~~~~\\text{and}~~~~I_s = \\int^1_0 \\frac{\\sin x}{\\sqrt{x}} dx$$\n",
    "\n",
    "which have values\n",
    "\n",
    "$$I_c = \\sqrt{2 \\pi} \\cdot C\\left(\\sqrt{\\frac{2}{\\pi}}\\right) \\approx 1.8090484758005438$$\n",
    "\n",
    "$$I_s = \\sqrt{2 \\pi} \\cdot S\\left(\\sqrt{\\frac{2}{\\pi}}\\right) \\approx 0.62053660344676231$$\n",
    "\n",
    "where the functions $C(x)$ and $S(x)$ can be evaluated by `scipy.special.fresnel`."
   ]
  },
  {
   "cell_type": "markdown",
   "metadata": {
    "nbgrader": {
     "grade": false,
     "grade_id": "Q-2a",
     "locked": true,
     "solution": false
    }
   },
   "source": [
    "**(a)** (10) Write a function that computes both integrals using the  trapezoidal rule with N partitions of equal length \"ignoring\" the singularity at $x=0$ by setting integrands to 0."
   ]
  },
  {
   "cell_type": "code",
   "execution_count": 7,
   "metadata": {
    "collapsed": true,
    "nbgrader": {
     "grade": false,
     "grade_id": "A-2a",
     "locked": false,
     "solution": true
    }
   },
   "outputs": [],
   "source": [
    "import scipy.special\n",
    "def trap_1(N):\n",
    "    ### INSERT CODE HERE\n",
    "    I_c = lambda x: numpy.cos(x)/numpy.sqrt(x)\n",
    "    I_s = lambda x: numpy.sin(x)/numpy.sqrt(x)\n",
    "    x = numpy.linspace(0.0, 1.0, 1000)\n",
    "    \n",
    "    x_hat = numpy.linspace(0.0, 1.0, N+1)\n",
    "    delta_x = x_hat[1] - x_hat[0]\n",
    "    \n",
    "    Is = 0.0\n",
    "    sum_1 = 0.0\n",
    "    for i in xrange(1, N):\n",
    "        sum_1 += delta_x*I_s(x_hat[i])\n",
    "    Is = (I_s(x_hat[N])*delta_x)/2.0 + sum_1\n",
    "\n",
    "    Ic = 0.0\n",
    "    sum_2 = 0.0\n",
    "    for i in xrange(1, N):\n",
    "        sum_2 += delta_x*I_c(x_hat[i])\n",
    "    Ic = (I_c(x_hat[N])*delta_x)/2.0 + sum_2   \n",
    "    return Is, Ic"
   ]
  },
  {
   "cell_type": "code",
   "execution_count": 8,
   "metadata": {
    "collapsed": false,
    "nbgrader": {
     "grade": true,
     "grade_id": "T-2a",
     "locked": true,
     "points": 10,
     "solution": false
    }
   },
   "outputs": [
    {
     "name": "stdout",
     "output_type": "stream",
     "text": [
      "Error: 7.32497950294e-05\n",
      "Computed the integrals correctly using the trapezoidal rule only.\n"
     ]
    }
   ],
   "source": [
    "import scipy.special\n",
    "Is, Ic = scipy.special.fresnel(numpy.sqrt(2.0 / numpy.pi))\n",
    "Is *= numpy.sqrt(2.0 * numpy.pi)\n",
    "Ic *= numpy.sqrt(2.0 * numpy.pi)\n",
    "Is_hat, Ic_hat = trap_1(200)\n",
    "error = numpy.abs(Is_hat - Is)\n",
    "print \"Error: %s\" % error\n",
    "numpy.testing.assert_allclose(error, 0.0, atol=1e-4)\n",
    "print \"Computed the integrals correctly using the trapezoidal rule only.\"    "
   ]
  },
  {
   "cell_type": "markdown",
   "metadata": {
    "nbgrader": {
     "grade": false,
     "grade_id": "Q-2b",
     "locked": true,
     "solution": false
    }
   },
   "source": [
    "**(b)** (10) A weighted Newton-Cotes quadrature rule is a modification of our version of Newton-Cotes quadrature except that we also multiply by a weighting function such that\n",
    "\n",
    "$$\\int^1_0 w(x) f(x) dx = \\sum^{N}_{i=1} w_i f(x_i)$$\n",
    "\n",
    "For the weight $x^{-1/2}$ we can show that \n",
    "\n",
    "$$\\int^1_0 \\frac{f(x)}{\\sqrt{x}} dx \\approx \\frac{2}{3} (2 f(0) + f(1))$$\n",
    "\n",
    "Combining this formula with the trapezoidal rule approach above, evaluate the integrals again by using the trapezoid rule except for the partition $[0,\\Delta x]$ that involves the singularity use the above weighted Newton-Cotes rule.  Note that you will have to map the rule to the partition."
   ]
  },
  {
   "cell_type": "code",
   "execution_count": 9,
   "metadata": {
    "collapsed": false,
    "nbgrader": {
     "grade": false,
     "grade_id": "A-2b",
     "locked": false,
     "solution": true
    }
   },
   "outputs": [],
   "source": [
    "def trap_wnc(N):\n",
    "    ### INSERT CODE HERE\n",
    "    I_c = lambda x: numpy.cos(x)/numpy.sqrt(x)\n",
    "    I_s = lambda x: numpy.sin(x)/numpy.sqrt(x)\n",
    "    \n",
    "    x = numpy.linspace(0.0, 1.0, 1000)\n",
    "    x_hat = numpy.linspace(0.0, 1.0, N+1)\n",
    "    delta_x = x_hat[1] - x_hat[0]\n",
    "       \n",
    "    Is = 0.0\n",
    "    sum_1 = 0.0\n",
    "    for i in xrange(1, N):\n",
    "        sum_1 += delta_x*I_s(x_hat[i])\n",
    "    Is = (2.0*(2.0*numpy.sin(0)+numpy.sin(delta_x))/3.0 + I_s(x_hat[N]))*delta_x/2.0 + sum_1\n",
    "\n",
    "    Ic = 0.0\n",
    "    sum_2 = 0.0\n",
    "    for i in xrange(1, N):\n",
    "        sum_2 += delta_x*I_c(x_hat[i])\n",
    "    Ic = (2.0*(2.0*numpy.cos(0)+numpy.cos(delta_x))/3.0 + I_c(x_hat[N]))*delta_x/2.0 + sum_2\n",
    "    return Is, Ic"
   ]
  },
  {
   "cell_type": "code",
   "execution_count": 10,
   "metadata": {
    "collapsed": false,
    "nbgrader": {
     "grade": true,
     "grade_id": "T-2b",
     "locked": true,
     "points": 10,
     "solution": false
    },
    "scrolled": true
   },
   "outputs": [
    {
     "name": "stdout",
     "output_type": "stream",
     "text": [
      "Error: 6.49164964183e-05\n",
      "Computed the integrals correctly using the trapezoidal and Newton-Cotes rules.\n"
     ]
    }
   ],
   "source": [
    "import scipy.special\n",
    "Is, Ic = scipy.special.fresnel(numpy.sqrt(2.0 / numpy.pi))\n",
    "Is *= numpy.sqrt(2.0 * numpy.pi)\n",
    "Ic *= numpy.sqrt(2.0 * numpy.pi)\n",
    "Is_hat, Ic_hat = trap_wnc(200)\n",
    "error = numpy.abs(Is_hat - Is)\n",
    "print \"Error: %s\" % error\n",
    "numpy.testing.assert_allclose(error, 0.0, atol=1e-4)\n",
    "print \"Computed the integrals correctly using the trapezoidal and Newton-Cotes rules.\"    "
   ]
  },
  {
   "cell_type": "markdown",
   "metadata": {
    "nbgrader": {
     "grade": false,
     "grade_id": "Q-2c",
     "locked": true,
     "solution": false
    }
   },
   "source": [
    "**(c)** (10) Do a change of variables $x = t^2$ and evaluate each integral using the trapezoidal rule for the entire domain."
   ]
  },
  {
   "cell_type": "code",
   "execution_count": 11,
   "metadata": {
    "collapsed": false,
    "nbgrader": {
     "grade": false,
     "grade_id": "A-2c",
     "locked": false,
     "solution": true
    }
   },
   "outputs": [],
   "source": [
    "def trap_transformed(N):\n",
    "    ### INSERT CODE HERE\n",
    "    I_c = lambda x: 2.0*numpy.cos(x**2)\n",
    "    I_s = lambda x: 2.0*numpy.sin(x**2)\n",
    "    \n",
    "    \n",
    "    x = numpy.linspace(0.0, 1.0, 1000)\n",
    "    \n",
    "    x_hat = numpy.linspace(0.0, 1.0, N+1)\n",
    "    delta_x = x_hat[1] - x_hat[0]\n",
    "    \n",
    "    Is = 0.0\n",
    "    sum_1 = 0.0\n",
    "    for i in xrange(1, N):\n",
    "        sum_1 += delta_x*I_s(x_hat[i])\n",
    "    Is = (I_s(x_hat[N])*delta_x)/2.0 + sum_1\n",
    "\n",
    "    Ic = 0.0\n",
    "    sum_2 = 0.0\n",
    "    for i in xrange(1, N):\n",
    "        sum_2 += delta_x*I_c(x_hat[i])\n",
    "    Ic = (I_c(x_hat[N])*delta_x)/2.0 + sum_2\n",
    "    return Is, Ic"
   ]
  },
  {
   "cell_type": "code",
   "execution_count": 12,
   "metadata": {
    "collapsed": false,
    "nbgrader": {
     "grade": true,
     "grade_id": "T-2c",
     "locked": true,
     "points": 10,
     "solution": false
    }
   },
   "outputs": [
    {
     "name": "stdout",
     "output_type": "stream",
     "text": [
      "Error: 4.50254425055e-06\n",
      "Computed the integrals correctly using the trapezoidal rule.\n"
     ]
    }
   ],
   "source": [
    "import scipy.special\n",
    "Is, Ic = scipy.special.fresnel(numpy.sqrt(2.0 / numpy.pi))\n",
    "Is *= numpy.sqrt(2.0 * numpy.pi)\n",
    "Ic *= numpy.sqrt(2.0 * numpy.pi)\n",
    "Is_hat, Ic_hat = trap_transformed(200)\n",
    "error = numpy.abs(Is_hat - Is)\n",
    "print \"Error: %s\" % error\n",
    "numpy.testing.assert_allclose(error, 0.0, atol=1e-5)\n",
    "print \"Computed the integrals correctly using the trapezoidal rule.\"    "
   ]
  },
  {
   "cell_type": "markdown",
   "metadata": {
    "nbgrader": {
     "grade": false,
     "grade_id": "Q-2d",
     "locked": true,
     "solution": false
    }
   },
   "source": [
    "**(d)** (10) Do the same as in part (c) but use 3-point Gauss-Legendre quadrature."
   ]
  },
  {
   "cell_type": "code",
   "execution_count": 13,
   "metadata": {
    "collapsed": false,
    "nbgrader": {
     "grade": false,
     "grade_id": "A-2d",
     "locked": false,
     "solution": true
    }
   },
   "outputs": [],
   "source": [
    "def gauss_legendre_3(N):\n",
    "    ### INSERT CODE HERE\n",
    "    I_c = lambda x: 2.0*numpy.cos(x**2)\n",
    "    I_s = lambda x: 2.0*numpy.sin(x**2)\n",
    "\n",
    "    num_partitions = range(50, 1000, 50)\n",
    "    delta_x = numpy.empty(len(num_partitions))\n",
    "\n",
    "\n",
    "    for (j, N) in enumerate(num_partitions):\n",
    "        x_hat = numpy.linspace(0.0, 1.0, N)\n",
    "        delta_x[j] = x_hat[1] - x_hat[0]\n",
    "    \n",
    "        xi_map = lambda a,b,xi : (b - a) / 2.0 * xi + (a + b) / 2.0\n",
    "        xi = [-numpy.sqrt(3.0 / 5.0), 0.0, numpy.sqrt(3.0 / 5.0)]\n",
    "        w = [5.0 / 9.0, 8.0 / 9.0, 5.0 / 9.0]\n",
    "        Is = 0.0\n",
    "        Ic = 0.0\n",
    "        #compute Is\n",
    "        for i in xrange(0, N - 1):\n",
    "            for k in xrange(len(xi)):\n",
    "                Is += I_s(xi_map(x_hat[i], x_hat[i+1], xi[k])) * w[k] \n",
    "        Is *= delta_x[j] / 2.0\n",
    "        #compute Ic\n",
    "        for i in xrange(0, N - 1):\n",
    "            for k in xrange(len(xi)):\n",
    "                Ic += I_s(xi_map(x_hat[i], x_hat[i+1], xi[k])) * w[k] \n",
    "        Ic *= delta_x[j] / 2.0\n",
    "\n",
    "    return Is, Ic"
   ]
  },
  {
   "cell_type": "code",
   "execution_count": 14,
   "metadata": {
    "collapsed": false,
    "nbgrader": {
     "grade": true,
     "grade_id": "T-2d",
     "locked": true,
     "points": 10,
     "solution": false
    }
   },
   "outputs": [
    {
     "name": "stdout",
     "output_type": "stream",
     "text": [
      "Error: 5.55111512313e-16\n",
      "Computed the integrals correctly using the trapezoidal and Newton-Cotes rules.\n"
     ]
    }
   ],
   "source": [
    "import scipy.special\n",
    "Is, Ic = scipy.special.fresnel(numpy.sqrt(2.0 / numpy.pi))\n",
    "Is *= numpy.sqrt(2.0 * numpy.pi)\n",
    "Ic *= numpy.sqrt(2.0 * numpy.pi)\n",
    "Is_hat, Ic_hat = gauss_legendre_3(10)\n",
    "error = numpy.abs(Is_hat - Is)\n",
    "print \"Error: %s\" % error\n",
    "numpy.testing.assert_allclose(error, 0.0, atol=1e-10)\n",
    "print \"Computed the integrals correctly using the trapezoidal and Newton-Cotes rules.\"    "
   ]
  },
  {
   "cell_type": "markdown",
   "metadata": {
    "nbgrader": {
     "grade": false,
     "grade_id": "Q-2e",
     "locked": true,
     "solution": false
    }
   },
   "source": [
    "**(e)** (10) Check the order of accuracy for each of the methods above and plot these on a `loglog` plot with appropriate reference lines to indicate the order of each."
   ]
  },
  {
   "cell_type": "code",
   "execution_count": 15,
   "metadata": {
    "collapsed": false,
    "nbgrader": {
     "grade": true,
     "grade_id": "A-2e",
     "locked": false,
     "points": 10,
     "solution": true
    }
   },
   "outputs": [
    {
     "data": {
      "image/png": "[encoded data removed]",
      "text/plain": [
       "<matplotlib.figure.Figure at 0x10f7e6790>"
      ]
     },
     "metadata": {},
     "output_type": "display_data"
    },
    {
     "data": {
      "image/png": "[encoded data removed]",
      "text/plain": [
       "<matplotlib.figure.Figure at 0x110309310>"
      ]
     },
     "metadata": {},
     "output_type": "display_data"
    },
    {
     "data": {
      "image/png": "[encoded data removed]",
      "text/plain": [
       "<matplotlib.figure.Figure at 0x110309050>"
      ]
     },
     "metadata": {},
     "output_type": "display_data"
    }
   ],
   "source": [
    "# Compute the error as a function of delta_x for each method\n",
    "import scipy.special\n",
    "Is, Ic = scipy.special.fresnel(numpy.sqrt(2.0 / numpy.pi))\n",
    "Is *= numpy.sqrt(2.0 * numpy.pi)\n",
    "Ic *= numpy.sqrt(2.0 * numpy.pi)\n",
    "I_c = lambda x: numpy.cos(x)/numpy.sqrt(x)\n",
    "I_s = lambda x: numpy.sin(x)/numpy.sqrt(x)\n",
    "\n",
    "num_partitions = range(50, 1000, 50)\n",
    "delta_x = numpy.empty(len(num_partitions))\n",
    "error_trap_Is = numpy.empty(len(num_partitions))\n",
    "error_trap_Ic = numpy.empty(len(num_partitions))\n",
    "error_wnc_Is = numpy.empty(len(num_partitions))\n",
    "error_wnc_Ic = numpy.empty(len(num_partitions))\n",
    "error_G_3point_Is = numpy.empty(len(num_partitions))\n",
    "error_G_3point_Ic = numpy.empty(len(num_partitions))\n",
    "\n",
    "\n",
    "for (j, N) in enumerate(num_partitions):\n",
    "    x_hat = numpy.linspace(0.0, 1.0, N)\n",
    "    delta_x[j] = x_hat[1] - x_hat[0]\n",
    "    \n",
    "    # Compute trapezoid\n",
    "    Is_hat, Ic_hat = trap_1(N)\n",
    "    error_trap_Is[j] = numpy.abs(Is_hat - Is)\n",
    "    error_trap_Ic[j] = numpy.abs(Ic_hat - Ic)\n",
    "\n",
    "    # Compute wnc    \n",
    "    Is_wnc, Ic_wnc = trap_wnc(N)\n",
    "    error_wnc_Is[j] = numpy.abs(Is_wnc - Is)\n",
    "    error_wnc_Ic[j] = numpy.abs(Ic_wnc - Ic)\n",
    "\n",
    "    # Compute Gauss-Legendre 3-point\n",
    "    Is_G_3point, Ic_G_3point = gauss_legendre_3(N)\n",
    "    error_G_3point_Is[j] = numpy.abs(Is_G_3point - Is)\n",
    "    error_G_3point_Ic[j] = numpy.abs(Ic_G_3point - Ic)\n",
    "\n",
    "#plot Trapezoid graph   \n",
    "fig = plt.figure()\n",
    "axes = fig.add_subplot(1, 1, 1)\n",
    "\n",
    "axes.loglog(delta_x, error_trap_Is, 'o', label=\"Trapezoid_Is\")\n",
    "axes.loglog(delta_x, error_trap_Ic, 'o', label=\"Trapezoid_Ic\")\n",
    "\n",
    "order_C = lambda delta_x, error, order: numpy.exp(numpy.log(error) - order * numpy.log(delta_x))\n",
    "axes.loglog(delta_x, order_C(delta_x[0], error_trap_Is[0], 1.0) * delta_x**1.0, 'b--', label=\"1st Order\")\n",
    "axes.loglog(delta_x, order_C(delta_x[0], error_trap_Is[0], 2.0) * delta_x**2.0, 'r--', label=\"2nd Order\")\n",
    "\n",
    "axes.set_xlabel(\"$\\Delta x$\")\n",
    "axes.set_ylabel(\"E[f]\")\n",
    "axes.set_title(\"Quadrature Errors for Trapezoid\")\n",
    "\n",
    "axes.legend(loc=1)\n",
    "axes.set_xlim((1e-3, 2e-1))\n",
    "\n",
    "#plot WNC graph\n",
    "fig_1 = plt.figure()\n",
    "axes = fig_1.add_subplot(1, 1, 1)\n",
    "axes.loglog(delta_x, error_wnc_Is, 'o', label=\"WNC_Is\")\n",
    "axes.loglog(delta_x, error_wnc_Ic, 'o', label=\"WNC_Ic\")\n",
    "\n",
    "order_C = lambda delta_x, error, order: numpy.exp(numpy.log(error) - order * numpy.log(delta_x))\n",
    "axes.loglog(delta_x, order_C(delta_x[0], error_trap_Is[0], 1.0) * delta_x**1.0, 'b--', label=\"1st Order\")\n",
    "axes.loglog(delta_x, order_C(delta_x[0], error_trap_Is[0], 2.0) * delta_x**2.0, 'r--', label=\"2nd Order\")\n",
    "\n",
    "axes.set_xlabel(\"$\\Delta x$\")\n",
    "axes.set_ylabel(\"E[f]\")\n",
    "axes.set_title(\"Quadrature Errors for WNC\")\n",
    "\n",
    "axes.legend(loc=1)\n",
    "axes.set_xlim((1e-3, 2e-1))\n",
    "\n",
    "#plot Gauss-3points graph\n",
    "fig_2 = plt.figure()\n",
    "axes = fig_2.add_subplot(1, 1, 1)\n",
    "\n",
    "axes.loglog(delta_x, error_G_3point_Is, 'o', label=\"G-L 3-point_Is\")\n",
    "axes.loglog(delta_x, error_G_3point_Ic, 'o', label=\"G-L 3-point_Ic\")\n",
    "\n",
    "order_C = lambda delta_x, error, order: numpy.exp(numpy.log(error) - order * numpy.log(delta_x))\n",
    "axes.loglog(delta_x, order_C(delta_x[0], error_trap_Is[0], 1.0) * delta_x**1.0, 'b--', label=\"1st Order\")\n",
    "axes.loglog(delta_x, order_C(delta_x[0], error_trap_Is[0], 2.0) * delta_x**2.0, 'r--', label=\"2nd Order\")\n",
    "\n",
    "axes.set_xlabel(\"$\\Delta x$\")\n",
    "axes.set_ylabel(\"E[f]\")\n",
    "axes.set_title(\"Quadrature Errors for Gauss-Legendre 3-point\")\n",
    "\n",
    "axes.legend(loc=1)\n",
    "axes.set_xlim((1e-3, 2e-1))\n",
    "plt.show()"
   ]
  },
  {
   "cell_type": "markdown",
   "metadata": {
    "nbgrader": {
     "grade": false,
     "grade_id": "Q-2f",
     "locked": true,
     "solution": false
    }
   },
   "source": [
    "**(f)** (10) Comment on the results of this question and the vast differences in convergence rates even between the two integrations (why is $I_c$ less accurate than $I_s$)."
   ]
  },
  {
   "cell_type": "markdown",
   "metadata": {
    "nbgrader": {
     "grade": true,
     "grade_id": "A-2f",
     "locked": false,
     "points": 10,
     "solution": true
    }
   },
   "source": [
    "Because $I_s$ is sine function, when x is reaching 0 at the left side, it goes to 0. \n",
    "\n",
    "However, $I_c$ is $\\frac{cos(x)}{\\sqrt x}$, when x is reaching 0, $cos(x)$ is 1, the denominator goes to 0, thus, the whole function goes to infinite. Therefore, when we integrate it, it will cause more error. That's why $I_c$ is less accurate than $I_s$."
   ]
  },
  {
   "cell_type": "code",
   "execution_count": null,
   "metadata": {
    "collapsed": true
   },
   "outputs": [],
   "source": []
  }
 ],
 "metadata": {
  "anaconda-cloud": {},
  "celltoolbar": "Create Assignment",
  "kernelspec": {
   "display_name": "Python [Root]",
   "language": "python",
   "name": "Python [Root]"
  },
  "language_info": {
   "codemirror_mode": {
    "name": "ipython",
    "version": 2
   },
   "file_extension": ".py",
   "mimetype": "text/x-python",
   "name": "python",
   "nbconvert_exporter": "python",
   "pygments_lexer": "ipython2",
   "version": "2.7.12"
  }
 },
 "nbformat": 4,
 "nbformat_minor": 0
}
