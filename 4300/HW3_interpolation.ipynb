{
 "cells": [
  {
   "cell_type": "code",
   "execution_count": 1,
   "metadata": {
    "collapsed": false,
    "nbgrader": {
     "grade": false,
     "grade_id": "header1",
     "locked": false,
     "solution": false
    }
   },
   "outputs": [
    {
     "name": "stderr",
     "output_type": "stream",
     "text": [
      "/Users/liang/anaconda/lib/python2.7/site-packages/matplotlib/font_manager.py:273: UserWarning: Matplotlib is building the font cache using fc-list. This may take a moment.\n",
      "  warnings.warn('Matplotlib is building the font cache using fc-list. This may take a moment.')\n"
     ]
    }
   ],
   "source": [
    "%matplotlib inline\n",
    "import numpy\n",
    "import matplotlib.pyplot as plt"
   ]
  },
  {
   "cell_type": "markdown",
   "metadata": {
    "nbgrader": {
     "grade": false,
     "grade_id": "header2",
     "locked": true,
     "solution": false
    }
   },
   "source": [
    "Before you turn this problem in, make sure everything runs as expected. First, restart the kernel (in the menubar, select Kernel $\\rightarrow$ Restart) and then run all cells (in the menubar, select Cell $\\rightarrow$ Run All).\n",
    "\n",
    "Make sure you fill in any place that says YOUR CODE HERE or \"YOUR ANSWER HERE\", as well as your name and collaborators below:"
   ]
  },
  {
   "cell_type": "markdown",
   "metadata": {
    "nbgrader": {
     "grade": false,
     "grade_id": "header3",
     "locked": true,
     "solution": false
    }
   },
   "source": [
    "# HW 3:  Interpolation"
   ]
  },
  {
   "cell_type": "markdown",
   "metadata": {
    "nbgrader": {
     "grade": false,
     "grade_id": "Q1",
     "locked": true,
     "solution": false
    }
   },
   "source": [
    "## Question 1\n",
    "\n",
    "Consider data at three points $(x_0, y_0) = (0, 0)$, $(x_1, y_1) = (1, 2)$, and $(x_2, y_2) = (2, 2)$."
   ]
  },
  {
   "cell_type": "markdown",
   "metadata": {
    "nbgrader": {
     "grade": false,
     "grade_id": "Q1-a",
     "locked": true,
     "solution": false
    }
   },
   "source": [
    "**(a)** (20 points) Analytically find the interpolating polynomial $P(x)$ in the basis\n",
    "1. Monomial: $P(x) = p_0 + p_1 x + p_2 x^2$\n",
    "1. Newton: $P(x) = \\sum^2_{i=0} a_i n_i(x)$"
   ]
  },
  {
   "cell_type": "markdown",
   "metadata": {
    "nbgrader": {
     "grade": true,
     "grade_id": "A1-a",
     "locked": false,
     "points": 20,
     "solution": true
    }
   },
   "source": [
    "**(1)**\n",
    "$$P(x_{0}) = p_{0} + p_{1}x_{0} + p_{2}x_{0}^{2} = p_{0} + 0 + 0 = 0$$ \n",
    "thus, $p_{0} = 0$\n",
    "$$P(x_{1}) = p_{0} + p_{1}x_{1} + p_{2}x_{1}^{2} = 0 + p_{1} + p_{2} = 2$$\n",
    "\n",
    "$$P(x_{2}) = p_{0} + p_{1}x_{2} + p_{2}x_{2}^{2} = 0 + 2p_{1} + 4p_{2} = 2$$\n",
    "\n",
    "thus, $p_{1} = 3$, $p_{2} = -1$\n",
    "\n",
    "**(2)**\n",
    "$$y_{0} = a_{0} = 0$$\n",
    "$$y_{1} = a_{0} + a_{1}(x_{1} - x_{0}) = 0 + a_{1}(1 - 0) = 2$$\n",
    "thus, $a_{1} = 2$\n",
    "$$y_{2} = a_{0} + a_{1}(x_{2} - x_{0}) + a_{2}(x_{2} - x_{0})(x_{2} - x_{1}) = 0 + 2*(2-0) + a_{2}(2 - 0)(2 - 1) = 0 + 4 + 2a_{2} = 2$$\n",
    "thus, $a_{2} = -1$\n"
   ]
  },
  {
   "cell_type": "markdown",
   "metadata": {
    "nbgrader": {
     "grade": false,
     "grade_id": "Q1-b",
     "locked": true,
     "solution": false
    }
   },
   "source": [
    "**(b)** (10 points) Show that these all lead to the same polynomial (show that $P(x)$ is in fact unique)."
   ]
  },
  {
   "cell_type": "markdown",
   "metadata": {
    "nbgrader": {
     "grade": true,
     "grade_id": "A1-b",
     "locked": false,
     "points": 10,
     "solution": true
    }
   },
   "source": [
    "In part **(a)**, we found the coefficients of the x points in two different methods.\n",
    "\n",
    "Plug the value of $p_{i}$ in Monomial: $$P(x) = 0 + 3x - x^{2} = -x^{2} + 3x$$\n",
    "\n",
    "Plug the value of $a_{i}$ in Newton: $$P(x) = 0 + 2(x - x_{0}) - (x - x_{0})(x - x_{1}) = (x - x_{0})(2 - x + x_{1}) = (x - 0)(2 - x + 1) = 2x - x^{2} + x = -x^{2} + 3x$$\n",
    "\n",
    "So, we can see they are lead to the same polynomial, P(x) is in fact unique."
   ]
  },
  {
   "cell_type": "markdown",
   "metadata": {
    "nbgrader": {
     "grade": false,
     "grade_id": "Q1-c",
     "locked": true,
     "solution": false
    }
   },
   "source": [
    "**(c)** (10 points) Use the uniqueness of the interpolating polynomial to show that for general $N+1$ points\n",
    "\n",
    "$$\\sum^N_{i=0} \\ell_i(x) = 1$$\n",
    "\n",
    "at any value of $x$ (i.e. the interpolant of a constant is a constant regardless of $N$).\n",
    "\n",
    "Hint:  Consider the Newton polynomial form and uniqueness."
   ]
  },
  {
   "cell_type": "markdown",
   "metadata": {
    "nbgrader": {
     "grade": true,
     "grade_id": "A1-c",
     "locked": false,
     "points": 10,
     "solution": true
    }
   },
   "source": [
    "By defination of $\\ell_i(x)$, we know:\n",
    "\n",
    "$$\\ell_i(x) = \\prod^{N}_{j=0, j \\neq i} \\frac{x - x_j}{x_i - x_j} = \\frac{x - x_0}{x_i - x_0} \\frac{x - x_1}{x_i - x_1} \\cdots \\frac{x - x_{i-1}}{x_i - x_{i-1}}\\frac{x - x_{i+1}}{x_i - x_{i+1}} \\cdots \\frac{x - x_{N}}{x_i - x_{N}}$$\n",
    "\n",
    "When $x = x_i$, it equal to 1, otherwise, it equals 0. Therefore, the sum of $\\ell_i(x)$ from 0 to N is 1 at any value of x."
   ]
  },
  {
   "cell_type": "markdown",
   "metadata": {
    "nbgrader": {
     "grade": false,
     "grade_id": "Q2",
     "locked": true,
     "solution": false
    }
   },
   "source": [
    "## Question 2\n",
    "\n",
    "(10 points) The $n$th Chebyshev polynomial is characterized (up to a constant) by the identity\n",
    "\n",
    "$$T_n(\\cos \\theta) = \\cos (n \\theta)$$\n",
    "\n",
    "Use this identity to show that the Chebyshev polynomials are orthogonal on $x\\in[-1,1]$ with respect to the weight\n",
    "\n",
    "$$w(x) = \\frac{1}{\\sqrt{1 - x^2}}$$\n",
    "\n",
    "To do this you must prove that\n",
    "\n",
    "$$\\int^1_{-1} w(x) T_n(x) T_m(x) dx = \\left \\{ \\begin{aligned} a & ~ & m = n \\\\ 0 & ~ & m \\neq n \\end{aligned} \\right .$$\n",
    "\n",
    "where $a$ is a finite constant (also find this coefficient)."
   ]
  },
  {
   "cell_type": "markdown",
   "metadata": {
    "nbgrader": {
     "grade": true,
     "grade_id": "A2",
     "locked": false,
     "points": 10,
     "solution": true
    }
   },
   "source": [
    "Since $n$th Chebyshev polynomial is characterized (up to a constant) by the identity:\n",
    "$$T_n(cos\\theta) = cos(n\\theta)$$\n",
    "\n",
    "and we have:\n",
    "\n",
    "$$\\int^1_{-1} w(x) T_n(x) T_m(x) dx$$\n",
    "\n",
    "Thus, $x = cos\\theta$, and $\\sqrt{1 - x^2} = sin\\theta$, also, $dx = -sin\\theta d\\theta$\n",
    "\n",
    "Plug the substitutions to the integral, we have:\n",
    "\n",
    "$$\\int^1_{-1} w(x) T_n(x) T_m(x) dx = \\int^0_{\\pi} \\frac{cos(n\\theta)cos(m\\theta)(-sin\\theta d\\theta)}{sin\\theta}$$\n",
    "\n",
    "Simplify it:\n",
    "\n",
    "$$\\int^{\\pi}_{0} cos(n\\theta)cos(m\\theta) d\\theta$$\n",
    "\n",
    "From trigonometric identity, we know it can be written as:\n",
    "\n",
    "$$\\int^{\\pi}_{0} \\frac{1}{2} cos((n+m)\\theta) + cos((n-m)\\theta) d\\theta$$\n",
    "\n",
    "If $m \\neq n$, we have\n",
    "\n",
    "$$\\frac{1}{2} [\\frac{1}{n+m} sin((n+m)\\theta) + \\frac{1}{n-m} sin((n-m)\\theta)] \\big|^{\\pi}_0$$\n",
    "\n",
    "It goes to 0 since both $sin\\pi$ and $sin0$ are 0.\n",
    "\n",
    "If $m = n$, we will have\n",
    "\n",
    "$$\\int^{\\pi}_{0} \\frac{1}{2} cos((n+m)\\theta) + cos(0) d\\theta$$\n",
    "\n",
    "$$\\int^{\\pi}_{0} \\frac{1}{2} cos((n+m)\\theta) + 1 d\\theta$$\n",
    "\n",
    "$$\\frac{1}{2} [\\frac{1}{n+m} sin((n+m)\\theta) + \\theta] \\big|^{\\pi}_0$$\n",
    "\n",
    "Again, both $sin\\pi$ and $sin0$ are 0\n",
    "\n",
    "Now, it's\n",
    "\n",
    "$$\\frac{\\pi}{2} - 0 = \\frac{\\pi}{2}$$\n",
    "\n",
    "Hence, we proved chebyshev polynomial is orthogonal and coefficient $a = \\frac{\\pi}{2}$\n",
    "\n"
   ]
  },
  {
   "cell_type": "markdown",
   "metadata": {
    "nbgrader": {
     "grade": false,
     "grade_id": "Q3",
     "locked": true,
     "solution": false
    }
   },
   "source": [
    "## Question 3\n",
    "\n",
    "(10 points) For N = 4 find the maximum value and its location of $|\\ell_2(x)|$ for equispaced points on $[-1, 1]$."
   ]
  },
  {
   "cell_type": "markdown",
   "metadata": {
    "nbgrader": {
     "grade": true,
     "grade_id": "A3",
     "locked": false,
     "points": 10,
     "solution": true
    }
   },
   "source": [
    "By defination, we know \n",
    "\n",
    "$$|\\ell_i(x)| = |\\prod^{N}_{j=0, j \\neq i} \\frac{x - x_j}{x_i - x_j} = \\frac{x - x_0}{x_i - x_0} \\frac{x - x_1}{x_i - x_1} \\cdots \\frac{x - x_{i-1}}{x_i - x_{i-1}}\\frac{x - x_{i+1}}{x_i - x_{i+1}} \\cdots \\frac{x - x_{N}}{x_i - x_{N}}|$$\n",
    "\n",
    "And, for N = 4 for equispaced points on [-1, 1], we have [-1, -0.5, 0, 0.5, 1] these five points.\n",
    "\n",
    "In this case, $x_0 = -1$, $x_1 = -0.5$, $x_2 = 0$, $x_3 = 0.5$, $x_4 = 1$\n",
    "\n",
    "$$|\\ell_2(x)| = |\\prod^{4}_{j=0, j \\neq 2} \\frac{x - x_j}{x_2 - x_j} = \\frac{x - x_0}{x_2 - x_0} \\frac{x - x_1}{x_2 - x_1} \\frac{x - x_3}{x_2 - x_3}\\frac{x - x_4}{x_2 - x_4}|$$\n",
    "\n",
    "$$|\\ell_2(x)| = |\\prod^{4}_{j=0, j \\neq 2} \\frac{x - x_j}{x_2 - x_j} = \\frac{x + 1}{0 + 1} \\frac{x + 0.5}{0 + 0.5} \\frac{x - 0.5}{0 - 0.5}\\frac{x - 1}{0 - 1}|$$\n",
    "\n",
    "Simplify it to:\n",
    "\n",
    "$$|(x + 1) \\frac{x + 0.5}{0.5} \\frac{x - 0.5}{0.5} (1 - x)|$$\n",
    "\n",
    "$$|(1 - x^2)(1 - 4x^2)|$$\n",
    "\n",
    "It can get to the max only when both $(1 - x^2)$ and $(1 - 4x^2)$ get to the max, thus only when $x = 0$, they can get to their max. \n",
    "\n",
    "Therefore, its max value is 1 when $x = 0$"
   ]
  },
  {
   "cell_type": "markdown",
   "metadata": {
    "nbgrader": {
     "grade": false,
     "grade_id": "Q4",
     "locked": true,
     "solution": false
    }
   },
   "source": [
    "## Question 4\n",
    "\n",
    "Consider the Lebesgue function\n",
    "$$\n",
    "\\lambda_N(x)  = \\sum_{i=0}^N\\big{|}\\ell_i(x)\\big{|}\n",
    "$$\n",
    "where $\\ell_i(x)$ are Lagrange basis functions for a given set of $x_i$.  The maximum of the Lebesgue function is called $\\Lambda_n$ the Lebesgue constant and are clearly related to Lagrangian interpolation as they provide a first estimate for the interpolation error.  Unfortunately, $\\Lambda_N$ is not uniformly bounded regardless of the nodes used as one can show that \n",
    "$$\n",
    "    \\Lambda_N > \\mathcal{O}(\\log N) ~~~\\text{as}~~~ N \\rightarrow \\infty\n",
    "$$\n",
    "\n",
    "Note, $\\Lambda_n$ is the infinite-norm of the linear operator mapping data to interpolant on the given grid and interval."
   ]
  },
  {
   "cell_type": "markdown",
   "metadata": {
    "nbgrader": {
     "grade": false,
     "grade_id": "Q4-a",
     "locked": true,
     "solution": false
    }
   },
   "source": [
    "**(a)** (5 points) What do you expect the Lebesgue function to look like?  Are there key points where we will know the function value exactly?"
   ]
  },
  {
   "cell_type": "markdown",
   "metadata": {
    "nbgrader": {
     "grade": true,
     "grade_id": "A4-a",
     "locked": false,
     "points": 5,
     "solution": true
    }
   },
   "source": [
    "The Lebesgue function will look like Lagrange basis, but the image will like wave, since because it's the sum of absolute value of Lagrange basis. For Lagrange basis, different vector hits 1 for one time at different x. Thus, the composition should hit 1 several time according to how many vectors we have. There are some key points that we will know the function value exactly. Since when we calculate Lagrange basis, $\\ell_i (x_i) = 1$, thus, $\\lambda_N (x_i) = 1$"
   ]
  },
  {
   "cell_type": "markdown",
   "metadata": {
    "nbgrader": {
     "grade": false,
     "grade_id": "Q4-b",
     "locked": true,
     "solution": false
    }
   },
   "source": [
    "**(b)** (10 points) Plot the Lebesgue function for $x\\in[-1, 1]$ for $N = 5, 10, 20$ with\n",
    "$$\n",
    "    x_i = -1 + \\frac{2 i}{N}, ~~~ i = 0, 1, \\ldots, N.\n",
    "$$\n",
    "For the case where $N = 20$ comment on what you see (you may need to use `semilogy` to see the results)."
   ]
  },
  {
   "cell_type": "code",
   "execution_count": 2,
   "metadata": {
    "collapsed": false,
    "nbgrader": {
     "grade": true,
     "grade_id": "A4-b1",
     "locked": false,
     "points": 8,
     "solution": true
    }
   },
   "outputs": [
    {
     "data": {
      "image/png": "[encoded data removed]",
      "text/plain": [
       "<matplotlib.figure.Figure at 0x10518fa90>"
      ]
     },
     "metadata": {},
     "output_type": "display_data"
    }
   ],
   "source": [
    "### INSERT CODE HERE\n",
    "#N = 5\n",
    "data = numpy.empty((6,2))\n",
    "data[:, 0] = [-1.0, -0.6, -0.2, 0.2, 0.6, 1.0]\n",
    "data[:, 1] = [1.0, 1.0, 1.0, 1.0, 1.0, 1.0]\n",
    "N = data.shape[0] - 1\n",
    "x = numpy.linspace(-1.0, 1.0, 100)\n",
    "Lebesgue = numpy.zeros(( x.shape[0]))\n",
    "\n",
    "lagrange_basis = numpy.ones((N + 1, x.shape[0]))\n",
    "for i in xrange(N + 1):\n",
    "    for j in xrange(N + 1):\n",
    "        if i != j:\n",
    "            lagrange_basis[i, :] *= (x - data[j, 0]) / (data[i, 0] - data[j, 0])\n",
    "for i in xrange(N + 1):\n",
    "    Lebesgue += numpy.abs(lagrange_basis[i, :])\n",
    "\n",
    "#N = 10\n",
    "M = 10\n",
    "data_10 = numpy.empty((11, 2))\n",
    "for i in xrange(M+1):\n",
    "    x = -1.0 + ((2.0 * i) / M)\n",
    "    data_10[i, 0] = x\n",
    "\n",
    "x = numpy.linspace(-1.0, 1.0, 100)\n",
    "Lebesgue_10 = numpy.zeros((x.shape[0]))\n",
    "\n",
    "lagrange_basis_10 = numpy.ones((M + 1, x.shape[0]))\n",
    "for i in xrange(M + 1):\n",
    "    for j in xrange(M + 1):\n",
    "        if i != j:\n",
    "            lagrange_basis_10[i, :] *= (x - data_10[j, 0]) / (data_10[i, 0] - data_10[j, 0])\n",
    "for i in xrange(M + 1):\n",
    "    Lebesgue_10 += numpy.abs(lagrange_basis_10[i, :])\n",
    "\n",
    "#N = 20\n",
    "Q = 20\n",
    "data_20 = numpy.empty((21, 2))\n",
    "for i in xrange(Q+1):\n",
    "    x = -1.0 + ((2.0 * i) / Q)\n",
    "    data_20[i, 0] = x\n",
    "\n",
    "x = numpy.linspace(-1.0, 1.0, 100)\n",
    "Lebesgue_20 = numpy.zeros((x.shape[0]))\n",
    "\n",
    "lagrange_basis_20 = numpy.ones((Q + 1, x.shape[0]))\n",
    "for i in xrange(Q + 1):\n",
    "    for j in xrange(Q + 1):\n",
    "        if i != j:\n",
    "            lagrange_basis_20[i, :] *= (x - data_20[j, 0]) / (data_20[i, 0] - data_20[j, 0])\n",
    "for i in xrange(Q + 1):\n",
    "    Lebesgue_20 += numpy.abs(lagrange_basis_20[i, :])\n",
    "    \n",
    "    \n",
    "fig = plt.figure()\n",
    "axes = fig.add_subplot(3, 1, 1)\n",
    "for i in xrange(N + 1):\n",
    "    axes.plot(x, Lebesgue, label=\"$\\ell_{%s}(x)$\" % i)\n",
    "axes = fig.add_subplot(3, 1, 2)\n",
    "for i in xrange(M+1):\n",
    "    axes.plot(x, Lebesgue_10, label=\"$\\ell_{%s}(x)$\" % i)\n",
    "axes = fig.add_subplot(3, 1, 3)\n",
    "for i in xrange(Q+1):\n",
    "    plt.semilogy(x, Lebesgue_20, label=\"$\\ell_{%s}(x)$\" % i)\n",
    "    \n",
    "# axes.set_title(\"Lebesgue $\\lambda_N(x)$\")\n",
    "# axes.set_xlabel(\"x\")\n",
    "# axes.set_ylabel(\"$\\lambda_N(x)$\")"
   ]
  },
  {
   "cell_type": "markdown",
   "metadata": {
    "nbgrader": {
     "grade": true,
     "grade_id": "A4-b2",
     "locked": false,
     "points": 2,
     "solution": true
    }
   },
   "source": [
    "For the case when N = 20, when it is in the middle of the interval, the amplitude is small. However, when it is reaching the endpoints of interval [-1, 1], the amplitude is becoming bigger and bigger."
   ]
  },
  {
   "cell_type": "markdown",
   "metadata": {
    "nbgrader": {
     "grade": false,
     "grade_id": "Q4-c",
     "locked": true,
     "solution": false
    }
   },
   "source": [
    "**(c)** (10 points) Plot the Lebesgue function for $x\\in[-1, 1]$ for $N = 5, 10, 20$ with\n",
    "$$\n",
    "    x_i = \\cos\\left( \\frac{(2i - 1) \\pi}{2 N} \\right ) ~~~ i = 1, \\ldots, N + 1.\n",
    "$$\n",
    "Again comment on what you see in the case $N = 20$."
   ]
  },
  {
   "cell_type": "code",
   "execution_count": 3,
   "metadata": {
    "collapsed": false,
    "nbgrader": {
     "grade": true,
     "grade_id": "A4-c1",
     "locked": false,
     "points": 8,
     "solution": true
    }
   },
   "outputs": [
    {
     "data": {
      "image/png": "[encoded data removed]",
      "text/plain": [
       "<matplotlib.figure.Figure at 0x10bf3c2d0>"
      ]
     },
     "metadata": {},
     "output_type": "display_data"
    }
   ],
   "source": [
    "### INSERT CODE HERE\n",
    "x = numpy.linspace(-1,1,100)\n",
    "\n",
    "N = 5\n",
    "\n",
    "lagrange_basis = numpy.ones((N + 1, x.shape[0]))\n",
    "data = numpy.empty(N+1)\n",
    "for i in xrange(1, N+1):\n",
    "    data[i]= numpy.cos((2*i-1)*numpy.pi/ (2*N))\n",
    "\n",
    "for i in xrange(N+1):\n",
    "    for j in xrange(N+1):\n",
    "        if i != j:\n",
    "            lagrange_basis[i, :] *= (x - data[j]) / (data[i] - data[j])\n",
    "    \n",
    "Lebesgue = numpy.zeros(x.shape[0])\n",
    "for i in xrange(N+1):\n",
    "    Lebesgue += numpy.abs(lagrange_basis[i, :])\n",
    "\n",
    "#print Lebesgue\n",
    "M = 10\n",
    "\n",
    "lagrange_basis_10 = numpy.ones((M + 1, x.shape[0]))\n",
    "data_10 = numpy.empty(M + 1)\n",
    "for i in xrange(1,M+1):\n",
    "    data_10[i]= numpy.cos((2*i-1)*numpy.pi/ (2*M))\n",
    "\n",
    "for i in xrange(M + 1):\n",
    "    for j in xrange(M + 1):\n",
    "        if i != j:\n",
    "            lagrange_basis_10[i, :] *= (x - data_10[j]) / (data_10[i] - data_10[j])\n",
    "    \n",
    "Lebesgue_10 = numpy.zeros(x.shape[0])\n",
    "for i in xrange(M + 1):\n",
    "    Lebesgue_10 += numpy.abs(lagrange_basis_10[i, :])\n",
    "#plt.plot(x, Lebesgue_10)\n",
    "\n",
    "Q = 20\n",
    "lagrange_basis_20 = numpy.ones((Q + 1, x.shape[0]))\n",
    "data_20 = numpy.empty(Q+1)\n",
    "for i in xrange(1, Q+1):\n",
    "    data_20[i]= numpy.cos((2*i-1)*numpy.pi/ (2*Q))\n",
    "\n",
    "for i in xrange(Q+1):\n",
    "    for j in xrange(Q+1):\n",
    "        if i != j:\n",
    "            lagrange_basis_20[i, :] *= (x - data_20[j]) / (data_20[i] - data_20[j])\n",
    "    \n",
    "Lebesgue_20 = numpy.zeros(x.shape[0])\n",
    "for i in xrange(Q+1):\n",
    "    Lebesgue_20 += numpy.abs(lagrange_basis_20[i, :])\n",
    "    \n",
    "fig = plt.figure()\n",
    "axes = fig.add_subplot(3, 1, 1)\n",
    "for i in xrange(N + 1):\n",
    "    plt.semilogy(x, Lebesgue, label=\"$\\ell_{%s}(x)$\" % i)\n",
    "axes = fig.add_subplot(3, 1, 2)\n",
    "for i in xrange(M+1):\n",
    "    plt.semilogy(x, Lebesgue_10, label=\"$\\ell_{%s}(x)$\" % i)\n",
    "axes = fig.add_subplot(3, 1, 3)\n",
    "for i in xrange(Q+1):\n",
    "    plt.semilogy(x, Lebesgue_20, label=\"$\\ell_{%s}(x)$\" % i)\n",
    "    "
   ]
  },
  {
   "cell_type": "markdown",
   "metadata": {
    "nbgrader": {
     "grade": true,
     "grade_id": "A4-c2",
     "locked": false,
     "points": 2,
     "solution": true
    }
   },
   "source": [
    "For the case of N = 20, the amplitude is small in the middle, but it's kind of bigger when it is reaching the endpoints of the interval. But the amplitude is relatively small than N = 5 or N = 10."
   ]
  },
  {
   "cell_type": "markdown",
   "metadata": {
    "nbgrader": {
     "grade": false,
     "grade_id": "Q4-d",
     "locked": true,
     "solution": false
    }
   },
   "source": [
    "**(d)** (5 points) What do you observe about the Lebesgue function for each of the distribution of points?"
   ]
  },
  {
   "cell_type": "markdown",
   "metadata": {
    "nbgrader": {
     "grade": true,
     "grade_id": "A4-d",
     "locked": false,
     "points": 5,
     "solution": true
    }
   },
   "source": [
    "For **(b)**, we observed when N is bigger, the amplitude is bigger, especially when it's reaching the endpoints of the interval. But for **(c)**, we observed when N is bigger, the amplitude is smaller and it is stable during the interval. The reason might be the different functions, since cosine is periodic function."
   ]
  },
  {
   "cell_type": "markdown",
   "metadata": {
    "nbgrader": {
     "grade": false,
     "grade_id": "Q4-e",
     "locked": true,
     "solution": false
    }
   },
   "source": [
    "**(e)** (10 points) Using suitable values for $N$ plot the Lebesgue constants of each of the above cases.  Make sure to use a suitably large number of points to evaluate the function at.  Graphically demonstrate that the constant grow with the predicted growth rate $\\mathcal{O}(\\log N)$.  Describe what you observe."
   ]
  },
  {
   "cell_type": "code",
   "execution_count": 4,
   "metadata": {
    "collapsed": false,
    "nbgrader": {
     "grade": true,
     "grade_id": "Q4-e1",
     "locked": false,
     "points": 10,
     "solution": true
    }
   },
   "outputs": [
    {
     "ename": "NameError",
     "evalue": "name 'Lebesgue_equi' is not defined",
     "output_type": "error",
     "traceback": [
      "\u001b[0;31m---------------------------------------------------------------------------\u001b[0m",
      "\u001b[0;31mNameError\u001b[0m                                 Traceback (most recent call last)",
      "\u001b[0;32m<ipython-input-4-c85272653583>\u001b[0m in \u001b[0;36m<module>\u001b[0;34m()\u001b[0m\n\u001b[1;32m      5\u001b[0m \u001b[0;31m# Calculate maximum of the Lebesgue function\u001b[0m\u001b[0;34m\u001b[0m\u001b[0;34m\u001b[0m\u001b[0m\n\u001b[1;32m      6\u001b[0m \u001b[0;32mfor\u001b[0m \u001b[0mi\u001b[0m \u001b[0;32min\u001b[0m \u001b[0mrange\u001b[0m \u001b[0;34m(\u001b[0m\u001b[0mN\u001b[0m\u001b[0;34m.\u001b[0m\u001b[0mshape\u001b[0m\u001b[0;34m[\u001b[0m\u001b[0;36m0\u001b[0m\u001b[0;34m]\u001b[0m\u001b[0;34m)\u001b[0m\u001b[0;34m:\u001b[0m\u001b[0;34m\u001b[0m\u001b[0m\n\u001b[0;32m----> 7\u001b[0;31m     \u001b[0mLmax_equi\u001b[0m\u001b[0;34m[\u001b[0m\u001b[0mi\u001b[0m\u001b[0;34m]\u001b[0m \u001b[0;34m=\u001b[0m \u001b[0mnumpy\u001b[0m\u001b[0;34m.\u001b[0m\u001b[0mmax\u001b[0m\u001b[0;34m(\u001b[0m\u001b[0mLebesgue_equi\u001b[0m\u001b[0;34m(\u001b[0m\u001b[0mN\u001b[0m\u001b[0;34m[\u001b[0m\u001b[0mi\u001b[0m\u001b[0;34m]\u001b[0m\u001b[0;34m)\u001b[0m\u001b[0;34m)\u001b[0m\u001b[0;34m\u001b[0m\u001b[0m\n\u001b[0m\u001b[1;32m      8\u001b[0m     \u001b[0mLmax_cheb\u001b[0m\u001b[0;34m[\u001b[0m\u001b[0mi\u001b[0m\u001b[0;34m]\u001b[0m \u001b[0;34m=\u001b[0m \u001b[0mnumpy\u001b[0m\u001b[0;34m.\u001b[0m\u001b[0mmax\u001b[0m\u001b[0;34m(\u001b[0m\u001b[0mLebesgue_cheb\u001b[0m\u001b[0;34m(\u001b[0m\u001b[0mN\u001b[0m\u001b[0;34m[\u001b[0m\u001b[0mi\u001b[0m\u001b[0;34m]\u001b[0m\u001b[0;34m)\u001b[0m\u001b[0;34m)\u001b[0m\u001b[0;34m\u001b[0m\u001b[0m\n\u001b[1;32m      9\u001b[0m \u001b[0;34m\u001b[0m\u001b[0m\n",
      "\u001b[0;31mNameError\u001b[0m: name 'Lebesgue_equi' is not defined"
     ]
    }
   ],
   "source": [
    "N = numpy.array([5, 10, 15, 20, 25, 30])\n",
    "Lmax_equi = numpy.zeros(N.shape)\n",
    "Lmax_cheb = numpy.zeros(N.shape)\n",
    "\n",
    "# Calculate maximum of the Lebesgue function\n",
    "for i in range (N.shape[0]):\n",
    "    Lmax_equi[i] = numpy.max(Lebesgue_equi(N[i]))\n",
    "    Lmax_cheb[i] = numpy.max(Lebesgue_cheb(N[i]))\n",
    "\n",
    "# Plot Constant vs. N \n",
    "fig = plt.figure()\n",
    "axes = fig.add_subplot(1, 1, 1)\n",
    "plt.semilogy(N, Lmax_equi, label = \"Equidistant Nodes\")\n",
    "plt.semilogy(N, Lmax_cheb, label = \"Chebyshev Nodes\")\n",
    "plt.semilogy(N,numpy.log(N), label=\"log(N)\")\n",
    "axes.legend(loc = 0)\n",
    "axes.set_title(\"Growth of Lebesgue Constant (Log-Scale)\")\n",
    "axes.set_xlabel(\"N\")\n",
    "axes.set_ylabel(\"Lebesgue Constant\")\n",
    " \n",
    "plt.show()"
   ]
  },
  {
   "cell_type": "markdown",
   "metadata": {
    "nbgrader": {
     "grade": true,
     "grade_id": "Q4-e2",
     "locked": false,
     "solution": true
    }
   },
   "source": [
    "The first function would go beyond the $O(log N)$, the second one would follow the $O(log N)."
   ]
  },
  {
   "cell_type": "code",
   "execution_count": null,
   "metadata": {
    "collapsed": true
   },
   "outputs": [],
   "source": []
  }
 ],
 "metadata": {
  "anaconda-cloud": {},
  "kernelspec": {
   "display_name": "Python [Root]",
   "language": "python",
   "name": "Python [Root]"
  },
  "language_info": {
   "codemirror_mode": {
    "name": "ipython",
    "version": 2
   },
   "file_extension": ".py",
   "mimetype": "text/x-python",
   "name": "python",
   "nbconvert_exporter": "python",
   "pygments_lexer": "ipython2",
   "version": "2.7.12"
  }
 },
 "nbformat": 4,
 "nbformat_minor": 0
}
