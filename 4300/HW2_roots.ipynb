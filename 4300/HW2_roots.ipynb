{
 "cells": [
  {
   "cell_type": "code",
   "execution_count": 1,
   "metadata": {
    "collapsed": false,
    "nbgrader": {
     "grade": false,
     "grade_id": "header1",
     "locked": false,
     "solution": false
    }
   },
   "outputs": [
    {
     "name": "stderr",
     "output_type": "stream",
     "text": [
      "/Users/liang/anaconda/lib/python2.7/site-packages/matplotlib/font_manager.py:273: UserWarning: Matplotlib is building the font cache using fc-list. This may take a moment.\n",
      "  warnings.warn('Matplotlib is building the font cache using fc-list. This may take a moment.')\n"
     ]
    }
   ],
   "source": [
    "%matplotlib inline\n",
    "import numpy\n",
    "import matplotlib.pyplot as plt"
   ]
  },
  {
   "cell_type": "markdown",
   "metadata": {
    "nbgrader": {
     "grade": false,
     "grade_id": "header2",
     "locked": true,
     "solution": false
    }
   },
   "source": [
    "Before you turn this problem in, make sure everything runs as expected. First, restart the kernel (in the menubar, select Kernel $\\rightarrow$ Restart) and then run all cells (in the menubar, select Cell $\\rightarrow$ Run All).\n",
    "\n",
    "Make sure you fill in any place that says YOUR CODE HERE or \"YOUR ANSWER HERE\", as well as your name and collaborators below:"
   ]
  },
  {
   "cell_type": "markdown",
   "metadata": {
    "nbgrader": {
     "grade": false,
     "grade_id": "header3",
     "locked": true,
     "solution": false
    }
   },
   "source": [
    "# HW 2:  Root Finding and Optimization"
   ]
  },
  {
   "cell_type": "markdown",
   "metadata": {
    "nbgrader": {
     "grade": false,
     "grade_id": "Q1",
     "locked": true,
     "solution": false
    }
   },
   "source": [
    "## Question 1 - Finding the Root\n",
    "\n",
    "Let's say that we wanted to calculate $\\sqrt{M}$ given that $M \\in \\mathbb{R}$ and $M > 0$ and that we did not want to use the function `sqrt` directly.  One way to do this is to solve for the zeros of the function $f(x) = x^2 - M$.\n",
    "\n",
    " - Note that not all the methods will work!\n",
    " - Make sure to handle the case where $M_0 = \\sqrt{M}$.\n",
    " - We are only looking for the positive root of $f(x)$."
   ]
  },
  {
   "cell_type": "markdown",
   "metadata": {
    "nbgrader": {
     "grade": false,
     "grade_id": "Q1-a",
     "locked": true,
     "solution": false
    }
   },
   "source": [
    "**(a)** (5 points) Write a function that uses fixed-point iteration to solve for the zeros of $f(x)$.  \n",
    "\n",
    "Note: There are multiple ways to write the iteration function $g(x)$, some work better than others.  Make sure to use the input function $f(x)$ to formulate this."
   ]
  },
  {
   "cell_type": "code",
   "execution_count": 2,
   "metadata": {
    "collapsed": false,
    "nbgrader": {
     "grade": false,
     "grade_id": "A1-a",
     "locked": false,
     "solution": true
    }
   },
   "outputs": [],
   "source": [
    "def fixed_point(x_0, f, tolerance):\n",
    "    \"\"\"Find the zeros of the given function f using fixed-point iteration\n",
    "    \n",
    "    :Input:\n",
    "     - *x_0* (float) - Initial iterate\n",
    "     - *f* (function) - The function that will be analyzed\n",
    "     - *tolerance* (float) - Stopping tolerance for iteration\n",
    "     \n",
    "    :Output:\n",
    "    If the iteration was successful the return values are:\n",
    "     - *M* (float) - Zero found via the given intial iterate.\n",
    "     - *n* (int) - Number of iterations it took to achieve the specified\n",
    "       tolerance.\n",
    "    otherwise\n",
    "     - *x* (float) - Last iterate found\n",
    "     - *n* (int) - *n = -1*\n",
    "    \"\"\"\n",
    "    \n",
    "    # Parameters\n",
    "    MAX_STEPS = 1000\n",
    "    \n",
    "    # INSERT CODE HERE\n",
    "    n = 1.0\n",
    "    while n <= MAX_STEPS:\n",
    "        x_0 = f(x_0)\n",
    "        if numpy.abs(f(x_0) - x_0) < tolerance:\n",
    "            break\n",
    "        else:\n",
    "            n += 1\n",
    "    return x_0, n\n"
   ]
  },
  {
   "cell_type": "code",
   "execution_count": 3,
   "metadata": {
    "collapsed": false,
    "nbgrader": {
     "grade": true,
     "grade_id": "T1-a",
     "locked": true,
     "points": 5,
     "solution": false
    }
   },
   "outputs": [
    {
     "name": "stdout",
     "output_type": "stream",
     "text": [
      "Fixed-point test failed!\n",
      "Success!\n"
     ]
    }
   ],
   "source": [
    "M = 1.8\n",
    "TOLERANCE = 1e-10\n",
    "f = lambda x: x**2 - M\n",
    "\n",
    "# Note that this test probably will fail\n",
    "try:\n",
    "    M_f, n = fixed_point(2.0, f, TOLERANCE)\n",
    "except OverflowError:\n",
    "    print \"Fixed-point test failed!\"\n",
    "    print \"Success!\"\n",
    "else:\n",
    "    if n == -1:\n",
    "        print \"Fixed-point test failed!\"\n",
    "        print \"Success!\"\n",
    "    else:\n",
    "        print M_f, n\n",
    "        raise ValueError(\"Test should have failed!\")"
   ]
  },
  {
   "cell_type": "markdown",
   "metadata": {
    "nbgrader": {
     "grade": false,
     "grade_id": "Q1-b",
     "locked": true,
     "solution": false
    }
   },
   "source": [
    "**(b)** (5 points) Write a function that uses Newton's method to find the roots of $f(x)$. The analytical derivative of $f'(x)$ is provided."
   ]
  },
  {
   "cell_type": "code",
   "execution_count": 4,
   "metadata": {
    "collapsed": true,
    "nbgrader": {
     "grade": false,
     "grade_id": "A1-b",
     "locked": false,
     "solution": true
    }
   },
   "outputs": [],
   "source": [
    "def newton(x_0, f, f_prime, tolerance):\n",
    "    \"\"\"Find the zeros of the given function f using Newton's method\n",
    "    \n",
    "    :Input:\n",
    "     - *M_0* (float) - Initial iterate\n",
    "     - *f* (function) - The function that will be analyzed\n",
    "     - *f_prime* (function) - The derivative of *f*\n",
    "     - *tolerance* (float) - Stopping tolerance for iteration\n",
    "     \n",
    "    :Output:\n",
    "    If the iteration was successful the return values are:\n",
    "     - *M* (float) - Zero found via the given intial iterate.\n",
    "     - *n* (int) - Number of iterations it took to achieve the specified\n",
    "       tolerance.\n",
    "    otherwise\n",
    "     - *M* (float) - Last iterate found\n",
    "     - *n* (int) - *n = -1*\n",
    "    \"\"\"\n",
    "    \n",
    "    # Parameters\n",
    "    MAX_STEPS = 1000\n",
    "    \n",
    "    # INSERT CODE HERE\n",
    "    if numpy.abs(f(x_0)) < tolerance:\n",
    "        return x_0, 0\n",
    "    else:\n",
    "        n = 1.0\n",
    "        while n <= MAX_STEPS:\n",
    "            x_0 = x_0 - f(x_0) / f_prime(x_0)\n",
    "            if numpy.abs(f(x_0)) < tolerance:\n",
    "                break\n",
    "            elif n == MAX_STEPS:\n",
    "                print \"n reach max step, bad guess\"\n",
    "            else:\n",
    "                n += 1\n",
    "        return x_0, n\n",
    "    "
   ]
  },
  {
   "cell_type": "code",
   "execution_count": 5,
   "metadata": {
    "collapsed": false,
    "nbgrader": {
     "grade": true,
     "grade_id": "T-1b",
     "locked": true,
     "points": 5,
     "solution": false
    }
   },
   "outputs": [
    {
     "name": "stdout",
     "output_type": "stream",
     "text": [
      "1.73205080757 4.0\n",
      "1.73205080757 0\n",
      "Success!\n"
     ]
    }
   ],
   "source": [
    "M = 3.0\n",
    "TOLERANCE = 1e-10\n",
    "f = lambda x: x**2 - M\n",
    "f_prime = lambda x: 2.0 * x\n",
    "\n",
    "M_f, n = newton(2.0, f, f_prime, TOLERANCE)\n",
    "numpy.testing.assert_almost_equal(M_f, numpy.sqrt(M))\n",
    "print M_f, n\n",
    "assert(n == 4)\n",
    "\n",
    "M_f, n = newton(numpy.sqrt(M), f, f_prime, TOLERANCE)\n",
    "print M_f, n\n",
    "assert(n == 0)\n",
    "\n",
    "print \"Success!\""
   ]
  },
  {
   "cell_type": "markdown",
   "metadata": {
    "nbgrader": {
     "grade": false,
     "grade_id": "Q1-c",
     "locked": true,
     "solution": false
    }
   },
   "source": [
    "**(c)** (5 points) Write a function to find the zeros of $f(x)$ using the secant method."
   ]
  },
  {
   "cell_type": "code",
   "execution_count": 6,
   "metadata": {
    "collapsed": true,
    "nbgrader": {
     "grade": false,
     "grade_id": "A1-c",
     "locked": false,
     "solution": true
    }
   },
   "outputs": [],
   "source": [
    "def secant(x_0, f, tolerance):\n",
    "    \"\"\"Find the zeros of the given function f using the secant method\n",
    "    \n",
    "    :Input:\n",
    "     - *M_0* (float) - Initial bracket\n",
    "     - *f* (function) - The function that will be analyzed\n",
    "     - *tolerance* (float) - Stopping tolerance for iteration\n",
    "     \n",
    "    :Output:\n",
    "    If the iteration was successful the return values are:\n",
    "     - *M* (float) - Zero found via the given intial iterate.\n",
    "     - *n* (int) - Number of iterations it took to achieve the specified\n",
    "       tolerance.\n",
    "    otherwise\n",
    "     - *M* (float) - Last iterate found\n",
    "     - *n* (int) - *n = -1*\n",
    "    \"\"\"\n",
    "    \n",
    "    # Parameters\n",
    "    MAX_STEPS = 1000\n",
    "    \n",
    "    # INSERT CODE HERE\n",
    "    n = 1.0\n",
    "    k_kp = 0.0\n",
    "    x_k = x_0[1]\n",
    "    x_km = x_0[0]\n",
    "    if numpy.abs(f(x_k)) < tolerance:\n",
    "        return x_k, 0\n",
    "    elif numpy.abs(f(x_km)) < tolerance:\n",
    "        return x_km, 0\n",
    "    else:\n",
    "        n = 1.0\n",
    "        while n <= MAX_STEPS:\n",
    "            x_kp = x_k - f(x_k) * (x_k - x_km) / (f(x_k) - f(x_km))\n",
    "            x_km = x_k\n",
    "            x_k = x_kp\n",
    "            if numpy.abs(f(x_k)) < tolerance:\n",
    "                break\n",
    "            elif n == MAX_STEPS:\n",
    "                print \"n reach max step, bad guess\"\n",
    "            else:\n",
    "                n += 1\n",
    "            \n",
    "    return x_kp, n\n",
    "    "
   ]
  },
  {
   "cell_type": "code",
   "execution_count": 7,
   "metadata": {
    "collapsed": false,
    "nbgrader": {
     "grade": true,
     "grade_id": "T1-c",
     "locked": true,
     "points": 5,
     "solution": false
    }
   },
   "outputs": [
    {
     "name": "stdout",
     "output_type": "stream",
     "text": [
      "1.73205080757 7.0\n",
      "Success!\n"
     ]
    }
   ],
   "source": [
    "M = 3.0\n",
    "TOLERANCE = 1e-10\n",
    "f = lambda x: x**2 - M\n",
    "\n",
    "M_f, n = secant([0.0, 3.0], f, TOLERANCE)\n",
    "numpy.testing.assert_almost_equal(M_f, numpy.sqrt(M))\n",
    "print M_f, n\n",
    "assert(n == 7)\n",
    "\n",
    "M_f, n = secant([1.0, numpy.sqrt(M)], f, TOLERANCE)\n",
    "assert(n == 0)\n",
    "\n",
    "print \"Success!\""
   ]
  },
  {
   "cell_type": "markdown",
   "metadata": {
    "nbgrader": {
     "grade": false,
     "grade_id": "Q1-d",
     "locked": true,
     "solution": false
    }
   },
   "source": [
    "**(d)** (5 points) Using the theory and illustrative plots why the fixed-point method did not work (pick a bracket that demonstrates the problem well).  "
   ]
  },
  {
   "cell_type": "markdown",
   "metadata": {
    "nbgrader": {
     "grade": true,
     "grade_id": "A1-d1",
     "locked": false,
     "points": 2,
     "solution": true
    }
   },
   "source": [
    "The range is not contained within the domain and therefore fixed-point iteration will not converge.  The plot below should be included."
   ]
  },
  {
   "cell_type": "code",
   "execution_count": 8,
   "metadata": {
    "collapsed": false,
    "nbgrader": {
     "grade": true,
     "grade_id": "A1-d2",
     "locked": false,
     "points": 3,
     "solution": true
    }
   },
   "outputs": [
    {
     "data": {
      "image/png": "[encoded data removed]",
      "text/plain": [
       "<matplotlib.figure.Figure at 0x10c946f50>"
      ]
     },
     "metadata": {},
     "output_type": "display_data"
    }
   ],
   "source": [
    "x = numpy.linspace(1.0, 3.0, 100)\n",
    "f = lambda x: x**2 - 1.8\n",
    "fig = plt.figure()\n",
    "axes = fig.add_subplot(1, 1, 1)\n",
    "axes.plot(x, f(x), 'r')\n",
    "axes.plot(x, x, 'b')\n",
    "axes.set_xlabel(\"x\")\n",
    "axes.set_ylabel(\"f(x)\")\n",
    "\n",
    "axes.plot(numpy.ones(x.shape) * 2.0, x, '--k')\n",
    "axes.plot(numpy.ones(x.shape) * 2.5, x, '--k')\n",
    "axes.plot(x, numpy.ones(x.shape) * f(2.0), '--k')\n",
    "axes.plot(x, numpy.ones(x.shape) * f(2.5), '--k')\n",
    "\n",
    "plt.show()"
   ]
  },
  {
   "cell_type": "markdown",
   "metadata": {
    "nbgrader": {
     "grade": false,
     "grade_id": "Q2",
     "locked": true,
     "solution": false
    }
   },
   "source": [
    "## Question 2 - Bessel Function Zeros\n",
    "\n",
    "The zeros of the Bessel functions $J_0(x)$ can be important for a number of applications.  Considering only $x \\geq 0$ \n",
    "we are going to find the first ten zeros of $J_0(x)$ by using a hybrid approach."
   ]
  },
  {
   "cell_type": "markdown",
   "metadata": {
    "nbgrader": {
     "grade": false,
     "grade_id": "Q2-a",
     "locked": true,
     "solution": false
    }
   },
   "source": [
    "**(a)** (5 points) Plot the Bessel function $J_0(x)$ and its zeros on the same plot.  Note that the module `scipy.special` contains functions dealing with the Bessel functions (`jn`)."
   ]
  },
  {
   "cell_type": "code",
   "execution_count": 9,
   "metadata": {
    "collapsed": false,
    "nbgrader": {
     "grade": true,
     "grade_id": "A2-a",
     "locked": false,
     "points": 5,
     "solution": true
    }
   },
   "outputs": [
    {
     "data": {
      "image/png": "[encoded data removed]",
      "text/plain": [
       "<matplotlib.figure.Figure at 0x10c936410>"
      ]
     },
     "metadata": {},
     "output_type": "display_data"
    }
   ],
   "source": [
    "import scipy.special as spl\n",
    "\n",
    "x = numpy.linspace(0,50,100)\n",
    "y = spl.jn(0,x)\n",
    "fig = plt.figure()\n",
    "axes = fig.add_subplot(1, 1, 1)\n",
    "axes.plot(x, y, 'b')\n",
    "axes.plot(x, numpy.zeros(x.shape),'k-')\n",
    "zeros = spl.jn_zeros(0, 10)\n",
    "axes.plot(zeros, numpy.zeros(10) ,'o',)\n",
    "\n",
    "plt.show()"
   ]
  },
  {
   "cell_type": "markdown",
   "metadata": {
    "nbgrader": {
     "grade": false,
     "grade_id": "Q2-b",
     "locked": true,
     "solution": false
    }
   },
   "source": [
    "**(b)** (15 points) Now write a function `j0_zeros` that takes two tolerances, a bracket size tolerance `bracket_tolerance` and `tolerance` for the final convergence tolerance.  Given an initial bracket, the function should perform secant iterations until the bracket size is less than `bracket_tolerance`.  If this is successful then proceed with Newton's method using the newest value of the bracket until `tolerance` is reached.  Return both the zero found and the number of steps needed in each iteration.  Also write a `doc-string` for the function.\n",
    "\n",
    "Notes:\n",
    " - Newton's method by itself does not work here given the initial brackets provided.\n",
    " - The secant method does work however it is slower than the approach outlined.\n",
    " - Try playing a bit yourself with the tolerances used."
   ]
  },
  {
   "cell_type": "code",
   "execution_count": 13,
   "metadata": {
    "collapsed": false,
    "nbgrader": {
     "grade": false,
     "grade_id": "A2-b",
     "locked": false,
     "solution": true
    }
   },
   "outputs": [],
   "source": [
    "import scipy.special\n",
    "\n",
    "# Note that the num_steps being returned should be a list \n",
    "# of the number of steps being used in each method\n",
    "def j0_zeros(x0, bracket_tolerance, tolerance):\n",
    "    \"\"\"Find roots of Bessel Function with the error in tolerance\n",
    "    \n",
    "    :Input:\n",
    "     - *x_0* (list) - Initial guess with two points\n",
    "     - *bracket_tolerance* (float) - The tolerance that secant method should satisfy\n",
    "     - *tolerance* (float) - Stopping tolerance for iteration\n",
    "     \n",
    "    :Output:\n",
    "    If the iteration was successful the return values are:\n",
    "     - *x* (float) - the root we find that meet satisfy.\n",
    "     - *num_steps* (list) - Number of iterations it took to achieve the bracket_tolerance and\n",
    "       tolerance.\n",
    "    otherwise\n",
    "     - *x* (float) - Last iterate found\n",
    "     - *num_steps* (list) - *n = -1*\n",
    "    \"\"\"\n",
    "    \n",
    "    # INSERT CODE HERE\n",
    "    \n",
    "    #initial num_steps to store how many steps it take to meet secant tolerance and Newton's method tolerance\n",
    "    num_steps = [0, 0]\n",
    "    MAX_STEPS = 30\n",
    "    #initial values to do iteration\n",
    "    k_kp = 0.0\n",
    "    x_k = x0[1]\n",
    "    x_km = x0[0]\n",
    "    #if the values that gives to us can meet Newton's tolerance directly\n",
    "    if numpy.abs(scipy.special.j0(x_k)) < tolerance:\n",
    "        return x_k, num_steps\n",
    "    elif numpy.abs(scipy.special.j0(x_km)) < tolerance:\n",
    "        return x_km, num_steps\n",
    "    #if the values meet Secant's tolerance, but not Newton's tolerance\n",
    "    elif numpy.abs(scipy.special.j0(x_k)) < bracket_tolerance:\n",
    "        # Newton's method\n",
    "        while num_steps[1] <= MAX_STEPS:\n",
    "            x_k = x_k - scipy.special.j0(x_k) / scipy.special.jvp(0, x_k, 1)\n",
    "            if numpy.abs(scipy.special.j0(x_k)) < tolerance:\n",
    "                return x_k, num_steps\n",
    "            elif num_steps[1] == MAX_STEPS:\n",
    "                print \"Reach max steps when approaching Newton's tolerance\"\n",
    "                break\n",
    "            else:\n",
    "                num_steps[1] += 1\n",
    "                \n",
    "    elif numpy.abs(scipy.special.j0(x_km)) < bracket_tolerance:\n",
    "        # Newton's method\n",
    "        while num_steps[1] <= MAX_STEPS:\n",
    "            x_km = x_km - scipy.special.j0(x_km) / scipy.special.jvp(0, x_km, 1)\n",
    "            if numpy.abs(scipy.special.j0(x_km)) < tolerance:\n",
    "                return x_km, num_steps\n",
    "            elif num_steps[1] == MAX_STEPS:\n",
    "                print \"Reach max steps when approaching Newton's tolerance for x_km\"\n",
    "                break\n",
    "            else:\n",
    "                num_steps[1] += 1\n",
    "    \n",
    "    # if initial values are bigger than Secant's tolerance, we do secant's method\n",
    "    else:  \n",
    "        while num_steps[0] <= MAX_STEPS:\n",
    "            num_steps[0] += 1\n",
    "            x_kp = x_k - scipy.special.j0(x_k) * (x_k - x_km) / (scipy.special.j0(x_k) - scipy.special.j0(x_km))\n",
    "            x_km = x_k\n",
    "            x_k = x_kp\n",
    "            if numpy.abs(scipy.special.j0(x_k)) < bracket_tolerance:\n",
    "                #pass above means we find new result, then check if it can pass smaller tolerance\n",
    "                if numpy.abs(scipy.special.j0(x_k)) < tolerance:\n",
    "                    return x_k, num_steps\n",
    "                #if pass, we good to go\n",
    "                else:\n",
    "                    #if not, we do Newton to get there\n",
    "                    while num_steps[1] <= MAX_STEPS:\n",
    "                        x_k = x_k - scipy.special.j0(x_k) / scipy.special.jvp(0, x_k, 1)\n",
    "                        if numpy.abs(scipy.special.j0(x_k)) < tolerance:\n",
    "                            return x_k, num_steps\n",
    "                        elif num_steps == MAX_STEPS:\n",
    "                            print \"Newton's methods reach max steps after done secant's method\"\n",
    "                            break\n",
    "                        else:\n",
    "                            num_steps[1] += 1            \n",
    "            elif num_steps[0] == MAX_STEPS:\n",
    "                print \"Secant's method reach max\"\n",
    "                break\n",
    "            else:\n",
    "                pass\n",
    "                \n",
    "    return x_k, num_steps\n",
    " \n",
    "\n"
   ]
  },
  {
   "cell_type": "code",
   "execution_count": 14,
   "metadata": {
    "collapsed": false,
    "nbgrader": {
     "grade": true,
     "grade_id": "T2-b",
     "locked": true,
     "points": 15,
     "solution": false
    }
   },
   "outputs": [
    {
     "name": "stdout",
     "output_type": "stream",
     "text": [
      "2.4048255577 [1, 3]\n",
      "5.52007811029 [1, 3]\n",
      "8.65372791291 [1, 2]\n",
      "11.791534439 [0, 3]\n",
      "14.9309177085 [0, 2]\n",
      "18.0710639679 [1, 1]\n",
      "21.2116366299 [1, 3]\n",
      "24.3524715307 [1, 3]\n",
      "27.493479132 [1, 2]\n",
      "30.6346064684 [1, 2]\n",
      "Success!\n"
     ]
    }
   ],
   "source": [
    "brackets = [[ 2.0,  3.0], [ 4.0,  7.0], [ 7.0, 10.0], [10.0, 12.0], \n",
    "            [13.0, 15.0], [17.0, 19.0], [19.0, 22.0], \n",
    "            [22.0, 26.0], [26.0, 29.0], [29.0, 32.0]]\n",
    "\n",
    "zero = []\n",
    "for bracket in brackets:\n",
    "    x, num_steps = j0_zeros(bracket, 1e-1, 1e-15)\n",
    "    print x, num_steps\n",
    "    zero.append(x)\n",
    "numpy.testing.assert_allclose(zero, scipy.special.jn_zeros(0, 10), rtol=1e-14)\n",
    "print \"Success!\""
   ]
  },
  {
   "cell_type": "markdown",
   "metadata": {
    "nbgrader": {
     "grade": false,
     "grade_id": "Q3",
     "locked": true,
     "solution": false
    }
   },
   "source": [
    "## Question 3 - Newton's Method Convergence\n",
    "\n",
    "Recall that Newton's method converges as\n",
    "\n",
    "$$|\\epsilon_{n+1}| = \\frac{|f''(c)|}{2 |f'(x_n)|} |\\epsilon_n|^2$$\n",
    "\n",
    "with $\\epsilon_n = x_n - x^*$ where $x^*$ is the true solution and $c$ is between $x_n$ and $x^*$."
   ]
  },
  {
   "cell_type": "markdown",
   "metadata": {
    "nbgrader": {
     "grade": false,
     "grade_id": "Q3-a",
     "locked": true,
     "solution": false
    }
   },
   "source": [
    "**(a)** (10 points) Show that the Newton iteration when $f(x) = x^2 - M$ with $M > 0$ is\n",
    "\n",
    "$$x_{n+1} = \\frac{1}{2} \\left (x_n + \\frac{M}{x_n} \\right )$$"
   ]
  },
  {
   "cell_type": "markdown",
   "metadata": {
    "nbgrader": {
     "grade": true,
     "grade_id": "A3-a",
     "locked": false,
     "points": 10,
     "solution": true
    }
   },
   "source": [
    "Since $$f(x) = x^2 - M$$ with M >0,\n",
    "to apply Newton's method, we have $$f'(x) = 2x$$\n",
    "$$x_{n+1} = x_n-\\frac{f(x_n)}{f'(x_n)}$$\n",
    "$$x_{n+1} = x_n - \\frac{x_n^2 - M}{2x_n}$$\n",
    "$$x_{n+1} = x_n - \\frac{x_n^2}{2x_n} + \\frac{M}{2x_n}$$\n",
    "$$x_{n+1} = \\frac{x_n}{2} + \\frac{M}{2x_n}$$\n",
    "thus we have $$x_{n+1} = \\frac{1}{2}(x_n + \\frac{M}{x_n})$$"
   ]
  },
  {
   "cell_type": "markdown",
   "metadata": {
    "collapsed": true,
    "nbgrader": {
     "grade": false,
     "grade_id": "Q3-b",
     "locked": true,
     "solution": false
    }
   },
   "source": [
    "**(b)** (10 points) From this update scheme show that \n",
    "\n",
    "$$\\frac{x_{n+1} - \\sqrt{M}}{(x_n - \\sqrt{M})^2} = \\frac{1}{2 x_n}$$"
   ]
  },
  {
   "cell_type": "markdown",
   "metadata": {
    "nbgrader": {
     "grade": true,
     "grade_id": "A3-b",
     "locked": false,
     "points": 10,
     "solution": true
    }
   },
   "source": [
    "from **(a)** we know $$x_{n+1} = \\frac{1}{2}(x_n + \\frac{M}{x_n})$$\n",
    "multiply $2x_n$ on each side $$2x_n \\cdot x_{n+1} = 2x_n \\cdot \\frac{1}{2}(x_n + \\frac{M}{x_n})$$\n",
    "we have $$2x_n \\cdot x_{n+1} = x_n^2 + M$$\n",
    "subtract $$2x_n\\sqrt{M}$$ from each side $$2x_n \\cdot x_{n+1} - 2x_n\\sqrt{M} = x_n \\cdot x_n^2 + M - 2x_n\\sqrt{M}$$\n",
    "$$2x_n(x_{n+1} - \\sqrt{M}) = (x_n - \\sqrt{M})^2$$\n",
    "then, we have $$\\frac{x_{n+1} - \\sqrt{M}}{(x_n - \\sqrt{M})^2} = \\frac{1}{2x_n}$$"
   ]
  },
  {
   "cell_type": "markdown",
   "metadata": {
    "nbgrader": {
     "grade": false,
     "grade_id": "Q3-c",
     "locked": true,
     "solution": false
    }
   },
   "source": [
    "**(c)** (10 points) Confirm that the asymptotic error convergence matches the general convergence for Newton's method."
   ]
  },
  {
   "cell_type": "markdown",
   "metadata": {
    "nbgrader": {
     "grade": true,
     "grade_id": "A3-c",
     "locked": false,
     "points": 10,
     "solution": true
    }
   },
   "source": [
    "Since we know $$f(x) = x^2 - M$$\n",
    "the actual root is $$x = \\pm\\sqrt{M}$$\n",
    "we have the error $|\\epsilon_{n+1}|$, $$|\\epsilon_{n+1}| = |x_{n+1} - \\sqrt{M}|$$\n",
    "$$|\\epsilon_{n}| = |x_{n} - \\sqrt{M}|$$\n",
    "from **(b)** we have $$\\frac{x_{n+1} - \\sqrt{M}}{(x_n - \\sqrt{M})^2} = \\frac{1}{2x_n}$$\n",
    "which implies $$|\\frac{\\epsilon_{n+1}}{\\epsilon_{n}^2}| = |\\frac{1}{2x_n}|$$\n",
    "$$|\\epsilon_{n+1}| = |\\frac{\\epsilon_{n}^2}{2x_n}|$$\n",
    "so, it matches the general convergence fro Newton's method"
   ]
  },
  {
   "cell_type": "markdown",
   "metadata": {
    "nbgrader": {
     "grade": false,
     "grade_id": "Q4",
     "locked": true,
     "solution": false
    }
   },
   "source": [
    "## Question 4 - Optimization of a Data Series\n",
    "\n",
    "For the following questions we are given a set of data $(t_0, y_0), (t_1, y_1), \\ldots, (t_N, y_N)$."
   ]
  },
  {
   "cell_type": "markdown",
   "metadata": {
    "nbgrader": {
     "grade": false,
     "grade_id": "Q4-a",
     "locked": true,
     "solution": false
    }
   },
   "source": [
    "**(a)** (15 points) Write a function that takes in the data series $(t_i, y_i)$ and finds the value at a point $t_\\ast$ by constructing the equation of the line between the two data points that bound $t_\\ast$ and evaluating the resulting function at $t_\\ast$.  Write a `doc-string` for the function.\n",
    "\n",
    "Hints:\n",
    " - Make sure to handle the case that $t_\\ast = t_i$.\n",
    " - If $t_\\ast < t_0$ or $t_\\ast > t_N$ then return the corresponding value $y_0$ or $y_N$.\n",
    " - If you write your function so that $t_\\ast$ can be an array you can use the plotting code in the cell.  Otherwise just delete it."
   ]
  },
  {
   "cell_type": "code",
   "execution_count": 15,
   "metadata": {
    "collapsed": false,
    "nbgrader": {
     "grade": false,
     "grade_id": "A4-a",
     "locked": false,
     "solution": true
    }
   },
   "outputs": [],
   "source": [
    "def linear_eval(t, y, t_star):\n",
    "    \"\"\"Find the corresponding y-value of t_star\n",
    "    \n",
    "    :Input:\n",
    "     - *t* (array) - Initial values\n",
    "     - *y* (array) - Corresponding points of t\n",
    "     - *t_star* (float) - the value that we want to evaluate\n",
    "     \n",
    "    :Output:\n",
    "    If the iteration was successful the return values are:\n",
    "     - *y_star* (float) - the value we find that corresponding to t_star\n",
    "    otherwise\n",
    "     - *y_star* (float) - *n = -1.0*\n",
    "    \"\"\"\n",
    "    \n",
    "    #INSERT CODE HERE\n",
    "     \n",
    "    N = len(t)\n",
    "    #if t_star less than t[0], return y[0]\n",
    "    if t_star < t[0]:\n",
    "        y_star = y[0]\n",
    "        return\n",
    "    #if t_star greater than t[-1], return y[-1]\n",
    "    elif t_star > t[-1]:\n",
    "        y_star = y[-1]\n",
    "        return\n",
    "    else:\n",
    "        for i in xrange(0, N):\n",
    "            if t_star == t[i]:\n",
    "                y_star = y[i]\n",
    "            #case: t_star greater than t[i] but less than t[i+1]\n",
    "            elif t_star > t[i] and t_star < t[i+1]:\n",
    "                y_star = ((y[i+1] - y[i])/(t[i+1] - t[i])) * (t_star - t[i]) + y[i]\n",
    "            else:\n",
    "                pass\n",
    "    return y_star\n",
    "\n",
    "# N = 10\n",
    "# t_fine = numpy.linspace(-numpy.pi, numpy.pi, 100)\n",
    "# t_rand = numpy.random.rand(N + 1) * (2.0 * numpy.pi) - numpy.pi\n",
    "# t_rand.sort()\n",
    "# f = lambda x: numpy.sin(x) * numpy.cos(x)\n",
    "\n",
    "# fig = plt.figure()\n",
    "# fig.set_figwidth(fig.get_figwidth()*1.5)\n",
    "# axes = fig.add_subplot(1, 1, 1)\n",
    "# axes.plot(t_fine, f(t_fine), 'k-', label=\"True\")\n",
    "# axes.plot(t_rand, f(t_rand), 'og', label=\"Sample Data\")\n",
    "# axes.plot(t_fine, linear_eval(t_rand, f(t_rand), t_fine), 'xb', label=\"linear_eval\")\n",
    "# axes.set_xlim((-numpy.pi, numpy.pi))\n",
    "# axes.set_title(\"Demo Plot\")\n",
    "# axes.set_xlabel('$t$')\n",
    "# axes.set_ylabel('$f(t)$')\n",
    "# axes.legend()\n",
    "# plt.show()"
   ]
  },
  {
   "cell_type": "code",
   "execution_count": 16,
   "metadata": {
    "collapsed": false,
    "nbgrader": {
     "grade": true,
     "grade_id": "T4-a",
     "locked": true,
     "points": 15,
     "solution": false
    }
   },
   "outputs": [
    {
     "name": "stdout",
     "output_type": "stream",
     "text": [
      "Computed solution: 0.420735492404\n",
      "True solution: 0.420735492404\n",
      "Success!\n"
     ]
    }
   ],
   "source": [
    "N = 100\n",
    "f = lambda x: numpy.sin(x) * numpy.cos(x)\n",
    "t = numpy.linspace(-1, 1, N + 1)\n",
    "t_star = 0.5\n",
    "answer = linear_eval(t, f(t), t_star)\n",
    "if isinstance(answer, list):\n",
    "    answer = answer[0]\n",
    "print \"Computed solution: %s\" % answer\n",
    "print \"True solution: %s\" % f(t_star)\n",
    "numpy.testing.assert_almost_equal(answer, f(t_star), verbose=True, decimal=7)\n",
    "print \"Success!\""
   ]
  },
  {
   "cell_type": "markdown",
   "metadata": {
    "nbgrader": {
     "grade": false,
     "grade_id": "Q4-b",
     "locked": true,
     "solution": false
    }
   },
   "source": [
    "**(b)** (10 points) Using the function you wrote in part (a) write a function that uses Golden search to find the minimum of a series of data.  Again you can use the plotting code available if your `linear_eval` function from part (a) handles arrays.  Write a `doc-string` for the function."
   ]
  },
  {
   "cell_type": "code",
   "execution_count": 21,
   "metadata": {
    "collapsed": false,
    "nbgrader": {
     "grade": false,
     "grade_id": "A4-b",
     "locked": false,
     "solution": true
    }
   },
   "outputs": [
    {
     "name": "stdout",
     "output_type": "stream",
     "text": [
      "Code Success!\n",
      "  t* = 0.74585074506\n",
      "  f(t*) = 1.4131077927\n",
      "  number of steps = 21\n"
     ]
    },
    {
     "data": {
      "image/png": "[encoded data removed]",
      "text/plain": [
       "<matplotlib.figure.Figure at 0x10fd940d0>"
      ]
     },
     "metadata": {},
     "output_type": "display_data"
    }
   ],
   "source": [
    "def golden_search(bracket, t, y, max_steps=100, tolerance=1e-4):\n",
    "    \"\"\"Find the corresponding t value of reaching the max point\n",
    "    \n",
    "    :Input:\n",
    "     - *bracket* (array) - Initial interval\n",
    "     - *t* (array) - The initial t pionts\n",
    "     - *y* (array) - The corresponding y values of t points\n",
    "     \n",
    "    :Output:\n",
    "    If the iteration was successful the return values are:\n",
    "     - *t_star* (float) - The corresponding t value of the max point\n",
    "    otherwise\n",
    "     - *t_star* (float) - Last iterate found\n",
    "    \"\"\"\n",
    "\n",
    "    phi = (numpy.sqrt(5.0) - 1.0) / 2.0\n",
    "    \n",
    "    # INSERT CODE HERE\n",
    "    a = bracket[0]\n",
    "    b = bracket[1]\n",
    "    c = b - phi * (b - a)\n",
    "    d = a + phi * (b - a)\n",
    "    t_star = 0.0\n",
    "\n",
    "    success = False\n",
    "    for n in xrange(1, max_steps + 1):\n",
    "        \n",
    "        #to evaluate f_c and f_d using linear_eval function \n",
    "        linear_eval_c = linear_eval(t, y, c)\n",
    "        linear_eval_d = linear_eval(t, y, d)\n",
    "        # if f_c is bigger than f_d, we know the trending to max is on the left side\n",
    "        if linear_eval_c > linear_eval_d:\n",
    "            b = d\n",
    "            d = c\n",
    "            c = b - phi * (b - a)\n",
    "        else:\n",
    "            a = c\n",
    "            c = d\n",
    "            d = a + phi * (b - a)\n",
    "\n",
    "        if numpy.abs(b - a) < 1e-4:\n",
    "            success = True\n",
    "            t_star = (a + b)/2.0\n",
    "            break\n",
    "\n",
    "    if success:\n",
    "        print \"Code Success!\"\n",
    "        print \"  t* = %s\" % str((b + a) / 2.0)\n",
    "        print \"  f(t*) = %s\" % f((b + a) / 2.0)\n",
    "        print \"  number of steps = %s\" % n\n",
    "    else:\n",
    "        print \"Reached maximum number of steps!\" \n",
    "\n",
    "    return t_star\n",
    "\n",
    "N = 50\n",
    "t = numpy.random.rand(N + 1) * (2.0 * numpy.pi) - numpy.pi\n",
    "t.sort()\n",
    "y = numpy.sin(t) * numpy.cos(t)\n",
    "t_star = golden_search([0.1, 3.0 * numpy.pi / 4.0], t, y)\n",
    "t_true = numpy.pi / 4.0\n",
    "\n",
    "fig = plt.figure()\n",
    "axes = fig.add_subplot(1, 1, 1)\n",
    "\n",
    "axes.plot(t, y, 'x', label=\"data\")\n",
    "t_fine = numpy.linspace(-numpy.pi, numpy.pi, 100)\n",
    "axes.plot(t_fine, numpy.sin(t_fine) * numpy.cos(t_fine), 'k', label=\"$f(x)$\")\n",
    "axes.plot(t_star, linear_eval(t, y, t_star), 'go')\n",
    "axes.plot(t_true, numpy.sin(t_true) * numpy.cos(t_true), 'ko', label=\"True\")\n",
    "axes.set_xlim((0.0, numpy.pi / 2.0))\n",
    "axes.set_ylim((0.0, 1.0))\n",
    "plt.show()"
   ]
  },
  {
   "cell_type": "code",
   "execution_count": 22,
   "metadata": {
    "collapsed": false,
    "nbgrader": {
     "grade": true,
     "grade_id": "T4-b",
     "locked": true,
     "points": 10,
     "solution": false
    }
   },
   "outputs": [
    {
     "name": "stdout",
     "output_type": "stream",
     "text": [
      "Code Success!\n",
      "  t* = 0.832886268932\n",
      "  f(t*) = 1.41261925126\n",
      "  number of steps = 21\n",
      "Error: 0.0474881055346, 0.0604637338712\n",
      "Success!\n"
     ]
    }
   ],
   "source": [
    "N = 100\n",
    "t = numpy.random.rand(N + 1) * (2.0 * numpy.pi) - numpy.pi\n",
    "t.sort()\n",
    "y = numpy.sin(t) * numpy.cos(t)\n",
    "t_star = golden_search([0.1, 3.0 * numpy.pi / 4.0], t, y)\n",
    "t_true = numpy.pi / 4.0\n",
    "abs_error = numpy.abs(t_star - t_true)\n",
    "rel_error = numpy.abs(t_star - t_true) / numpy.abs(t_true)\n",
    "print \"Error: %s, %s\" % (abs_error, rel_error)\n",
    "numpy.testing.assert_allclose(abs_error, 0.0, rtol=1e-1, atol=1e-1)\n",
    "print \"Success!\""
   ]
  },
  {
   "cell_type": "markdown",
   "metadata": {
    "collapsed": true,
    "nbgrader": {
     "grade": false,
     "grade_id": "Q4-c",
     "locked": true,
     "solution": false
    }
   },
   "source": [
    "**(c)** (5 points) Below is sample code that plots the number of sample points $N$ vs. the relative error.  Note because we are sampling at random points that we do each $N$ 6 times and average the relative error to reduce noise.  Additionally a line is drawn representing what would be linear (1st order) convergence.\n",
    "\n",
    "Modify this code and try it out on other problems.  Do you continue to see linear convergence?  What about if you change how we sample points?  Make sure that you change your initial interval and range of values of $t$ inside the loop."
   ]
  },
  {
   "cell_type": "code",
   "execution_count": 20,
   "metadata": {
    "collapsed": false,
    "nbgrader": {
     "grade": false,
     "grade_id": "A4-c",
     "locked": false,
     "solution": false
    }
   },
   "outputs": [
    {
     "name": "stdout",
     "output_type": "stream",
     "text": [
      "Code Success!\n",
      "  t* = 0.641805003554\n",
      "Code Success!\n",
      "  t* = 0.573894697307\n",
      "Code Success!\n",
      "  t* = 0.723601685887\n",
      "Code Success!\n",
      "  t* = 0.89630348445\n",
      "Code Success!\n",
      "  t* = 0.802239317096\n",
      "Code Success!\n",
      "  t* = 0.507708910859\n",
      "Code Success!\n",
      "  t* = 0.520459055942\n",
      "Code Success!\n",
      "  t* = 0.78067903844\n",
      "Code Success!\n",
      "  t* = 0.738005931614\n",
      "Code Success!\n",
      "  t* = 0.782723619277\n",
      "Code Success!\n",
      "  t* = 0.802090166934\n",
      "Code Success!\n",
      "  t* = 0.720201304731\n",
      "Code Success!\n",
      "  t* = 0.798207125714\n",
      "Code Success!\n",
      "  t* = 0.776682056636\n",
      "Code Success!\n",
      "  t* = 0.825936356458\n",
      "Code Success!\n",
      "  t* = 0.822926455495\n",
      "Code Success!\n",
      "  t* = 0.871470214084\n",
      "Code Success!\n",
      "  t* = 0.796978714842\n",
      "Code Success!\n",
      "  t* = 0.742187273157\n",
      "Code Success!\n",
      "  t* = 0.779862868476\n",
      "Code Success!\n",
      "  t* = 0.775177106154\n",
      "Code Success!\n",
      "  t* = 0.777818287639\n",
      "Code Success!\n",
      "  t* = 0.776646847059\n",
      "Code Success!\n",
      "  t* = 0.849185945334\n",
      "Code Success!\n",
      "  t* = 0.76579213265\n",
      "Code Success!\n",
      "  t* = 0.773281675479\n",
      "Code Success!\n",
      "  t* = 0.803836447446\n",
      "Code Success!\n",
      "  t* = 0.790994122493\n",
      "Code Success!\n",
      "  t* = 0.804617407833\n",
      "Code Success!\n",
      "  t* = 0.77698035696\n",
      "Code Success!\n",
      "  t* = 0.792613013559\n",
      "Code Success!\n",
      "  t* = 0.783263249632\n",
      "Code Success!\n",
      "  t* = 0.794025784171\n",
      "Code Success!\n",
      "  t* = 0.778691427895\n",
      "Code Success!\n",
      "  t* = 0.794025784171\n",
      "Code Success!\n",
      "  t* = 0.786180970725\n"
     ]
    },
    {
     "data": {
      "image/png": "[encoded data removed]",
      "text/plain": [
       "<matplotlib.figure.Figure at 0x10fdb77d0>"
      ]
     },
     "metadata": {},
     "output_type": "display_data"
    }
   ],
   "source": [
    "\n",
    "#f = lambda t: numpy.sin(t) * numpy.cos(t)\n",
    "#new function1:\n",
    "#f = lambda t: numpy.sin(t)* numpy.exp(t)\n",
    "#new function2:\n",
    "#f = lambda t: t**3 + 4*t**2 + numpy.pi\n",
    "#new function3:\n",
    "f = lambda t: numpy.sin(t) + numpy.cos(t)\n",
    "N_range = numpy.array([2**n for n in range(4, 10)], dtype=int)\n",
    "rel_error = numpy.zeros(len(N_range))\n",
    "t_true = numpy.pi / 4.0\n",
    "#get the random numbers x and its associate y, then use them to find correspongding t_star\n",
    "for (i, N) in enumerate(N_range):\n",
    "    #loop 6 times and find the relative error then take average of them\n",
    "    for j in xrange(6):\n",
    "        t = numpy.random.rand(N + 1) * (2.0 * numpy.pi) - numpy.pi #original way to sample points\n",
    "        #t = numpy.random.rand(N) #new way to sample points\n",
    "        t.sort()\n",
    "        y = f(t)\n",
    "        t_star = golden_search([0.1, 3.0 * numpy.pi / 4.0], t, y)\n",
    "        rel_error[i] += numpy.abs(t_star - t_true) / numpy.abs(t_true)\n",
    "    rel_error[i] /= 6\n",
    "\n",
    "order_C = lambda N, error, order: numpy.exp(numpy.log(error) - order * numpy.log(N))\n",
    "    \n",
    "fig = plt.figure()\n",
    "axes = fig.add_subplot(1, 1, 1)\n",
    "axes.loglog(N_range, rel_error, 'ko', label=\"Ave. Error\")\n",
    "axes.loglog(N_range, order_C(N_range[0], rel_error[0], -1.0) * N_range**(-1.0), 'r', label=\"1st order\")\n",
    "axes.loglog(N_range, order_C(N_range[0], rel_error[0], -2.0) * N_range**(-2.0), 'b', label=\"1st Order\")\n",
    "axes.set_xlabel(\"N\")\n",
    "axes.set_ylabel(\"Relative Error\")\n",
    "axes.legend()\n",
    "plt.show()"
   ]
  },
  {
   "cell_type": "markdown",
   "metadata": {
    "nbgrader": {
     "grade": true,
     "grade_id": "A4-c",
     "locked": false,
     "points": 5,
     "solution": true
    }
   },
   "source": [
    "When I changed the way how we sample points , it didn't have much influence on the convergence of the function. Average error is usually between 1st order and 2nd order.\n",
    "However, if I change the functions, for example, I tried three functions, it has different performance.\n",
    "```python\n",
    "f = lambda t: numpy.sin(t)* numpy.exp(t)\n",
    "```\n",
    "the average error not converge\n",
    "```python\n",
    "f = lambda t: t**3 + 4*t**2 + numpy.pi\n",
    "```\n",
    "the average error not converge\n",
    "```python\n",
    "f = lambda t: numpy.sin(t) + numpy.cos(t)\n",
    "```\n",
    "the average error converge, mainly follow first order and sometimes beyond the first order line."
   ]
  },
  {
   "cell_type": "code",
   "execution_count": null,
   "metadata": {
    "collapsed": true
   },
   "outputs": [],
   "source": []
  }
 ],
 "metadata": {
  "anaconda-cloud": {},
  "kernelspec": {
   "display_name": "Python [Root]",
   "language": "python",
   "name": "Python [Root]"
  },
  "language_info": {
   "codemirror_mode": {
    "name": "ipython",
    "version": 2
   },
   "file_extension": ".py",
   "mimetype": "text/x-python",
   "name": "python",
   "nbconvert_exporter": "python",
   "pygments_lexer": "ipython2",
   "version": "2.7.12"
  }
 },
 "nbformat": 4,
 "nbformat_minor": 0
}
