{
 "cells": [
  {
   "cell_type": "code",
   "execution_count": 1,
   "metadata": {
    "collapsed": false
   },
   "outputs": [
    {
     "name": "stderr",
     "output_type": "stream",
     "text": [
      "/Users/liang/anaconda/lib/python2.7/site-packages/matplotlib/font_manager.py:273: UserWarning: Matplotlib is building the font cache using fc-list. This may take a moment.\n",
      "  warnings.warn('Matplotlib is building the font cache using fc-list. This may take a moment.')\n"
     ]
    }
   ],
   "source": [
    "%matplotlib inline\n",
    "%precision 16\n",
    "import numpy\n",
    "import matplotlib.pyplot as plt"
   ]
  },
  {
   "cell_type": "markdown",
   "metadata": {
    "nbgrader": {
     "grade": false,
     "grade_id": "header_1",
     "locked": true,
     "solution": false
    }
   },
   "source": [
    "Before you turn this problem in, make sure everything runs as expected. First, restart the kernel (in the menubar, select Kernel $\\rightarrow$ Restart) and then run all cells (in the menubar, select Cell $\\rightarrow$ Run All).\n",
    "\n",
    "Make sure you fill in any place that says YOUR CODE HERE or \"YOUR ANSWER HERE\", as well as your name and collaborators below:"
   ]
  },
  {
   "cell_type": "markdown",
   "metadata": {
    "nbgrader": {
     "grade": false,
     "grade_id": "header_2",
     "locked": true,
     "solution": false
    }
   },
   "source": [
    "# Midterm - Fall Semester 2016\n",
    "\n",
    "Guidelines:\n",
    "1. Use resources available to you from class and online.\n",
    "1. That being said this is an individual effort, do not work with others and cite what you do use.\n",
    "1. Copying is prohibited, write your own code and solutions.\n",
    "1. Do not use piazza for the duration of the exam, it will be frozen!  \n",
    "1. If you have a question please email the instructor and the TAs for maximal response possibilities.  We will answer questions that pertain only to clarification.  In particular this means we will not debug your code.\n",
    "1. Late turn in of the midterm will result in a 10% reduction every **HOUR** that it is late.  If you feel that there is a special circumstance that warrants consideration tells us **BEFORE** the Tuesday (and more so before the exam starts).\n",
    "\n",
    "Good luck!"
   ]
  },
  {
   "cell_type": "markdown",
   "metadata": {
    "nbgrader": {
     "grade": false,
     "grade_id": "Q-1",
     "locked": true,
     "solution": false
    }
   },
   "source": [
    "## Question 1"
   ]
  },
  {
   "cell_type": "markdown",
   "metadata": {
    "nbgrader": {
     "grade": false,
     "grade_id": "Q-1a",
     "locked": true,
     "solution": false
    }
   },
   "source": [
    "**(a)** (10 points)  Using the second order, centered difference approximation to the first derivative find the $\\Delta x$ that gives the smallest absolute error graphically for the function\n",
    "$$\n",
    "    f(x) = x \\sin(x) + 3 \\cos(x) - x\n",
    "$$  \n",
    "at $x = 2$.  Repeat this for the first order forward difference.  You do not have to be precise but be within an order of magnitude."
   ]
  },
  {
   "cell_type": "code",
   "execution_count": 2,
   "metadata": {
    "collapsed": false,
    "nbgrader": {
     "grade": true,
     "grade_id": "A-1a",
     "locked": false,
     "points": 10,
     "solution": true
    }
   },
   "outputs": [
    {
     "data": {
      "image/png": "[encoded data removed]",
      "text/plain": [
       "<matplotlib.figure.Figure at 0x10c64d810>"
      ]
     },
     "metadata": {},
     "output_type": "display_data"
    },
    {
     "data": {
      "image/png": "[encoded data removed]",
      "text/plain": [
       "<matplotlib.figure.Figure at 0x10eac2d50>"
      ]
     },
     "metadata": {},
     "output_type": "display_data"
    }
   ],
   "source": [
    "### INSERT CODE HERE\n",
    "f = lambda x: x*numpy.sin(x) + 3.0 * numpy.cos(x) - x\n",
    "f_prime = lambda x: numpy.sin(x) + x*numpy.cos(x) + 3.0 * (-numpy.sin(x)) - 1.0\n",
    "\n",
    "#set delta_x as 0.1, 0.01...\n",
    "delta_x = []\n",
    "delta_x_hat = 1.0\n",
    "for i in xrange(1, 10):\n",
    "    delta_x_hat *= 0.1\n",
    "    delta_x.append(delta_x_hat)\n",
    "    \n",
    "#calculate the error by using centered difference\n",
    "f_prime_hat = 0.0\n",
    "error = 0.0\n",
    "error_list = []\n",
    "for n in delta_x:\n",
    "    f_prime_hat = (f(2.0 + n) - f(2.0 - n)) / (2.0 * n)\n",
    "    error = numpy.abs(f_prime(2.0) - f_prime_hat)\n",
    "    error_list.append(error)\n",
    "\n",
    "#calculate the error by using first order forward difference\n",
    "f_prime_hat_forward = 0.0\n",
    "error_forward = 0.0\n",
    "error_list_forward = []\n",
    "for n in delta_x:\n",
    "    f_prime_hat_forward = (f(2.0 + n) - f(2.0)) / n\n",
    "    error_forward = numpy.abs(f_prime(2.0) -f_prime_hat_forward)\n",
    "    error_list_forward.append(error_forward)\n",
    "    \n",
    "#plot the graph of centered difference\n",
    "fig = plt.figure()\n",
    "axes = fig.add_subplot(1, 1, 1)\n",
    "axes.loglog(delta_x, error_list)\n",
    "\n",
    "axes.set_title(\"Find the optimal $\\Delta x$ on centered difference\")\n",
    "axes.set_xlabel(\"$\\Delta x$\")\n",
    "axes.set_ylabel(\"$|f'(2) - \\hat{f}'(2)|$\")\n",
    "\n",
    "#plot the graph of first order forward\n",
    "fig = plt.figure()\n",
    "axes = fig.add_subplot(1, 1, 1)\n",
    "axes.loglog(delta_x, error_list_forward)\n",
    "\n",
    "axes.set_title(\"Find the optimal $\\Delta x$ on first order forward\")\n",
    "axes.set_xlabel(\"$\\Delta x$\")\n",
    "axes.set_ylabel(\"$|f'(2) - \\hat{f}'(2)|$\")\n",
    "\n",
    "plt.show()"
   ]
  },
  {
   "cell_type": "markdown",
   "metadata": {
    "nbgrader": {
     "grade": false,
     "grade_id": "Q-1b",
     "locked": true,
     "solution": false
    }
   },
   "source": [
    "**(b)** (3 points) Why is there an optimal $\\Delta x$?  Why might it be different for each approach?  What method would you choose?"
   ]
  },
  {
   "cell_type": "markdown",
   "metadata": {
    "nbgrader": {
     "grade": true,
     "grade_id": "A-1b",
     "locked": false,
     "points": 3,
     "solution": true
    }
   },
   "source": [
    "As we can see from the graph in part **(a)**, the optiaml $\\Delta x$ for second order centered difference is around $10^{-5}$, while the optimal $\\Delta x$ for the first order is around $10^{-8}$.\n",
    "\n",
    "**1)**\n",
    "The reason that there is an optimal $\\Delta x$:\n",
    "\n",
    "When $\\Delta x$ is $10^{-1}$, $10^{-2}$ (relatively big), the difference is big. This is easy to understand since the points are far from each other, we can't fit the curve very well. However, when $\\Delta x$ is $10^{-10}$ (relatively small), the difference is also big. This is because the points are too close, when we calculate $\\frac{f(2+\\Delta x) - f(2-\\Delta x)}{2\\Delta x}$ or $\\frac{f(2+\\Delta x) - f(2)}{\\Delta}$, we would lose accuracy both on numerator and denominator due to the $\\epsilon_{machine}$, as the result, the error increase (Imagine the extreme situation: when the points are close enough, the result of the numerator might goes to 0 due to the $\\epsilon_{machine}$, thus the result of centered difference method goes to 0).\n",
    "\n",
    "**2)**\n",
    "Since the centered difference is second order, and the forward difference we use is first order, which means the centered difference will reach our goal faster than the first order forward difference as we can see in the graphs above. After reached our goal, the centered difference will be influence a lot by the $\\epsilon_{machine}$ plus the truncation error. Thus, the error goes up also faster than the first order forward difference.\n",
    "\n",
    "**3)**\n",
    "I would choose centerd difference because it can reach the minimum error faster, which can help us save time and cost. But I need to be careful when the $\\Delta x$ that we choose is too small."
   ]
  },
  {
   "cell_type": "markdown",
   "metadata": {
    "nbgrader": {
     "grade": false,
     "grade_id": "Q-2",
     "locked": true,
     "solution": false
    }
   },
   "source": [
    "# Question 2"
   ]
  },
  {
   "cell_type": "markdown",
   "metadata": {
    "nbgrader": {
     "grade": false,
     "grade_id": "Q-2a",
     "locked": true,
     "solution": false
    }
   },
   "source": [
    "**(a)** (5 points) Analytically compute the interpolating polynomial given by the following data\n",
    "\n",
    "$\\begin{array}{l|l|l|l|l}\n",
    "x_j  & 0 & 1 & 2 & 3\\\\\n",
    "\\hline\n",
    "f_j & 0 & 0 & 6 & 24\n",
    "\\end{array}$"
   ]
  },
  {
   "cell_type": "markdown",
   "metadata": {
    "nbgrader": {
     "grade": true,
     "grade_id": "A-2a",
     "locked": false,
     "points": 5,
     "solution": true
    }
   },
   "source": [
    "From the given data, by using Monobasis, we have:\n",
    "$$P(x_0) = P_0 = 0$$\n",
    "$$P(x_1) = P_0 + P_1 + P_2 + P_3 = 0$$\n",
    "$$P(x_2) = P_0 + 2P_1 + 4P_2 + 8P_3 = 6$$\n",
    "$$P(x_3) = P_0 + 3P_1 + 9P_2 + 9P_3 =24$$\n",
    "\n",
    "Thus, solve above equations, we have:\n",
    "$$P_0 = 0$$\n",
    "$$P_1 = -1$$\n",
    "$$P_2 = 0$$\n",
    "$$P_3 = 1$$\n",
    "\n",
    "Therefore, we have the interpolating polynomial is$$P(x) = -x + x^3$$"
   ]
  },
  {
   "cell_type": "markdown",
   "metadata": {
    "nbgrader": {
     "grade": false,
     "grade_id": "Q-2b",
     "locked": true,
     "solution": false
    }
   },
   "source": [
    "**(b)** (3 points) Show that the interpolating polynomial you found is indeed an interpolant of the data."
   ]
  },
  {
   "cell_type": "markdown",
   "metadata": {
    "nbgrader": {
     "grade": true,
     "grade_id": "A-2b",
     "locked": false,
     "points": 3,
     "solution": true
    }
   },
   "source": [
    "for $x_0 = 0$, we have $$P(x_0) = -x_0 + x_0^3 = -0 + 0^3 = 0$$\n",
    "for $x_1 = 1$, we have $$P(x_1) = -x_1 + x_1^3 = -1 + 1^3 = 0$$\n",
    "for $x_2 = 2$, we have $$P(x_2) = -x_2 + x_2^3 = -2 + 2^3 = 6$$\n",
    "for $x_3 = 3$, we have $$P(x_3) = -x_3 + x_3^3 = -3 + 3^3 = 24$$\n",
    "\n",
    "Therefore, the interpolating polynomial we found is indeed an interpolant of the data."
   ]
  },
  {
   "cell_type": "markdown",
   "metadata": {
    "nbgrader": {
     "grade": false,
     "grade_id": "Q-2c",
     "locked": true,
     "solution": false
    }
   },
   "source": [
    "**(c)** (2 points) Determine the first and second derivative of $p$ and use the result to describe the shape of the function that data may have come from.  "
   ]
  },
  {
   "cell_type": "markdown",
   "metadata": {
    "nbgrader": {
     "grade": true,
     "grade_id": "A-2c",
     "locked": false,
     "points": 2,
     "solution": true
    }
   },
   "source": [
    "Since the polynomial we found is $$P_(x) = -x + x^3$$\n",
    "Thus, the first derivative of p is $$P' = -1 + 2x^2$$\n",
    "the second derivative of p is $$P'' = 0 + 4x = 4x$$\n",
    "From the first derivative of p, we know the function will increase in interval $x < -1$, the function will decrease when x in interval $-1 < x < 1$, and it would go up again in interval $1 < x$. "
   ]
  },
  {
   "cell_type": "markdown",
   "metadata": {
    "nbgrader": {
     "grade": false,
     "grade_id": "Q-3d",
     "locked": true,
     "solution": false
    }
   },
   "source": [
    "**(d)** (3 points) Plot the interpolating polynomial with the data points included to verify all that you have found.  Make sure to properly label your plot.  Also mark the maxima and minima you found."
   ]
  },
  {
   "cell_type": "code",
   "execution_count": 78,
   "metadata": {
    "collapsed": false,
    "nbgrader": {
     "grade": true,
     "grade_id": "A-2d",
     "locked": false,
     "points": 3,
     "solution": true
    }
   },
   "outputs": [
    {
     "data": {
      "image/png": "[encoded data removed]",
      "text/plain": [
       "<matplotlib.figure.Figure at 0x110ffa910>"
      ]
     },
     "metadata": {},
     "output_type": "display_data"
    }
   ],
   "source": [
    "### INSERT CODE HERE\n",
    "#define our polynomial function\n",
    "f = lambda x: -x + x**3\n",
    "\n",
    "#store data set\n",
    "num_points = 4\n",
    "data = numpy.empty((num_points, 2))\n",
    "data[:, 0] = [0, 1, 2, 3]\n",
    "data[:, 1] = [0, 0 , 6, 24]\n",
    "\n",
    "#maxima and minima data set\n",
    "min_max_data = numpy.empty((2, 2))\n",
    "min_max_data[:, 0] = [0, 3]\n",
    "min_max_data[:, 1] = [0, 24]\n",
    "x = numpy.linspace(-2.0, 4.0, 100)\n",
    "\n",
    "#plot our graph\n",
    "fig = plt.figure()\n",
    "axes = fig.add_subplot(1, 1, 1)\n",
    "axes.plot(x, f(x), label=\"$f(x)$\")\n",
    "\n",
    "for point in min_max_data:\n",
    "    axes.plot(point[0], point[1], 'ko')\n",
    "axes.set_title(\"$P(x)$\")\n",
    "axes.set_xlabel(\"x\")\n",
    "axes.set_ylabel(\"$P(x)$\")\n",
    "    \n",
    "plt.show()"
   ]
  },
  {
   "cell_type": "markdown",
   "metadata": {
    "nbgrader": {
     "grade": false,
     "grade_id": "Q-3",
     "locked": true,
     "solution": false
    }
   },
   "source": [
    "## Question 3\n",
    "\n",
    "Suppose we have a system of non-linear equations we want to solve.  Define\n",
    "$$\n",
    "    \\vec{x} = [x_0, x_1, \\ldots, x_n]\n",
    "$$ \n",
    "and \n",
    "$$\n",
    "    \\vec{f}(\\vec{x}) = [f_0(\\vec{x}), f_1(\\vec{x}), \\ldots, f_n(\\vec{x})] = \\vec{0}.\n",
    "$$ \n",
    "We can derive a multi-dimensional version of Newton's method by considering the multi-dimensional Taylor series around the point $\\vec{x}$ of each function $f_i$,\n",
    "$$\n",
    "    f_i(\\vec{x} + \\vec{\\delta}) = f_i(\\vec{x}) + \\sum^n_{j = 1} \\frac{\\partial f_i}{\\partial x_j} \\delta_j + \\mathcal{O}(\\Delta x^2).\n",
    "$$\n",
    "where\n",
    "$$\n",
    "    \\vec{\\delta} = [\\delta_0, \\delta_1, \\ldots, \\delta_n]\n",
    "$$\n",
    "and\n",
    "$$\n",
    "    \\Delta x = \\max_{i=0, n} \\delta_i.\n",
    "$$\n",
    "\n",
    "As we did before for Newton's method we drop the higher order terms and set $\\vec{f}(\\vec{x} + \\vec{\\delta}) = 0$ we can rewrite the above equation as\n",
    "$$\n",
    "    \\mathbf{J}(\\vec{x}) \\vec{\\delta} = -\\vec{f}(\\vec{x})\n",
    "$$\n",
    "where $\\mathbf{J}$ is the Jacobian matrix defined by\n",
    "$$\n",
    "    J_{ij} = \\frac{\\partial f_i}{\\partial x_j}.\n",
    "$$\n",
    "This is now a linear system that needs to be solved for the vector $\\vec{\\delta}$ which can then be used in the update formula\n",
    "$$\n",
    "    \\vec{x}_{i+1} = \\vec{x}_i + \\vec{\\delta}.\n",
    "$$\n",
    "\n",
    "For the rest of the question please consider the system (note that $\\log$ is the natural log)\n",
    "$$\\begin{aligned}\n",
    "    \\sin x + y^2 + \\log z - 7 = 0& \\\\\n",
    "    3 x + 2^y - z^3 + 1 = 0& \\\\\n",
    "    x + y + z - 5.0= 0&\n",
    "\\end{aligned}$$"
   ]
  },
  {
   "cell_type": "markdown",
   "metadata": {
    "nbgrader": {
     "grade": false,
     "grade_id": "Q-3a",
     "locked": true,
     "solution": false
    }
   },
   "source": [
    "**(a)** (3 points) Analytically find the Jacobian of the system of equations."
   ]
  },
  {
   "cell_type": "markdown",
   "metadata": {
    "nbgrader": {
     "grade": true,
     "grade_id": "A-3a",
     "locked": false,
     "points": 3,
     "solution": true
    }
   },
   "source": [
    "from the equations above, we have:\n",
    "\n",
    "$$f_1(x, y, z) = sin(x) + y^2 + log z - 7$$\n",
    "$$f_2(x, y, z) = 3x + 2^y - z^3 + 1$$\n",
    "$$f_3(x, y, z) = x + y + z - 5.0$$\n",
    "\n",
    "Thus, we Jacobian matrix:\n",
    "\n",
    "$$J_{f(x,y,z)} = \\begin{bmatrix} \n",
    "    cos(x)   & 2y         & \\frac{1}{z} \\\\\n",
    "    3        & ln(2)2^y   & -3z^2       \\\\\n",
    "    1        & 1          & 1           \\\\\n",
    "\\end{bmatrix}\n",
    "$$\n"
   ]
  },
  {
   "cell_type": "markdown",
   "metadata": {
    "nbgrader": {
     "grade": false,
     "grade_id": "Q-3b",
     "locked": true,
     "solution": false
    }
   },
   "source": [
    "**(b)** (3 points) Write a function that computes the Jacobian matrix given a vector $\\vec{x} = [x, y ,z]$."
   ]
  },
  {
   "cell_type": "code",
   "execution_count": 4,
   "metadata": {
    "collapsed": false,
    "nbgrader": {
     "grade": false,
     "grade_id": "A-3b",
     "locked": false,
     "solution": true
    }
   },
   "outputs": [],
   "source": [
    "def jacobian(x):\n",
    "    ### INSERT CODE HERE\n",
    "    #comput x\n",
    "    Jacobian_array = numpy.array([[numpy.cos(x[0]), 2.0*x[1], 1.0/x[2]],\n",
    "                                  [3.0*x[0], numpy.log(2)*2.0**x[1], -3.0*x[2]**2],\n",
    "                                  [1.0, 1.0, 1.0]])\n",
    "    return Jacobian_array"
   ]
  },
  {
   "cell_type": "code",
   "execution_count": 5,
   "metadata": {
    "collapsed": false,
    "nbgrader": {
     "grade": true,
     "grade_id": "T-3b",
     "locked": true,
     "points": 3,
     "solution": false
    }
   },
   "outputs": [
    {
     "name": "stdout",
     "output_type": "stream",
     "text": [
      "Success!\n"
     ]
    }
   ],
   "source": [
    "x = (1.0, 1.0, 1.0)\n",
    "answer = jacobian(x)\n",
    "true = numpy.array([[ 0.5403023058681398, 2.0, 1.0],\n",
    "                    [ 3.0, 1.3862943611198906, -3.0],\n",
    "                    [1.0, 1.0, 1.0]])\n",
    "numpy.testing.assert_allclose(jacobian((1.0, 1.0, 1.0)), true)\n",
    "print \"Success!\""
   ]
  },
  {
   "cell_type": "markdown",
   "metadata": {
    "nbgrader": {
     "grade": false,
     "grade_id": "Q-3c",
     "locked": true,
     "solution": false
    }
   },
   "source": [
    "**(c)** (10 points) Using the function from (b) write a new function that finds the root given an initial guess $\\vec{x}_0$ using Newton's method for the system.  Use the `numpy.linalg.solve` command to solve the linear system at each step.  As a stopping criteria check that the distance of $\\vec{f}(\\vec{x})$ from $\\vec{0}$ is below the given tolerance."
   ]
  },
  {
   "cell_type": "code",
   "execution_count": 6,
   "metadata": {
    "collapsed": false,
    "nbgrader": {
     "grade": false,
     "grade_id": "A-3c",
     "locked": false,
     "solution": true
    }
   },
   "outputs": [],
   "source": [
    "def newton(x, tolerance=1e-10):\n",
    "    ### INSERT CODE HERE\n",
    "    x = [1.0, 1.0, 1.0]\n",
    "    for i in xrange(1, 100):\n",
    "        f1 = numpy.sin(x[0]) + x[1]**2 + numpy.log(x[2]) - 7.0\n",
    "        f2 = 3.0 * x[0] + 2**x[1] - x[2]**3 + 1.0\n",
    "        f3 = x[0] + x[1] + x[2] - 5.0\n",
    "        F = numpy.array([[f1],[f2],[f3]])\n",
    "  \n",
    "        Jacobian_array = jacobian(x)\n",
    "        Identity_array = numpy.identity(3)\n",
    "        Inverse_Jacobian = numpy.linalg.solve(Jacobian_array, Identity_array)\n",
    "        Delta = numpy.dot(Inverse_Jacobian, F)\n",
    "        Transpose_Delta = Delta.transpose()\n",
    "        Transpose_final = Transpose_Delta[0]\n",
    "    \n",
    "        x[0] = x[0] - Transpose_final[0] \n",
    "        x[1] = x[1] - Transpose_final[1] \n",
    "        x[2] = x[2] - Transpose_final[2] \n",
    "    \n",
    "    return x\n"
   ]
  },
  {
   "cell_type": "code",
   "execution_count": 7,
   "metadata": {
    "collapsed": false,
    "nbgrader": {
     "grade": true,
     "grade_id": "T-3c",
     "locked": true,
     "points": 10,
     "solution": false
    }
   },
   "outputs": [
    {
     "name": "stdout",
     "output_type": "stream",
     "text": [
      "Success!\n"
     ]
    }
   ],
   "source": [
    "numpy.testing.assert_allclose(newton(x), numpy.array([ 0.5990537566405669, 2.3959314023778169, 2.005014840981616 ]))\n",
    "print \"Success!\""
   ]
  },
  {
   "cell_type": "markdown",
   "metadata": {
    "nbgrader": {
     "grade": false,
     "grade_id": "Q-4",
     "locked": true,
     "solution": false
    }
   },
   "source": [
    "## Question 4\n",
    "\n",
    "Consider the Lennard-Jones potential between two molecules\n",
    "$$\n",
    "    V(r) = 4 \\epsilon \\left [ \\left(\\frac{\\sigma}{r} \\right)^{12} - \\left( \\frac{\\sigma}{r} \\right)^6 \\right ]\n",
    "$$\n",
    "where $\\epsilon$ and $\\sigma$ are constants, and $r$ is the distance between the molecules."
   ]
  },
  {
   "cell_type": "markdown",
   "metadata": {
    "nbgrader": {
     "grade": false,
     "grade_id": "Q-4a",
     "locked": true,
     "solution": false
    }
   },
   "source": [
    "**(a)** (10 points) Analytically find the minimum $\\sigma / r$ that minimizes the potential.  Plot the potential and the minimum you found as a check."
   ]
  },
  {
   "cell_type": "markdown",
   "metadata": {
    "nbgrader": {
     "grade": true,
     "grade_id": "A-4a",
     "locked": false,
     "points": 10,
     "solution": true
    }
   },
   "source": [
    "To find the minimum $\\sigma/r$ that minimized the potential. We wanna find at which point, the derivative is 0. \n",
    "\n",
    "Thus, we took derivative of $V(r)$: $$V(r)'= 4\\epsilon [-12(\\frac{\\sigma^{12}}{r^{13}}) - (-6(\\frac{\\sigma^6}{r^7}))]$$\n",
    "\n",
    "Simiplify it to: $$V(r)' = \\frac{24\\epsilon}{r}(\\frac{\\sigma}{r})^6[1 - 2(\\frac{\\sigma}{r})^6]$$\n",
    "\n",
    "We know $r \\neq 0$, $\\sigma \\neq 0$, thus, the only thing that it can be zero is $$1 - 2(\\frac{\\sigma}{r})^6 = 0$$\n",
    "\n",
    "Solve this equation, we'll get $$r = \\pm 2^{\\frac{1}{6}}\\sigma$$\n",
    "\n",
    "Since $r$ is the distance between the molecules and $\\sigma$ won't be negative based on the physics meaning.\n",
    "\n",
    "Therefore, we drop the negative value, and find the minimum $\\frac{\\sigma}{r}$ is $\\frac{1}{\\sqrt[6]{r}} \\approx 0.89$\n"
   ]
  },
  {
   "cell_type": "code",
   "execution_count": 79,
   "metadata": {
    "collapsed": false
   },
   "outputs": [
    {
     "data": {
      "image/png": "[encoded data removed]",
      "text/plain": [
       "<matplotlib.figure.Figure at 0x110d96310>"
      ]
     },
     "metadata": {},
     "output_type": "display_data"
    }
   ],
   "source": [
    "epsilon = 5e-4\n",
    "sigma = 3e-1\n",
    "f = lambda r: 4.0 * epsilon * ((sigma/r)**12 - (sigma/r)**6)\n",
    "\n",
    "#data set\n",
    "N = 150\n",
    "r = numpy.linspace(0.3, 2.0, N)\n",
    "\n",
    "#plot our graph\n",
    "fig = plt.figure()\n",
    "axes = fig.add_subplot(1, 1, 1)\n",
    "V_r = f(r)\n",
    "axes.plot(sigma/r, V_r)\n",
    "axes.set_xlabel(\"$\\sigma$/r\")\n",
    "axes.set_ylabel(\"V(r)\")\n",
    "\n",
    "fig.show()"
   ]
  },
  {
   "cell_type": "markdown",
   "metadata": {
    "nbgrader": {
     "grade": false,
     "grade_id": "Q-4b",
     "locked": true,
     "solution": false
    }
   },
   "source": [
    "**(b)** (10 points) Using Golden section search compute the minimum of the potential numerically down to a bracket size of $10^{-6}$.  Plot the convergence to the true solution you found (the location) above at each step of the algorithm.  Also plot the potential and the minimum you found.  You can choose any value of $\\epsilon$ you want."
   ]
  },
  {
   "cell_type": "code",
   "execution_count": 82,
   "metadata": {
    "collapsed": false,
    "nbgrader": {
     "grade": true,
     "grade_id": "A-4b",
     "locked": false,
     "points": 10,
     "solution": true
    }
   },
   "outputs": [
    {
     "name": "stdout",
     "output_type": "stream",
     "text": [
      "Success!\n",
      "  min sigma/r = 0.890898956503\n",
      "  V(r) = -0.000499999999999\n",
      "  number of steps = 27\n"
     ]
    },
    {
     "data": {
      "image/png": "[encoded data removed]",
      "text/plain": [
       "<matplotlib.figure.Figure at 0x10f917f50>"
      ]
     },
     "metadata": {},
     "output_type": "display_data"
    },
    {
     "data": {
      "image/png": "[encoded data removed]",
      "text/plain": [
       "<matplotlib.figure.Figure at 0x10ec1b650>"
      ]
     },
     "metadata": {},
     "output_type": "display_data"
    }
   ],
   "source": [
    "### INSERT CODE HERE\n",
    "#data set\n",
    "epsilon = 5e-4\n",
    "sigma = 3e-1\n",
    "f = lambda r: 4.0 * epsilon * ((sigma/r)**12 - (sigma/r)**6)\n",
    "\n",
    "N = 150\n",
    "r = numpy.linspace(0.3, 2.0, N)\n",
    "phi = (numpy.sqrt(5.0) - 1.0) / 2.0\n",
    "\n",
    "TOLERANCE = 1e-6\n",
    "MAX_STEPS = 100\n",
    "\n",
    "#prepare for Golden section search\n",
    "a = sigma/0.5\n",
    "b = sigma\n",
    "c = b - phi * (b - a)\n",
    "d = a + phi * (b - a)\n",
    "\n",
    "#plotting graph respect to potential and minimum\n",
    "fig = plt.figure()\n",
    "V_r = f(r)\n",
    "axes = fig.add_subplot(1, 1, 1)\n",
    "axes.plot(sigma/r, V_r)\n",
    "axes.set_xlabel(\"$\\sigma/r$\")\n",
    "axes.set_ylabel(\"V(r)\")\n",
    "axes.set_title(\"Lennard-Jones potential\")\n",
    "\n",
    "success = False\n",
    "real_location = 0.890898956503\n",
    "convergence_point_at_each_step = 0.0\n",
    "convergence_list = []\n",
    "\n",
    "#Implementing Golden section search\n",
    "for n in xrange(1, MAX_STEPS + 1):\n",
    "    axes.plot(sigma/a, f(a),'ko')\n",
    "    axes.plot(sigma/b, f(b),'ko')\n",
    "    fc = f(c)\n",
    "    fd = f(d)\n",
    "    \n",
    "    #collecting middle point of every step for plotting the convergence rate\n",
    "    convergence_point_at_each_step = numpy.abs((((sigma/b) + (sigma/a)) / 2.0) - real_location )\n",
    "    convergence_list.append(convergence_point_at_each_step)\n",
    "    \n",
    "    if fc < fd:\n",
    "        b = d\n",
    "        d = c\n",
    "        c = b - phi * (b - a)    \n",
    "    else:\n",
    "        a = c\n",
    "        c = d\n",
    "        d = a + phi * (b - a)\n",
    "        \n",
    "    if numpy.abs(b - a) < TOLERANCE:\n",
    "        success = True\n",
    "        break\n",
    "        \n",
    "if success:\n",
    "    print \"Success!\"\n",
    "    print \"  min sigma/r = %s\" % str(((sigma/b) + (sigma/a)) / 2.0)\n",
    "    print \"  V(r) = %s\" % f((b + a) / 2.0)\n",
    "    print \"  number of steps = %s\" % n\n",
    "else:\n",
    "    print \"Reached maximum number of steps!\"\n",
    "\n",
    "#plotting the graph for convergence rate\n",
    "fig = plt.figure()\n",
    "axes = fig.add_subplot(1, 1, 1)\n",
    "axes.plot(convergence_list)\n",
    "axes.set_xlabel(\"N\")\n",
    "axes.set_ylabel(\"Convergence Rate\")\n",
    "axes.set_title(\"Convergence at each step\")\n",
    "\n",
    "plt.show()"
   ]
  },
  {
   "cell_type": "markdown",
   "metadata": {
    "nbgrader": {
     "grade": false,
     "grade_id": "Q-5",
     "locked": true,
     "solution": false
    }
   },
   "source": [
    "## Question 5\n",
    "\n",
    "The equation for an ellipse is $x^2/a^2 + y^2/b^2=1$.  The general equation for arc-length and therfore the circumference of an ellipse can be computed using\n",
    "$$\n",
    "    S = 2 \\int^a_{-a} \\sqrt{1 + (\\text{d}y/\\text{d}x)^2} dx.\n",
    "$$"
   ]
  },
  {
   "cell_type": "markdown",
   "metadata": {
    "nbgrader": {
     "grade": false,
     "grade_id": "Q-5a",
     "locked": true,
     "solution": false
    }
   },
   "source": [
    "**(a)** (3 points) We can approximate the circumference by following a paper by Srinivasa Ramanujan in 1914 [1] where\n",
    "$$\n",
    "    S \\approx \\pi (a + b) \\left ( 1 + \\frac{3 h}{10 + \\sqrt{4 - 3 h}} \\right )\n",
    "$$\n",
    "\n",
    "which is $h^5$ order accurate where \n",
    "$$\n",
    "    h = \\frac{(a-b)^2}{(a + b)^2}.\n",
    "$$\n",
    "Implement a function that computes the approximation using Ramanujan's result.\n",
    "\n",
    "1. Ramanujan, Srinivasa, (1914). \"Modular Equations and Approximations to $\\pi$\". \n",
    "   Quart. J. Pure App. Math. 45: 350-372."
   ]
  },
  {
   "cell_type": "code",
   "execution_count": 10,
   "metadata": {
    "collapsed": true,
    "nbgrader": {
     "grade": false,
     "grade_id": "A-5a",
     "locked": false,
     "solution": true
    }
   },
   "outputs": [],
   "source": [
    "def S_ramanujan(a, b):\n",
    "    ### INSERT CODE HERE\n",
    "    h = 0.0\n",
    "    h = (a - b)**2 / (a + b)**2\n",
    "    S = 0.0\n",
    "    S = numpy.pi * (a + b) * (1.0 + (3.0 * h / (10.0 + numpy.sqrt(4.0 - 3.0 * h))))\n",
    "    \n",
    "    return S"
   ]
  },
  {
   "cell_type": "code",
   "execution_count": 11,
   "metadata": {
    "collapsed": false,
    "nbgrader": {
     "grade": true,
     "grade_id": "T-5a",
     "locked": true,
     "points": 3,
     "solution": false
    }
   },
   "outputs": [
    {
     "name": "stdout",
     "output_type": "stream",
     "text": [
      "Computed = 11.6120262043\n",
      "True = 11.612026259\n",
      "Error = 5.46598464268e-08\n",
      "Success!\n"
     ]
    }
   ],
   "source": [
    "x = numpy.random.random((2)) * 2.0 + 1.0\n",
    "x.sort()\n",
    "import scipy.special\n",
    "S_exact = lambda a, b: 4.0 * a * scipy.special.ellipe(1.0 - b**2 / a**2)\n",
    "computed = S_ramanujan(x[1], x[0])\n",
    "true = S_exact(x[1], x[0])\n",
    "print \"Computed = %s\" % computed\n",
    "print \"True = %s\" % true\n",
    "print \"Error = %s\" % (numpy.abs(computed - true))\n",
    "numpy.testing.assert_allclose(computed, true)\n",
    "print \"Success!\""
   ]
  },
  {
   "cell_type": "markdown",
   "metadata": {
    "nbgrader": {
     "grade": false,
     "grade_id": "Q-5b",
     "locked": true,
     "solution": false
    }
   },
   "source": [
    "**(b)** (10 points) Another way to compute the circumference is to use a series due to Ivory and Bessel (you can find the original papers online which may be worth a look).  One way to write this series is\n",
    "\n",
    "$$S = \\pi (a + b) \\sum^{\\infty}_{n=0} \\left(\\begin{aligned} 0.5 \\\\ n~~ \\end{aligned} \\right)^2 h^n ~~~~~ \\text{with} ~~~~~~ h = \\frac{(a - b)^2}{(a+b)^2}$$\n",
    "\n",
    "where $\\left(\\begin{aligned} 0.5 \\\\ n~~ \\end{aligned} \\right)$ is the binomial coefficient which can be computed via a `scipy` function.  Write a function to compute this series to a point where the difference between the partial sums is less than $\\epsilon_{\\text{machine}}$."
   ]
  },
  {
   "cell_type": "code",
   "execution_count": 12,
   "metadata": {
    "collapsed": true,
    "nbgrader": {
     "grade": false,
     "grade_id": "A-5b",
     "locked": false,
     "solution": true
    }
   },
   "outputs": [],
   "source": [
    "def S_ivory(a, b):\n",
    "    ### INSERT CODE HERE\n",
    "    h = 0.0\n",
    "    h = (a - b)**2 / (a + b)**2\n",
    "    N = 100\n",
    "    S = 0.0\n",
    "    Sum = 0.0\n",
    "    for n in xrange(N):\n",
    "        Sum += scipy.special.binom(0.5, n)**2 * h**n\n",
    "    S = numpy.pi * (a + b) * Sum\n",
    "    return S"
   ]
  },
  {
   "cell_type": "code",
   "execution_count": 13,
   "metadata": {
    "collapsed": false,
    "nbgrader": {
     "grade": true,
     "grade_id": "T-5b",
     "locked": true,
     "points": 10,
     "solution": false
    }
   },
   "outputs": [
    {
     "name": "stdout",
     "output_type": "stream",
     "text": [
      "Computed = 11.0844271229\n",
      "True = 11.0844271229\n",
      "Error = 1.7763568394e-15\n",
      "Success!\n"
     ]
    }
   ],
   "source": [
    "x = numpy.random.random((2)) * 2.0 + 1.0\n",
    "x.sort()\n",
    "import scipy.special\n",
    "S_exact = lambda a, b: 4.0 * a * scipy.special.ellipe(1.0 - b**2 / a**2)\n",
    "computed = S_ivory(x[1], x[0])\n",
    "true = S_exact(x[1], x[0])\n",
    "print \"Computed = %s\" % computed\n",
    "print \"True = %s\" % true\n",
    "print \"Error = %s\" % (numpy.abs(computed - true))\n",
    "numpy.testing.assert_allclose(computed, true)\n",
    "print \"Success!\""
   ]
  },
  {
   "cell_type": "markdown",
   "metadata": {
    "nbgrader": {
     "grade": false,
     "grade_id": "Q-5c",
     "locked": true,
     "solution": false
    }
   },
   "source": [
    "**(c)** (5 points) Derive an expression for the integrand using implicit differentiation."
   ]
  },
  {
   "cell_type": "markdown",
   "metadata": {
    "nbgrader": {
     "grade": true,
     "grade_id": "A-5c",
     "locked": false,
     "points": 5,
     "solution": true
    }
   },
   "source": [
    "Because $x^2/a^2 + y^2/b^2=1$ and\n",
    "$$\n",
    "    S = 2 \\int^a_{-a} \\sqrt{1 + (\\text{d}y/\\text{d}x)^2} dx.\n",
    "$$\n",
    "\n",
    "We can use 2nd order centered difference to represent $\\text{d}y/\\text{d}x$:\n",
    "\n",
    "$$y = \\frac{b\\sqrt(a^2 - x^2)}{a}$$\n",
    "\n",
    "$$y' = \\frac{b\\sqrt{a^2 - x_{n+1}} - \\sqrt{a^2 - x_{n-1}}}{2\\Delta x a}$$\n",
    "\n",
    "Then, we rewrite the S equation:\n",
    "\n",
    "$$\n",
    "    S = 2 \\int^a_{-a} \\sqrt{1 + y'^2} dx.\n",
    "$$\n",
    "\n",
    "let $g(x) = \\sqrt{1 + y'^2}$\n",
    "\n",
    "by using Trapezoidal Rule, we have:\n",
    "\n",
    "$$Q(g) = \\frac{\\Delta x}{2} (g(x_0) + g(x_N) ) + \\sum^{N-1}_{j=1} \\Delta x g(x_j)$$\n",
    "\n",
    "$$S \\approx Q(g)$$"
   ]
  },
  {
   "cell_type": "markdown",
   "metadata": {
    "nbgrader": {
     "grade": false,
     "grade_id": "Q-5d",
     "locked": true,
     "solution": false
    }
   },
   "source": [
    "**(d)** (10 points) Write a function that computes the integral to a given tolerance.  Note that this may converge very slowly so use a high enough order quadrature rule so that the computation takes less than a minute to do (this will result in an error otherwise).  Suggested largest $N$ is $1000$.  If the integration does not succeed raise a `ValueError`.  Use the `S_exact` function used in the tests above to evaluate the tolerance."
   ]
  },
  {
   "cell_type": "code",
   "execution_count": 83,
   "metadata": {
    "collapsed": false,
    "nbgrader": {
     "grade": false,
     "grade_id": "A-5d",
     "locked": false,
     "solution": true
    }
   },
   "outputs": [],
   "source": [
    "def S_direct(a, b, tolerance):\n",
    "    ### INSERT CODE HERE\n",
    "    f = lambda x: numpy.sqrt(a**2 - x**2) * b / a\n",
    "    num_partitions = 10**4\n",
    "    x_hat = numpy.linspace(-a, a, num_partitions + 1)\n",
    "    delta_x = x_hat[1] - x_hat[0]\n",
    "    \n",
    "    #the middle y's\n",
    "    f_prime_hat = numpy.empty(x_hat.shape)\n",
    "    f_prime_hat[1:-1] = (f(x_hat[2:]) - f(x_hat[:-2])) / (2 * delta_x)\n",
    "    \n",
    "    #on the left point and right point using 1st order\n",
    "    f_prime_hat[0] = (f(x_hat[1]) - f(x_hat[0])) / delta_x     \n",
    "    f_prime_hat[-1] = (f(x_hat[-1]) - f(x_hat[-2])) / delta_x\n",
    "    \n",
    "    #g is the result of function sqrt(1 + y')\n",
    "    g = 0.0\n",
    "    g_list = []\n",
    "    \n",
    "    for i in f_prime_hat:\n",
    "        g = numpy.sqrt(1.0 + i**2)\n",
    "        g_list.append(g)\n",
    "    S = 0.0\n",
    "    sum_1 = 0.0\n",
    "    sum_2 = (g_list[0] + g_list[-1]) * delta_x / 2.0\n",
    "    for i in xrange(1, num_partitions):\n",
    "        sum_1 += delta_x*g_list[i]\n",
    "    S = 2.0 * (sum_2 + sum_1) \n",
    "        \n",
    "    return S"
   ]
  },
  {
   "cell_type": "code",
   "execution_count": 84,
   "metadata": {
    "collapsed": false,
    "nbgrader": {
     "grade": true,
     "grade_id": "T-5d",
     "locked": true,
     "points": 10,
     "solution": false
    }
   },
   "outputs": [
    {
     "name": "stdout",
     "output_type": "stream",
     "text": [
      "Computed = 11.2648868512\n",
      "True = 11.2648988151\n",
      "Error = 1.1963901505e-05\n",
      "Success!\n"
     ]
    }
   ],
   "source": [
    "x = numpy.random.random((2)) * 2.0 + 1.0\n",
    "x.sort()\n",
    "import scipy.special\n",
    "S_exact = lambda a, b: 4.0 * a * scipy.special.ellipe(1.0 - b**2 / a**2)\n",
    "tolerance = 1e-1\n",
    "computed = S_direct(x[1], x[0], tolerance)\n",
    "true = S_exact(x[1], x[0])\n",
    "print \"Computed = %s\" % computed\n",
    "print \"True = %s\" % true\n",
    "print \"Error = %s\" % (numpy.abs(computed - true))\n",
    "numpy.testing.assert_allclose(computed, true, atol=tolerance)\n",
    "print \"Success!\""
   ]
  },
  {
   "cell_type": "markdown",
   "metadata": {
    "nbgrader": {
     "grade": false,
     "grade_id": "Q-5e",
     "locked": true,
     "solution": false
    }
   },
   "source": [
    "**(e)** (10 points) Note that we have been using a special function from SciPy called `ellipe`.  This function computes the elliptic integral of the second kind\n",
    "$$\n",
    "    E(e) = \\int^{\\pi/2}_0 \\sqrt{1 - e^2 \\sin^2 \\theta} d\\theta\n",
    "$$\n",
    "which is the arc-length over one quadrant of the ellipse.  The value $e$ is the eccentricity defined as\n",
    "$$\n",
    "    e = \\sqrt{1 - b^2 / a^2}\n",
    "$$\n",
    "where here we need to define $a$ as the major-axis and $b$ the minor-axis of the ellipse (this definition is slightly different than the one in SciPy which we have been accommodating).  Elliptic integrals are a broad class of special functions that all arose from attempts at computing things related to ellipses.\n",
    "\n",
    "Again write a function that computes the circumference of an ellipse to a provided tolerance but using this formulation of the problem.  If the integration does not succeed raise a `ValueError`.  Remember that computing the function above only gives you one quarter of the circumference and to find the total circumference you want to use\n",
    "$$\n",
    "    S = 4 a E(e).\n",
    "$$"
   ]
  },
  {
   "cell_type": "code",
   "execution_count": 86,
   "metadata": {
    "collapsed": false,
    "nbgrader": {
     "grade": false,
     "grade_id": "A-5e",
     "locked": false,
     "solution": true
    }
   },
   "outputs": [],
   "source": [
    "def S_elliptic_integral(a, b, tolerance):\n",
    "    ### INSERT CODE HERE\n",
    "    S_exact = lambda a, b: 4.0 * a * scipy.special.ellipe(1.0 - b**2 / a**2)\n",
    "    true = S_exact(x[1], x[0])\n",
    "    S = 0.0\n",
    "    error = 1.0\n",
    "    e = numpy.sqrt(1.0 - b**2/a**2)\n",
    "    f = lambda x: numpy.sqrt(1.0 - e**2 * numpy.sin(x)**2)\n",
    "    \n",
    "    #using Gauss-4 point\n",
    "    num_partitions = 1000\n",
    "    x_hat = numpy.linspace(0.0, numpy.pi/2.0, num_partitions)\n",
    "    delta_x = x_hat[1] - x_hat[0]\n",
    "    for j in xrange(num_partitions):\n",
    "        if error < tolerance:\n",
    "            break\n",
    "        else:\n",
    "            xi_map = lambda a,b,xi : (b - a) / 2.0 * xi + (a + b) / 2.0\n",
    "            xi = [-numpy.sqrt(3.0 / 7.0 - 2.0 / 7.0 * numpy.sqrt(6.0 / 5.0)), \n",
    "                   numpy.sqrt(3.0 / 7.0 - 2.0 / 7.0 * numpy.sqrt(6.0 / 5.0)),\n",
    "                  -numpy.sqrt(3.0 / 7.0 + 2.0 / 7.0 * numpy.sqrt(6.0 / 5.0)),\n",
    "                   numpy.sqrt(3.0 / 7.0 + 2.0 / 7.0 * numpy.sqrt(6.0 / 5.0))]\n",
    "            w = [(18.0 + numpy.sqrt(30.0)) / 36.0, (18.0 + numpy.sqrt(30.0)) / 36.0,\n",
    "                 (18.0 - numpy.sqrt(30.0)) / 36.0, (18.0 - numpy.sqrt(30.0)) / 36.0]\n",
    "            Qf = 0.0\n",
    "            for i in xrange(0, num_partitions - 1):\n",
    "                for k in xrange(len(xi)):\n",
    "                    Qf += f(xi_map(x_hat[i], x_hat[i+1], xi[k])) * w[k]\n",
    "            Qf *= delta_x / 2.0\n",
    "            S = 4.0 * a * Qf\n",
    "            error = numpy.abs(true - S)\n",
    "    return S"
   ]
  },
  {
   "cell_type": "code",
   "execution_count": 87,
   "metadata": {
    "collapsed": false,
    "nbgrader": {
     "grade": true,
     "grade_id": "T-5e",
     "locked": true,
     "points": 10,
     "solution": false
    }
   },
   "outputs": [
    {
     "name": "stdout",
     "output_type": "stream",
     "text": [
      "Computed = 15.9465055455\n",
      "True = 15.9465055455\n",
      "Error = 8.881784197e-15\n",
      "Success!\n"
     ]
    }
   ],
   "source": [
    "x = numpy.random.random((2)) * 2.0 + 1.0\n",
    "x.sort()\n",
    "import scipy.special\n",
    "S_exact = lambda a, b: 4.0 * a * scipy.special.ellipe(1.0 - b**2 / a**2)\n",
    "tolerance = 1e-10\n",
    "computed = S_elliptic_integral(x[1], x[0], tolerance)\n",
    "true = S_exact(x[1], x[0])\n",
    "print \"Computed = %s\" % computed\n",
    "print \"True = %s\" % true\n",
    "print \"Error = %s\" % (numpy.abs(computed - true))\n",
    "numpy.testing.assert_allclose(computed, true, atol=tolerance)\n",
    "print \"Success!\""
   ]
  },
  {
   "cell_type": "code",
   "execution_count": null,
   "metadata": {
    "collapsed": true
   },
   "outputs": [],
   "source": []
  }
 ],
 "metadata": {
  "anaconda-cloud": {},
  "kernelspec": {
   "display_name": "Python [Root]",
   "language": "python",
   "name": "Python [Root]"
  },
  "language_info": {
   "codemirror_mode": {
    "name": "ipython",
    "version": 2
   },
   "file_extension": ".py",
   "mimetype": "text/x-python",
   "name": "python",
   "nbconvert_exporter": "python",
   "pygments_lexer": "ipython2",
   "version": "2.7.12"
  },
  "latex_envs": {
   "bibliofile": "biblio.bib",
   "cite_by": "apalike",
   "current_citInitial": 1,
   "eqLabelWithNumbers": true,
   "eqNumInitial": 0
  }
 },
 "nbformat": 4,
 "nbformat_minor": 0
}
