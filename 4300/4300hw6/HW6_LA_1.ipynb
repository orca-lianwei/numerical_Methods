{
 "cells": [
  {
   "cell_type": "code",
   "execution_count": 2,
   "metadata": {
    "collapsed": false,
    "nbgrader": {
     "grade": false,
     "grade_id": "header1",
     "locked": false,
     "solution": false
    }
   },
   "outputs": [
    {
     "name": "stderr",
     "output_type": "stream",
     "text": [
      "/Users/liang/anaconda/lib/python2.7/site-packages/matplotlib/font_manager.py:273: UserWarning: Matplotlib is building the font cache using fc-list. This may take a moment.\n",
      "  warnings.warn('Matplotlib is building the font cache using fc-list. This may take a moment.')\n"
     ]
    }
   ],
   "source": [
    "%matplotlib inline\n",
    "%precision 16\n",
    "import numpy\n",
    "import matplotlib.pyplot as plt"
   ]
  },
  {
   "cell_type": "markdown",
   "metadata": {
    "nbgrader": {
     "grade": false,
     "grade_id": "header1",
     "locked": true,
     "solution": false
    }
   },
   "source": [
    "Before you turn this problem in, make sure everything runs as expected. First, restart the kernel (in the menubar, select Kernel $\\rightarrow$ Restart) and then run all cells (in the menubar, select Cell $\\rightarrow$ Run All).\n",
    "\n",
    "Make sure you fill in any place that says YOUR CODE HERE or \"YOUR ANSWER HERE\", as well as your name and collaborators below:"
   ]
  },
  {
   "cell_type": "markdown",
   "metadata": {
    "nbgrader": {
     "grade": false,
     "grade_id": "header2",
     "locked": true,
     "solution": false
    }
   },
   "source": [
    "# HW 6:  Linear Algebra Part 1"
   ]
  },
  {
   "cell_type": "markdown",
   "metadata": {
    "nbgrader": {
     "grade": false,
     "grade_id": "Q1",
     "locked": true,
     "solution": false
    }
   },
   "source": [
    "## Question 1\n",
    "\n",
    "The Frobenius norm $\\|\\cdot\\|_F$ of a matrix $A\\in\\mathbb R^{m\\times n}$ is defined as\n",
    "\n",
    "$$\n",
    "  \\|A\\|_F := \\left( \\sum_{i=1}^m\\sum_{j=1}^n |a_{ij}|^2\\right )^{1/2}.\n",
    "$$"
   ]
  },
  {
   "cell_type": "markdown",
   "metadata": {
    "nbgrader": {
     "grade": false,
     "grade_id": "Q1-a",
     "locked": true,
     "solution": false
    }
   },
   "source": [
    "**(a)** (10 points) - Show that $\\|\\cdot\\|_F$ is indeed a norm on $\\mathbb R^{m\\times n}$ (show that it follows the definition and properties of a matrix norm)."
   ]
  },
  {
   "cell_type": "markdown",
   "metadata": {
    "nbgrader": {
     "grade": true,
     "grade_id": "A1-a",
     "locked": false,
     "points": 10,
     "solution": true
    }
   },
   "source": [
    "**Answer**\n",
    "\n",
    "Because the Frobenius norm is defined as \n",
    "\n",
    "$$\n",
    "  \\|A\\|_F = \\left( \\sum_{i=1}^m\\sum_{j=1}^n |a_{ij}|^2\\right )^{1/2}.\n",
    "$$\n",
    "\n",
    "we have:\n",
    "\n",
    "$$\n",
    "  \\|A\\|_F = \\left( \\sum_{i=1}^m\\sum_{j=1}^n |a_{ij}|^2\\right )^{1/2} \\geq 0.\n",
    "$$\n",
    "\n",
    "$$\n",
    "  \\|A\\|_F = \\left( \\sum_{i=1}^m\\sum_{j=1}^n |a_{ij}|^2\\right )^{1/2} = 0.\\quad \\textrm{iff A = 0} \\quad\n",
    "$$\n",
    "\n",
    "$$\n",
    "  \\||cA||_F^2 = \\sum_{i=1}^m\\sum_{j=1}^n |c a_{ij}|^2 = |c|^2 \\sum_{i=1}^m\\sum_{j=1}^n |a_{ij}|^2 = |c|^2 ||A||_F^2 \\Rightarrow ||cA||_F = |c|||A||_F\n",
    "$$\n",
    "\n",
    "Triangle Inequality:\n",
    "\n",
    "$$||A + B||_F^2 = \\sum_{i=i}^n\\sum_{j=1}^n|a_{ij}+b_{ij}|^2$$\n",
    "$$\\leq \\sum_{i=1}^n\\sum_{j=2}^n(|a_{ij}|+|b_{ij}|)^2$$\n",
    "$$=\\sum_{i=1}^n\\sum_{j=2}^n(|a_{ij}|^2+2|a_{ij}||b_{ij}|+|b_{ij}^2)$$\n",
    "$$=\\sum_{i=1}^n\\sum_{j=2}^n|a_{ij}|^2 + 2\\sum_{i=1}^n\\sum_{j=2}^n|a_{ij}||b_{ij}| + \\sum_{i=1}^n\\sum_{j=2}^n|b_{ij}|^2$$\n",
    "$$\\leq \\sum_{i=1}^n\\sum_{j=2}^n|a_{ij}|^2 + 2(\\sum_{i=1}^n\\sum_{j=2}^n|a_{ij}|^2)^{\\frac{1}{2}}(\\sum_{i=1}^n\\sum_{j=2}^n|b_{ij}|^2)^{\\frac{1}{2}}+\\sum_{i=1}^n\\sum_{j=2}^n|b_{ij}|^2$$\n",
    "$$=\\left( (\\sum_{i=1}^n\\sum_{j=2}^n|a_{ij}|^2)^{\\frac{1}{2}} + \\sum_{i=1}^n\\sum_{j=2}^n|b_{ij}|^2)^{\\frac{1}{2}} \\right)$$\n",
    "$$=(||A||_F + ||B||_F)^2$$\n",
    "Therefore, $$||A+B||_F \\leq ||A||_F + ||B||_F$$\n",
    "\n",
    "So, as we can see, $$||\\cdot||_F$$ follows the properties of a matrix norm\n",
    "\n",
    "**Answer Ends**"
   ]
  },
  {
   "cell_type": "markdown",
   "metadata": {
    "nbgrader": {
     "grade": false,
     "grade_id": "Q1-b",
     "locked": true,
     "solution": false
    }
   },
   "source": [
    "**(b)** (10 points) - Show that the Frobenius norm fulfills the following inequality \n",
    "$$\n",
    " \\|Ax\\|_2 \\leq \\|A\\|_F \\cdot \\|x\\|_2 \\qquad \\text{for all }A\\in\\mathbb R^{m\\times n}, x\\in \\mathbb R^n,\n",
    "$$\n",
    "where $\\|\\cdot\\|_2$ is the Euclidean norm."
   ]
  },
  {
   "cell_type": "markdown",
   "metadata": {
    "collapsed": true,
    "nbgrader": {
     "grade": true,
     "grade_id": "A1-b",
     "locked": false,
     "points": 10,
     "solution": true
    }
   },
   "source": [
    "**Answer**\n",
    "\n",
    "Since $$||Ax||_2 \\leq ||A||_2||x||_2$$\n",
    "\n",
    "If we can show $||A||_2||x||_2 \\leq ||A||_F||x||_2$, we prove can $||Ax||_2 \\leq ||A||_F \\cdot ||x||_2$\n",
    "\n",
    "Because $||x||_2$ is the Euclidean norm and it's on both sides, we can cancel them on both sides without changing $\\leq$ sign.\n",
    "\n",
    "Then, we need to show $||A||_2 \\leq ||A||_F$.\n",
    "\n",
    "By defination, $||A||_2 = \\sqrt{\\rho(A^\\ast A)}$ where $\\rho(B)$ is the spectral radius defined as\n",
    "$$\n",
    "    \\rho(B) = \\max_{i} |\\lambda_i|,\n",
    "$$\n",
    "\n",
    "To calculate $||A||_F$, we know $$||A||_F = \\sqrt{trace(A^\\ast A)}$$ where $$trace(X) = \\sum^n_{i=1}|\\lambda_i|$$\n",
    "\n",
    "Obviously, $$\\sqrt{\\max_{i}|\\lambda_i}| \\leq \\sqrt{\\sum^n_{i=1}|\\lambda_i|}$$\n",
    "\n",
    "Here, we showed that $$||A||_2 \\leq ||A||_F$$\n",
    "\n",
    "Therefore, $$||Ax||_2 \\leq ||A||_F \\cdot ||x||_2$$\n",
    "\n",
    "**Answer Ends**"
   ]
  },
  {
   "cell_type": "markdown",
   "metadata": {
    "nbgrader": {
     "grade": false,
     "grade_id": "Q2",
     "locked": true,
     "solution": false
    }
   },
   "source": [
    "## Question 2\n",
    "\n",
    "Vector and matrix $p$-norms are related by various inequalities, often involving the dimensions $m$ or $n$.  For each of the following, verify the inequality and give an example of a nonzero vector or matrix (for general $m$ and $n$) for which equality is achieved.  In this problem $x \\in \\mathbb R^m$ and $A \\in \\mathbb R^{m \\times n}$."
   ]
  },
  {
   "cell_type": "markdown",
   "metadata": {
    "nbgrader": {
     "grade": false,
     "grade_id": "Q2-a",
     "locked": true,
     "solution": false
    }
   },
   "source": [
    "**(a)** (10 points) - $||x||_\\infty \\leq ||x||_2$"
   ]
  },
  {
   "cell_type": "markdown",
   "metadata": {
    "nbgrader": {
     "grade": true,
     "grade_id": "A2-a",
     "locked": false,
     "points": 10,
     "solution": true
    }
   },
   "source": [
    "**Answer**\n",
    "\n",
    "By defination, $$||x||_\\infty = \\max |x_i| = \\max (|x_i|^2)^{1/2}$$ $$||x||_2 = \\left( \\sum^m_{i=1} |x_i|^2 \\right)^{1/2}$$\n",
    "\n",
    "It's obvious that \n",
    "\n",
    "$$\\max(|x_i|^2)^{1/2} \\leq \\left(\\sum^m_{i=1} |x_i|^2 \\right)^{1/2}$$\n",
    "\n",
    "Therefore, $$||x||_\\infty \\leq ||x||_2$$\n",
    "\n",
    "**Equality Example**\n",
    "\n",
    "for $x = e_k, k = 1,...,m$, where $e_k$ is one of the standard basis vectors for $\\mathbb R^m$\n",
    "\n",
    "**Answer Ends**"
   ]
  },
  {
   "cell_type": "markdown",
   "metadata": {
    "nbgrader": {
     "grade": false,
     "grade_id": "Q2-b",
     "locked": true,
     "solution": false
    }
   },
   "source": [
    "**(b)** (10 points) - $||x||_2 \\leq \\sqrt{m} ||x||_\\infty$"
   ]
  },
  {
   "cell_type": "markdown",
   "metadata": {
    "nbgrader": {
     "grade": true,
     "grade_id": "A2-b",
     "locked": false,
     "points": 10,
     "solution": true
    }
   },
   "source": [
    "**Answer**\n",
    "\n",
    "By defination, $$||x||_\\infty = \\max |x_i| = \\max (|x_i|^2)^{1/2}$$ $$||x||_2 = \\left( \\sum^m_{i=1} |x_i|^2 \\right)^{1/2}$$\n",
    "\n",
    "$$||x||_2 = \\left( \\sum^m_{i=1} |x_i|^2 \\right)^{1/2} \\leq \\left(\\sum^m_{i=1}max(|x_i|^2)\\right)^{1/2} = (m||x||^2_\\infty)^{1/2} = \\sqrt{m}||x||_\\infty$$\n",
    "\n",
    "**Equality Example**\n",
    "\n",
    "For $x = (1, 1, ..., 1)^T \\in \\mathbb R^m$\n",
    "\n",
    "**Answer Ends**"
   ]
  },
  {
   "cell_type": "markdown",
   "metadata": {
    "nbgrader": {
     "grade": false,
     "grade_id": "Q2-c",
     "locked": true,
     "solution": false
    }
   },
   "source": [
    "**(c)** (10 points) - $||A||_\\infty \\leq \\sqrt{n} ||A||_2$"
   ]
  },
  {
   "cell_type": "markdown",
   "metadata": {
    "nbgrader": {
     "grade": true,
     "grade_id": "A2-c",
     "locked": false,
     "points": 10,
     "solution": true
    }
   },
   "source": [
    "**Answer**\n",
    "\n",
    "$$||A||_\\infty = \\sup_{x\\in\\mathbb{C}^n ~ x\\neq0} \\frac{||A x||_{m}}{||x||_n}$$\n",
    "$$\\leq \\sup_{x\\in\\mathbb{R}^n ~ x\\neq0} \\frac{||A x||_{2}}{||x||_n}$$\n",
    "$$\\leq \\sup_{x\\in\\mathbb{R}^n ~ x\\neq0} \\frac{||A x||_{2}}{||x||_2/\\sqrt{n}}$$\n",
    "$$=\\sqrt{n}||A||_2$$\n",
    "\n",
    "**Equality Example**\n",
    "\n",
    "Consider a matrix $A \\in \\mathbb R^{m*n}$ with first row all ones, and zeros on anywhere else.\n",
    "\n",
    "**Answer Ends**"
   ]
  },
  {
   "cell_type": "markdown",
   "metadata": {
    "nbgrader": {
     "grade": false,
     "grade_id": "Q2-d",
     "locked": true,
     "solution": false
    }
   },
   "source": [
    "**(d)** (10 points) - $||A||_2 \\leq \\sqrt{m} ||A||_\\infty$"
   ]
  },
  {
   "cell_type": "markdown",
   "metadata": {
    "nbgrader": {
     "grade": true,
     "grade_id": "A2-d",
     "locked": false,
     "points": 10,
     "solution": true
    }
   },
   "source": [
    "**Answer**\n",
    "\n",
    "$$||A||_2 = \\sup_{x\\in\\mathbb{R}^n ~ x\\neq0} \\frac{||A x||_{2}}{||x||_2}$$\n",
    "$$\\leq \\sup_{x\\in\\mathbb{R}^n ~ x\\neq0} \\frac{\\sqrt{m}||A x||_\\infty}{||x||_2}$$\n",
    "$$\\leq \\sup_{x\\in\\mathbb{R}^n ~ x\\neq0} \\frac{\\sqrt{m}||A x||_\\infty}{||x||_\\infty}$$\n",
    "$$=\\sqrt{m}||A||_\\infty$$\n",
    "\n",
    "**Equality Example**\n",
    "\n",
    "Consider a matrix $A \\in \\mathbb R^{m*n}$ with first column all ones and zeros on anywhere else.\n",
    "\n",
    "**Answer Ends**"
   ]
  },
  {
   "cell_type": "markdown",
   "metadata": {
    "nbgrader": {
     "grade": false,
     "grade_id": "Q3",
     "locked": true,
     "solution": false
    }
   },
   "source": [
    "## Question 3\n",
    "\n",
    "(15 points) - Write a function that computes the least-squares fit of a given polynomial order $n$ without using the function `numpy.linalg.lstsq` and `numpy.vander` (i.e. construct the system that needs to be solved yourself).  This function should return the coefficients of the resulting polynomial in accending order of powers.  If the function does not receive valid input (most notably an underconstrained system) raise a `ValueError` with an appropriate error message.  Make sure to mention this in your `doc-string`.  \n",
    "\n",
    "Also write a function that plots the resulting polynomial along with the data given the data, a set of $x$ points and the coefficients from the first function.  Make sure to label your plot (both the axes and with a legend)."
   ]
  },
  {
   "cell_type": "code",
   "execution_count": 2,
   "metadata": {
    "collapsed": false,
    "nbgrader": {
     "grade": false,
     "grade_id": "A3",
     "locked": false,
     "solution": true
    }
   },
   "outputs": [],
   "source": [
    "def compute_lstsq(data, n):\n",
    "    \"\"\"This function returns the coefficients of the resulting polynomial in accending order of power.\n",
    "\n",
    "    Args:\n",
    "        data: The given data.\n",
    "        n: nth order\n",
    "\n",
    "    Returns:\n",
    "        p: coefficients of the resulting polynomial\n",
    "\n",
    "    Raises:\n",
    "        if the function doesn't receive valid input raise a ValueError\n",
    "\n",
    "    \"\"\"\n",
    "    x = data[:,0]\n",
    "    y = data[:,1]\n",
    "    m = len(x)\n",
    "    size = (m,n+1)\n",
    "    matrix = numpy.ones(size)\n",
    "    if m < n:\n",
    "        raise ValueError(\"Because N < N_p, so this doesn't work\")\n",
    "    for i in xrange(n+1):\n",
    "        matrix[:,i] = x**i\n",
    "    MT = matrix.transpose()\n",
    "    new_A = numpy.dot(MT, matrix)\n",
    "    new_y = numpy.dot(MT, y)\n",
    "    p = numpy.linalg.solve(new_A, new_y)\n",
    "    return p\n",
    "\n",
    "def plot_lstsq(data, x, p):\n",
    "    \"\"\"\n",
    "    This function plots the p returned from above function.\n",
    "    \"\"\"\n",
    "    x_data_set = data[:,0]\n",
    "    y_data_set = data[:,1]\n",
    "    new_y_data = 0.0\n",
    "    for i in xrange(0, n+1):\n",
    "        new_y_data += p[i]*x**i\n",
    "    fig = plt.figure()\n",
    "    axes = fig.add_subplot(1, 1, 1)\n",
    "\n",
    "    axes.plot(x_data_set, y_data_set, 'ko')\n",
    "    axes.plot(x, new_y_data, 'r')\n",
    "    axes.set_title(\"Least Squares Fit to Data\")\n",
    "    axes.set_xlabel(\"$x$\")\n",
    "    axes.set_ylabel(\"$f(x)$ and $y_i$\")\n",
    "\n",
    "    plt.show()\n",
    "    "
   ]
  },
  {
   "cell_type": "code",
   "execution_count": 3,
   "metadata": {
    "collapsed": false,
    "nbgrader": {
     "grade": true,
     "grade_id": "T3-a",
     "locked": true,
     "points": 5,
     "solution": false
    },
    "scrolled": false
   },
   "outputs": [
    {
     "name": "stdout",
     "output_type": "stream",
     "text": [
      "Success!\n"
     ]
    },
    {
     "data": {
      "image/png": "[encoded data removed]",
      "text/plain": [
       "<matplotlib.figure.Figure at 0x1035bd350>"
      ]
     },
     "metadata": {},
     "output_type": "display_data"
    }
   ],
   "source": [
    "try:\n",
    "    N = 5\n",
    "    N_p = 4\n",
    "    data = numpy.empty((N, 2))\n",
    "    data[:, 0] = numpy.random.uniform(size=N)\n",
    "    data[:, 0] = numpy.linspace(0.1, 0.9, N)\n",
    "    data[:, 1] = numpy.sin(numpy.exp(-data[:, 0]**2)) + numpy.random.uniform(size=N)\n",
    "    p = compute_lstsq(data, N_p)\n",
    "except ValueError as e:\n",
    "    raise e\n",
    "else:\n",
    "    P = numpy.zeros(N)\n",
    "    for n in xrange(N):\n",
    "        P += p[n] * data[:, 0]**n\n",
    "    numpy.testing.assert_allclose(P, data[:, 1])\n",
    "\n",
    "    print \"Success!\"\n",
    "\n",
    "    # Plot result\n",
    "    x = numpy.linspace(0.0, 1.0, 100)\n",
    "    plot_lstsq(data, x, p)\n",
    "    plt.show()"
   ]
  },
  {
   "cell_type": "code",
   "execution_count": 4,
   "metadata": {
    "collapsed": false,
    "nbgrader": {
     "grade": true,
     "grade_id": "T3-b",
     "locked": true,
     "points": 5,
     "solution": false
    }
   },
   "outputs": [
    {
     "name": "stdout",
     "output_type": "stream",
     "text": [
      "Success!\n"
     ]
    },
    {
     "data": {
      "image/png": "[encoded data removed]",
      "text/plain": [
       "<matplotlib.figure.Figure at 0x10aa9d190>"
      ]
     },
     "metadata": {},
     "output_type": "display_data"
    }
   ],
   "source": [
    "try:\n",
    "    N = 20\n",
    "    N_p = 4\n",
    "    data = numpy.empty((N, 2))\n",
    "    data[:, 0] = numpy.random.uniform(size=N)\n",
    "    data[:, 0] = numpy.linspace(0.1, 0.9, N)\n",
    "    data[:, 1] = numpy.sin(numpy.exp(-data[:, 0]**2)) + numpy.random.uniform(size=N)\n",
    "    p = compute_lstsq(data, N_p)\n",
    "except ValueError as e:\n",
    "    print e\n",
    "else:\n",
    "    A = numpy.vander(data[:,0], N_p + 1)\n",
    "    numpy.testing.assert_allclose(p, numpy.flipud(numpy.linalg.lstsq(A, data[:, 1])[0]))\n",
    "    print \"Success!\"\n",
    "\n",
    "    # Plot result\n",
    "    x = numpy.linspace(0.0, 1.0, 100)\n",
    "    plot_lstsq(data, x, p)\n",
    "    plt.show()"
   ]
  },
  {
   "cell_type": "code",
   "execution_count": 5,
   "metadata": {
    "collapsed": false,
    "nbgrader": {
     "grade": true,
     "grade_id": "T3-c",
     "locked": true,
     "points": 5,
     "solution": false
    }
   },
   "outputs": [
    {
     "name": "stdout",
     "output_type": "stream",
     "text": [
      "Because N < N_p, so this doesn't work\n"
     ]
    }
   ],
   "source": [
    "try:\n",
    "    N = 5\n",
    "    N_p = 6\n",
    "    data = numpy.empty((N, 2))\n",
    "    data[:, 0] = numpy.random.uniform(size=N)\n",
    "    data[:, 0] = numpy.linspace(0.1, 0.9, N)\n",
    "    data[:, 1] = numpy.sin(numpy.exp(-data[:, 0]**2)) + numpy.random.uniform(size=N)\n",
    "    p = compute_lstsq(data, N_p)\n",
    "except ValueError as e:\n",
    "    print e\n",
    "else:\n",
    "    A = numpy.vander(data[:,0], N_p + 1)\n",
    "    numpy.testing.assert_allclose(p, numpy.flipud(numpy.linalg.lstsq(A, data[:, 1])[0]))\n",
    "    print \"Success!\"\n",
    "\n",
    "    # Plot result\n",
    "    x = numpy.linspace(0.0, 1.0, 100)\n",
    "    plot_lstsq(data, x, p)\n",
    "    plt.show()\n",
    "    assert(False)"
   ]
  },
  {
   "cell_type": "markdown",
   "metadata": {
    "nbgrader": {
     "grade": false,
     "grade_id": "Q4",
     "locked": true,
     "solution": false
    }
   },
   "source": [
    "## Question 4\n",
    "\n",
    "Consider a square matrix that looks like\n",
    "$$\n",
    "    A = \\frac{1}{\\Delta x^2} \\begin{bmatrix}\n",
    "        -2 &  1 &  ~ &  ~ &  ~ &  ~ &  ~ \\\\\n",
    "         1 & -2 &  1 &  ~ &  ~ &  ~ &  ~ \\\\\n",
    "         ~ &  1 & -2 &  1 &  ~ &  ~ &  ~ \\\\\n",
    "         ~ &  ~ & \\ddots & \\ddots & \\ddots & ~ & ~\\\\\n",
    "         ~ &  ~ & ~ & 1 & -2 & 1 & ~ \\\\\n",
    "         ~ &  ~ & ~ & ~ & 1 & -2 & 1 \\\\\n",
    "         ~ &  ~ & ~ & ~ &  ~ & 1 & -2 \\\\\n",
    "    \\end{bmatrix}\n",
    "$$\n",
    "This matrix can be characterized as having $A_{ii} = -2$, $A_{ii-1} = A_{ii+1} = 1$ so that the \"main\" diagonal has the value -2 and the secondary-diagonals are 1 (these are the diagonals that are just above and below the main diagonal).  This matrix is from a discretization of the second derivative using a second order finite difference formula (hence the values of 1, -2, and 1 and the $\\Delta x^2$ factor) with boundary conditions set to 0.  "
   ]
  },
  {
   "cell_type": "markdown",
   "metadata": {
    "nbgrader": {
     "grade": false,
     "grade_id": "Q4-a",
     "locked": true,
     "solution": false
    }
   },
   "source": [
    "**(a)** (10 points) - Write a function that computes the eigenvalues of the matrix above using whatever functions you would like.  The function should take in the size of the matrix $m$ (the matrix should be square) and the value of $\\Delta x$ and return the eigenvalues."
   ]
  },
  {
   "cell_type": "code",
   "execution_count": 6,
   "metadata": {
    "collapsed": false,
    "nbgrader": {
     "grade": false,
     "grade_id": "A4-a",
     "locked": false,
     "solution": true
    }
   },
   "outputs": [],
   "source": [
    "def compute_eigenvalues(m, dx):\n",
    "    \"\"\"This function computes the eigenvalues of the matrix above.\n",
    "\n",
    "    Args:\n",
    "        m: The size of the matrix.\n",
    "        dx: the given value of delta x.\n",
    "\n",
    "    Returns:\n",
    "        eig_values: the eigenvalue of the matrix above.\n",
    "    \"\"\"\n",
    "    size = (m,m)\n",
    "    matrix = numpy.zeros(size)\n",
    "    \n",
    "    for i in xrange(m):\n",
    "        for j in xrange(m):\n",
    "            matrix[i,i] = -2.0\n",
    "            matrix[i,i-1] = 1.0\n",
    "            matrix[i-1,i] = 1.0\n",
    "    matrix[0,m-1] = 0\n",
    "    matrix[m-1, 0] = 0\n",
    "    A = matrix/(dx**2)\n",
    "    eig_values = numpy.linalg.eigvals(A)\n",
    "    return eig_values"
   ]
  },
  {
   "cell_type": "code",
   "execution_count": 7,
   "metadata": {
    "collapsed": false,
    "nbgrader": {
     "grade": true,
     "grade_id": "T4-a",
     "locked": true,
     "points": 10,
     "solution": false
    },
    "scrolled": false
   },
   "outputs": [
    {
     "name": "stdout",
     "output_type": "stream",
     "text": [
      "Success!\n"
     ]
    }
   ],
   "source": [
    "# Compare against analytical values\n",
    "m = 10\n",
    "dx = 1.0 / (m + 1)\n",
    "eig_values = numpy.flipud(numpy.sort(compute_eigenvalues(m, dx)))\n",
    "p = numpy.arange(1, m + 1)\n",
    "numpy.testing.assert_allclose(eig_values,\n",
    "    2.0 / dx**2 * (numpy.cos(p * numpy.pi * dx) - 1.0))\n",
    "print \"Success!\""
   ]
  },
  {
   "cell_type": "markdown",
   "metadata": {
    "nbgrader": {
     "grade": false,
     "grade_id": "Q4-b",
     "locked": true,
     "solution": false
    }
   },
   "source": [
    "**(b)** (5 points) - Plot the eigenvalues in the complex plane for $m=30$ and $\\Delta x = 1/31$.  Make sure to plot the axes and label everything appropriately."
   ]
  },
  {
   "cell_type": "code",
   "execution_count": 8,
   "metadata": {
    "collapsed": false,
    "nbgrader": {
     "grade": true,
     "grade_id": "A4-b",
     "locked": false,
     "points": 5,
     "solution": true
    }
   },
   "outputs": [
    {
     "data": {
      "image/png": "[encoded data removed]",
      "text/plain": [
       "<matplotlib.figure.Figure at 0x10ef3aa50>"
      ]
     },
     "metadata": {},
     "output_type": "display_data"
    }
   ],
   "source": [
    "### INSERT CODE HERE\n",
    "m =30\n",
    "dx = 1.0/31.0\n",
    "eigenvalues = compute_eigenvalues(m, dx)\n",
    "fig = plt.figure()\n",
    "axes = fig.add_subplot(1, 1, 1)\n",
    "\n",
    "axes.plot(eigenvalues.real, eigenvalues.imag, 'ko')\n",
    "\n",
    "axes.set_title(\"Eigenvalue in the complex plane\")\n",
    "axes.set_xlabel(\"$\\lambda$\")\n",
    "axes.set_ylabel(\"$\\lambda_i$\")\n",
    "\n",
    "plt.show()"
   ]
  },
  {
   "cell_type": "markdown",
   "metadata": {
    "nbgrader": {
     "grade": false,
     "grade_id": "Q4-c",
     "locked": true,
     "solution": false
    }
   },
   "source": [
    "**(c)** (10 points) - Think of the above matrix as specifying a system of ODEs.  The exact eigenvalues of the matrix are\n",
    "$$\n",
    "    \\lambda_p = \\frac{2}{\\Delta x^2} (\\cos(p \\pi \\Delta x) - 1)\n",
    "$$\n",
    "for $p = 1, \\ldots, m$.  Find an expression for $\\max_{p = 1, \\ldots, m} |\\lambda_p|$.  Based on our understanding of absolute stability what be the maximum time-step we could use for this system of ODEs if we used the forward Euler method?  What about for the backward Euler method?  How does this relate to the absolute stability regions of each method?  Feel free to use a plot of the stability regions to illustrate the point."
   ]
  },
  {
   "cell_type": "markdown",
   "metadata": {
    "nbgrader": {
     "grade": true,
     "grade_id": "A4-c",
     "locked": false,
     "points": 10,
     "solution": true
    }
   },
   "source": [
    "**Answer**\n",
    "\n",
    "To find the max absolute value of eigenvalues, we need to calculate $\\lambda_p$.\n",
    "\n",
    "From the test above, we know that $\\Delta x = \\frac{1}{m+1}$\n",
    "\n",
    "Plut it in the formula above, we have $$|\\lambda_p = \\frac{2}{\\Delta x^2}(cos(m\\pi\\frac{1}{m+1} - 1)|$$\n",
    "\n",
    "$$=|2(m+1)^2(cos(\\frac{m}{m+1}\\pi) - 1)|$$\n",
    "\n",
    "When m is large enough, we have $\\frac{m}{m+1} = 1$. Thus, we have $cos(\\pi) = -1$ and $$max|\\lambda_p| = 4(m+1)^2$$\n",
    "\n",
    "To find the maximum time-step, we use formula: $$|1 + \\Delta t \\lambda| \\leq 1$$ where $\\lambda$ satisfies the max $|\\lambda|$ value we found in the last question.\n",
    "\n",
    "Thus, we have:\n",
    "\n",
    "$$-1 \\leq 1 + \\Delta t \\lambda \\leq 1$$\n",
    "$$-2 \\leq \\Delta t\\lambda \\leq 0$$\n",
    "$$\\frac{-2}{\\lambda} \\leq \\Delta t \\leq 0$$\n",
    "\n",
    "Because the $\\lambda_p$ we found in last step is negative, and it's the minimum point of the function ($|\\lambda_p|$ is the max) we have:\n",
    "\n",
    "$$\\frac{1}{2(m+1)^2} \\geq \\Delta t$$\n",
    "\n",
    "So the maximum time-step we could use for this system of ODEs is $\\frac{1}{2(m+1)^2}$\n",
    "\n",
    "Let $z = \\Delta t\\lambda$. \n",
    "\n",
    "For backward Euler method, we have formula:\n",
    "\n",
    "$$\\begin{aligned}\n",
    "    0 &= U_{n+1} (1 - \\Delta t \\lambda) - U_n \\\\\n",
    "    &= \\xi (1 - z) - 1\n",
    "\\end{aligned}$$\n",
    "\n",
    "which has the root $\\xi = \\frac{1}{1 - z}$.  We then have\n",
    "\n",
    "$$\\left|\\frac{1}{1-z}\\right| \\leq 1 \\leftrightarrow |1 - z| \\geq 1$$\n",
    "\n",
    "Solve above equation we have $0 < \\Delta t$ or $\\Delta t < \\frac{2}{\\lambda}$. Since $\\lambda$ is negative except when $\\Delta x = 0$, we abandon the latter result. Thus, there is no maximum step for backward Euler method.\n",
    "\n",
    "For how they related to the absolute stability regions, we can check graphs below."
   ]
  },
  {
   "cell_type": "code",
   "execution_count": 4,
   "metadata": {
    "collapsed": false
   },
   "outputs": [
    {
     "name": "stdout",
     "output_type": "stream",
     "text": [
      "Forward Euler's method - Stability region tests\n",
      "  Inside of circle:  0.0\n",
      "  Outside of circle:  2.0\n",
      "Backward Euler's method - Stability region tests\n",
      "  Inside of circle:  2.0\n",
      "  Outside of circle:  0.0\n"
     ]
    },
    {
     "data": {
      "image/png": "[encoded data removed]",
      "text/plain": [
       "<matplotlib.figure.Figure at 0x10c884790>"
      ]
     },
     "metadata": {},
     "output_type": "display_data"
    }
   ],
   "source": [
    "theta = numpy.linspace(0.0, 2.0 * numpy.pi, 100)\n",
    "\n",
    "# ==================================\n",
    "#  Forward euler\n",
    "fig = plt.figure()\n",
    "fig.set_figwidth(fig.get_figwidth() * 2.0)\n",
    "fig.set_figheight(fig.get_figheight() * 2.0)\n",
    "axes = fig.add_subplot(2, 2, 1)\n",
    "x = numpy.linspace(-2, 2, 100)\n",
    "y = numpy.linspace(-2, 2, 100)\n",
    "X, Y = numpy.meshgrid(x, y)\n",
    "Z = X + 1j * Y\n",
    "\n",
    "# Evaluate which regions are actually in stability region\n",
    "print \"Forward Euler's method - Stability region tests\"\n",
    "z = -1 + 1j * 0\n",
    "print \"  Inside of circle: \", numpy.abs(1.0 + z)\n",
    "z = -3 + 1j * 0\n",
    "print \"  Outside of circle: \", numpy.abs(1.0 + z)\n",
    "\n",
    "axes.contour(X, Y, numpy.abs(1.0 + Z), levels=[1.0])\n",
    "axes.plot(x, numpy.zeros(x.shape),'k')\n",
    "axes.plot(numpy.zeros(y.shape), y,'k')\n",
    "axes.set_aspect('equal')\n",
    "axes.set_title(\"Forward Euler\")\n",
    "\n",
    "# ==================================\n",
    "#  Backwards Euler\n",
    "axes = fig.add_subplot(2, 2, 2)\n",
    "x = numpy.linspace(-2, 2, 100)\n",
    "y = numpy.linspace(-2, 2, 100)\n",
    "X, Y = numpy.meshgrid(x, y)\n",
    "Z = X + 1j * Y\n",
    "\n",
    "# Evaluate which regions are actually in stability region\n",
    "print \"Backward Euler's method - Stability region tests\"\n",
    "z = 1 + 1j * 0\n",
    "print \"  Inside of circle: \", numpy.abs(1.0 + z)\n",
    "z = -1 + 1j * 0\n",
    "print \"  Outside of circle: \", numpy.abs(1.0 + z)\n",
    "\n",
    "axes.contour(X, Y, numpy.abs(1.0 / (1.0 - Z)), levels=[1.0])\n",
    "axes.plot(x, numpy.zeros(x.shape),'k')\n",
    "axes.plot(numpy.zeros(y.shape), y,'k')\n",
    "axes.set_aspect('equal')\n",
    "axes.set_title(\"Backwards Euler\")\n",
    "\n",
    "\n",
    "plt.show()"
   ]
  },
  {
   "cell_type": "code",
   "execution_count": null,
   "metadata": {
    "collapsed": true
   },
   "outputs": [],
   "source": []
  }
 ],
 "metadata": {
  "anaconda-cloud": {},
  "celltoolbar": "Create Assignment",
  "kernelspec": {
   "display_name": "Python [Root]",
   "language": "python",
   "name": "Python [Root]"
  },
  "language_info": {
   "codemirror_mode": {
    "name": "ipython",
    "version": 2
   },
   "file_extension": ".py",
   "mimetype": "text/x-python",
   "name": "python",
   "nbconvert_exporter": "python",
   "pygments_lexer": "ipython2",
   "version": "2.7.12"
  },
  "latex_envs": {
   "bibliofile": "biblio.bib",
   "cite_by": "apalike",
   "current_citInitial": 1,
   "eqLabelWithNumbers": true,
   "eqNumInitial": 0
  }
 },
 "nbformat": 4,
 "nbformat_minor": 0
}
